{
 "cells": [
  {
   "cell_type": "code",
   "execution_count": 1,
   "metadata": {},
   "outputs": [],
   "source": [
    "from qiskit import QuantumCircuit, ClassicalRegister, QuantumRegister\n",
    "import numpy as np\n",
    "import qiskit\n",
    "%matplotlib inline\n",
    "import random"
   ]
  },
  {
   "cell_type": "code",
   "execution_count": 21,
   "metadata": {},
   "outputs": [
    {
     "name": "stdout",
     "output_type": "stream",
     "text": [
      "K1 : [1, 1, 0, 0, 1, 1, 1, 1, 1, 0, 0, 1]\n",
      "K2 : [0, 0, 0, 0, 0, 0, 0, 0, 0, 0, 1, 1]\n",
      "SK : [0, 0, 0, 1, 0, 0, 0, 0]\n",
      "SK_K1 : [0, 0, 0, 1, 0, 0, 0, 0, 1, 1, 0, 0, 1, 1, 1, 1, 1, 0, 0, 1]\n",
      "5\n",
      "str1 = ['00010', '00011', '00111', '11001']\n",
      "str2 = [2, 3, 7, 25]\n",
      "Hstr = [1, 0, 0, 0]\n",
      "hsk = [1, 0, 0, 0]\n",
      "Sa : [0, 0, 0, 1, 0, 0, 0, 0, 1, 0, 0, 0]\n"
     ]
    }
   ],
   "source": [
    "# Pre-shared key K1 (n+m 0 or 1) and K2 (n+m 0 or 1)\n",
    "\n",
    "# Step1 : Alice generates SK(distributed session key) (n 0 or 1)\n",
    "#         Hash(SK||K1)=hsk (m 0 or 1)\n",
    "#         SK||hsk = Sa (n+m 0 or 1)\n",
    "\n",
    "def random_01str(list1,length):\n",
    "    for i in range(length):\n",
    "        list1.append(random.randint(0,1))\n",
    "        \n",
    "n = 8\n",
    "m = 4\n",
    "\n",
    "K1=[]\n",
    "K1.clear()\n",
    "random_01str(K1,n+m)\n",
    "print(\"K1 : {}\".format(K1))\n",
    "\n",
    "K2=[]\n",
    "K2.clear()\n",
    "random_01str(K2,n+m)\n",
    "print(\"K2 : {}\".format(K2))\n",
    "\n",
    "# Alice\n",
    "\n",
    "SK=[]\n",
    "SK.clear()\n",
    "random_01str(SK,n)\n",
    "print(\"SK : {}\".format(SK))\n",
    "\n",
    "SK_K1=[]\n",
    "SK_K1.clear()\n",
    "SK_K1.extend(SK+K1)\n",
    "print(\"SK_K1 : {}\".format(SK_K1))\n",
    "\n",
    "\n",
    "print((2*n+m)//m) # --> each group's length\n",
    "# m --> length in Hash\n",
    "\n",
    "# Hash()\n",
    "def Hash_preshared(list1,group,length,list2):\n",
    "    list3=[]\n",
    "    for i in range(length):\n",
    "        str3=\"\"\n",
    "        for j in range(group):\n",
    "            str3+=f'{list1[group*i+j]}'\n",
    "        list3.append(str3)\n",
    "    print(\"str1 = {}\".format(list3))\n",
    "    \n",
    "    list5=[]\n",
    "    for i in range(length):\n",
    "        list5.append(int(list3[i],2))\n",
    "    print(\"str2 = {}\".format(list5))\n",
    "    \n",
    "    list6=[]\n",
    "    for i in range(length):\n",
    "        list6.append((3*int(list3[i],2)+5)%2)\n",
    "    print(\"Hstr = {}\".format(list6))\n",
    "    \n",
    "    list2.extend(list6)\n",
    "    \n",
    "\n",
    "        \n",
    "        \n",
    "\n",
    "hsk=[]\n",
    "hsk.clear()\n",
    "Hash_preshared(SK_K1,(2*n+m)//m,m,hsk)\n",
    "print(\"hsk = {}\".format(hsk))\n",
    "\n",
    "\n",
    "Sa=[]\n",
    "Sa.clear()\n",
    "Sa.extend(SK+hsk)\n",
    "print(\"Sa : {}\".format(Sa))"
   ]
  },
  {
   "cell_type": "code",
   "execution_count": 26,
   "metadata": {},
   "outputs": [
    {
     "name": "stdout",
     "output_type": "stream",
     "text": [
      "Ca : [1, 1, 0, 0, 1, 0, 0, 1, 0, 1, 1, 1]\n",
      "Cb : [1, 1, 0, 0, 1, 0, 0, 1, 0, 1, 1, 1]\n",
      "K3 : [1, 0, 1, 0, 0, 0, 0, 0, 1, 0, 1, 0, 1, 0, 1, 0, 1, 0, 0, 0, 0, 1, 1, 1]\n"
     ]
    }
   ],
   "source": [
    "# Step2 : Alice prepares Ca (n+m 0 or 1), Cb (=Ca)\n",
    "#         insert Cb (|0> or |1>) into Sa (|0> or |1>) based on K1 (0 left, 1 right) --> Sa'(2n+2m 0 or 1)\n",
    "#         K3 (2n+2m 0 or 1), K3[i] = K1[i],K2[i], K3 --> I(0),H(1)\n",
    "#         send Sa' to Bob\n",
    "\n",
    "Ca=[]\n",
    "Ca.clear()\n",
    "random_01str(Ca,n+m)\n",
    "print(\"Ca : {}\".format(Ca))\n",
    "\n",
    "Cb=[]\n",
    "Cb.clear()\n",
    "Cb.extend(Ca)\n",
    "print(\"Cb : {}\".format(Cb))\n",
    "\n",
    "\n",
    "K3=[]\n",
    "K3.clear()\n",
    "for i in range(n+m):\n",
    "    K3.append(K1[i])\n",
    "    K3.append(K2[i])\n",
    "    \n",
    "print(\"K3 : {}\".format(K3))"
   ]
  },
  {
   "cell_type": "code",
   "execution_count": 30,
   "metadata": {},
   "outputs": [
    {
     "data": {
      "text/plain": [
       "<qiskit.extensions.standard.barrier.Barrier at 0x7ff530474940>"
      ]
     },
     "execution_count": 30,
     "metadata": {},
     "output_type": "execute_result"
    }
   ],
   "source": [
    "# generate one qubit\n",
    "\n",
    "q = QuantumRegister(1,'q')\n",
    "c = ClassicalRegister(2,'c')\n",
    "\n",
    "# Alice\n",
    "\n",
    "Alice_circ0 = QuantumCircuit(q,c)  # |0>\n",
    "Alice_circ0.barrier(q)\n",
    "\n",
    "Alice_circ1 = QuantumCircuit(q,c)  # |1>\n",
    "Alice_circ1.x(q[0])\n",
    "Alice_circ1.barrier(q)\n",
    "\n",
    "\n",
    "#Alice_circ0.draw()\n",
    "#Alice_circ1.draw()\n",
    "\n",
    "K3_I_circ = QuantumCircuit(q,c)  # I operation\n",
    "K3_I_circ.iden(q[0])\n",
    "K3_I_circ.barrier(q)\n",
    "\n",
    "K3_H_circ = QuantumCircuit(q,c)  # H operation\n",
    "K3_H_circ.h(q[0])\n",
    "K3_H_circ.barrier(q)\n",
    "\n",
    "#K3_I_circ.draw()\n",
    "#K3_H_circ.draw()"
   ]
  },
  {
   "cell_type": "code",
   "execution_count": 42,
   "metadata": {},
   "outputs": [
    {
     "name": "stdout",
     "output_type": "stream",
     "text": [
      "length of circuits_Sa2 : 24\n"
     ]
    },
    {
     "data": {
      "text/html": [
       "<pre style=\"word-wrap: normal;white-space: pre;line-height: 15px;\">         ░ ┌───┐ ░ \n",
       "q_0: |0>─░─┤ H ├─░─\n",
       "         ░ └───┘ ░ \n",
       " c_0: 0 ═══════════\n",
       "                   \n",
       " c_1: 0 ═══════════\n",
       "                   </pre>"
      ],
      "text/plain": [
       "<qiskit.visualization.text.TextDrawing at 0x7ff52faa7da0>"
      ]
     },
     "execution_count": 42,
     "metadata": {},
     "output_type": "execute_result"
    }
   ],
   "source": [
    "# generate circuits\n",
    "\n",
    "Alice_circ=[Alice_circ0,Alice_circ1]\n",
    "K3_circ=[K3_I_circ,K3_H_circ]\n",
    "\n",
    "circuits_Sa2=[]\n",
    "circuits_Sa2.clear()\n",
    "\n",
    "for i in range(n+m):\n",
    "    if K1[i]==0: # Cb , Sa\n",
    "        circuits_Sa2.append(Alice_circ[Cb[i]] + K3_circ[K3[2*i]])\n",
    "        circuits_Sa2.append(Alice_circ[Sa[i]] + K3_circ[K3[2*i+1]])\n",
    "    else: # Sa , Cb\n",
    "        circuits_Sa2.append(Alice_circ[Sa[i]] + K3_circ[K3[2*i]])\n",
    "        circuits_Sa2.append(Alice_circ[Cb[i]] + K3_circ[K3[2*i+1]])\n",
    "\n",
    "\n",
    "print(\"length of circuits_Sa2 : {}\".format(len(circuits_Sa2)))\n",
    "circuits_Sa2[0].draw()"
   ]
  },
  {
   "cell_type": "code",
   "execution_count": 45,
   "metadata": {},
   "outputs": [
    {
     "name": "stdout",
     "output_type": "stream",
     "text": [
      "length of circuits_step3_1 : 24\n"
     ]
    },
    {
     "data": {
      "text/html": [
       "<pre style=\"word-wrap: normal;white-space: pre;line-height: 15px;\">         ░ ┌───┐ ░ ┌───┐ ░ \n",
       "q_0: |0>─░─┤ H ├─░─┤ H ├─░─\n",
       "         ░ └───┘ ░ └───┘ ░ \n",
       " c_0: 0 ═══════════════════\n",
       "                           \n",
       " c_1: 0 ═══════════════════\n",
       "                           </pre>"
      ],
      "text/plain": [
       "<qiskit.visualization.text.TextDrawing at 0x7ff52fb19e48>"
      ]
     },
     "execution_count": 45,
     "metadata": {},
     "output_type": "execute_result"
    }
   ],
   "source": [
    "# Step3 : Bob operates I(0),H(1) based on K3\n",
    "#         measure Sa to get SK' , hsk'.  resend |0>,|1> to Alice depend on result\n",
    "#         measure(1) or reflect(0) Cb based on K2.  return opposite state of measurement.\n",
    "#         (if result of measurement is 0, return |1>.)\n",
    "\n",
    "circuits_step3_1=[]\n",
    "circuits_step3_1.clear()\n",
    "\n",
    "for i in range(n+m):\n",
    "    if K1[i]==0: # Cb , Sa\n",
    "        circuits_step3_1.append(circuits_Sa2[2*i] + K3_circ[K3[2*i]])\n",
    "        circuits_step3_1.append(circuits_Sa2[2*i+1] + K3_circ[K3[2*i+1]])\n",
    "    else: # Sa , Cb\n",
    "        circuits_step3_1.append(circuits_Sa2[2*i] + K3_circ[K3[2*i]])\n",
    "        circuits_step3_1.append(circuits_Sa2[2*i+1] + K3_circ[K3[2*i+1]])\n",
    "\n",
    "\n",
    "print(\"length of circuits_step3_1 : {}\".format(len(circuits_step3_1)))\n",
    "circuits_step3_1[0].draw()"
   ]
  },
  {
   "cell_type": "code",
   "execution_count": 54,
   "metadata": {},
   "outputs": [
    {
     "data": {
      "text/html": [
       "<pre style=\"word-wrap: normal;white-space: pre;line-height: 15px;\">        ┌─┐\n",
       "q_0: |0>┤M├\n",
       "        └╥┘\n",
       " c_0: 0 ═╩═\n",
       "           \n",
       " c_1: 0 ═══\n",
       "           </pre>"
      ],
      "text/plain": [
       "<qiskit.visualization.text.TextDrawing at 0x7ff52faeb9b0>"
      ]
     },
     "execution_count": 54,
     "metadata": {},
     "output_type": "execute_result"
    }
   ],
   "source": [
    "# Z measurement\n",
    "\n",
    "Bob_Z_measurement = QuantumCircuit(q,c) # Z basis\n",
    "Bob_Z_measurement.measure(q[0],c[0])\n",
    "\n",
    "# not measure\n",
    "\n",
    "Bob_not_measure = QuantumCircuit(q,c)\n",
    "\n",
    "\n",
    "Bob_Z_measurement.draw()\n",
    "#Bob_not_measure.draw()"
   ]
  },
  {
   "cell_type": "code",
   "execution_count": 58,
   "metadata": {},
   "outputs": [
    {
     "name": "stdout",
     "output_type": "stream",
     "text": [
      "length of circuits_step3_Cb : 12\n"
     ]
    },
    {
     "data": {
      "text/html": [
       "<pre style=\"word-wrap: normal;white-space: pre;line-height: 15px;\">        ┌───┐ ░ ┌────┐ ░ ┌────┐ ░ ┌─┐\n",
       "q_0: |0>┤ X ├─░─┤ Id ├─░─┤ Id ├─░─┤M├\n",
       "        └───┘ ░ └────┘ ░ └────┘ ░ └╥┘\n",
       " c_0: 0 ═══════════════════════════╩═\n",
       "                                     \n",
       " c_1: 0 ═════════════════════════════\n",
       "                                     </pre>"
      ],
      "text/plain": [
       "<qiskit.visualization.text.TextDrawing at 0x7ff52faa64e0>"
      ]
     },
     "execution_count": 58,
     "metadata": {},
     "output_type": "execute_result"
    }
   ],
   "source": [
    "Bob_measure_circ=[Bob_not_measure,Bob_Z_measurement]\n",
    "\n",
    "circuits_step3_Sa=[]\n",
    "circuits_step3_Sa.clear()\n",
    "\n",
    "circuits_step3_Cb=[]\n",
    "circuits_step3_Cb.clear()\n",
    "\n",
    "for i in range(n+m):\n",
    "    if K1[i]==0: # Cb , Sa\n",
    "        circuits_step3_Cb.append(circuits_step3_1[2*i] + Bob_measure_circ[K2[i]])\n",
    "        circuits_step3_Sa.append(circuits_step3_1[2*i+1] + Bob_Z_measurement)\n",
    "    else: # Sa , Cb\n",
    "        circuits_step3_Sa.append(circuits_step3_1[2*i] + Bob_Z_measurement)\n",
    "        circuits_step3_Cb.append(circuits_step3_1[2*i+1] + Bob_measure_circ[K2[i]])\n",
    "\n",
    "\n",
    "#print(\"length of circuits_step3_Sa : {}\".format(len(circuits_step3_Sa)))\n",
    "#circuits_step3_Sa[0].draw()\n",
    "\n",
    "print(\"length of circuits_step3_Cb : {}\".format(len(circuits_step3_Cb)))\n",
    "circuits_step3_Cb[10].draw()"
   ]
  },
  {
   "cell_type": "code",
   "execution_count": 59,
   "metadata": {},
   "outputs": [
    {
     "name": "stdout",
     "output_type": "stream",
     "text": [
      "{'00': 1024}\n"
     ]
    }
   ],
   "source": [
    "from qiskit import execute, BasicAer\n",
    "backend_sim = BasicAer.get_backend('qasm_simulator')\n",
    "\n",
    "job_sim1 = qiskit.execute(circuits_step3_Sa, backend_sim, shots=1024)\n",
    "result_sim1 = job_sim1.result()\n",
    "counts1 = result_sim1.get_counts(circuits_step3_Sa[0])\n",
    "print(counts1)"
   ]
  },
  {
   "cell_type": "code",
   "execution_count": 60,
   "metadata": {},
   "outputs": [
    {
     "name": "stdout",
     "output_type": "stream",
     "text": [
      "Bob_measure_Sa_result = [0, 0, 0, 1, 0, 0, 0, 0, 1, 0, 0, 0]\n"
     ]
    }
   ],
   "source": [
    "# get result of Bob measuring Sa\n",
    "\n",
    "Bob_measure_Sa_result=[]\n",
    "Bob_measure_Sa_result.clear()\n",
    "\n",
    "for i in range(n+m):\n",
    "    Bob_measure_Sa_result.append(int((list(result_sim1.get_counts(circuits_step3_Sa[i]))[0])[1]))\n",
    "    \n",
    "print(\"Bob_measure_Sa_result = {}\".format(Bob_measure_Sa_result))"
   ]
  },
  {
   "cell_type": "code",
   "execution_count": 126,
   "metadata": {},
   "outputs": [
    {
     "name": "stdout",
     "output_type": "stream",
     "text": [
      "SK2 = [0, 0, 0, 1, 0, 0, 0, 0]\n",
      "hsk2 = [1, 0, 0, 0]\n"
     ]
    }
   ],
   "source": [
    "# Bob gets SK', hsk'\n",
    "\n",
    "SK2=[]\n",
    "SK2.clear()\n",
    "\n",
    "hsk2=[]\n",
    "hsk2.clear()\n",
    "\n",
    "for i in range(n+m):\n",
    "    if i <n:\n",
    "        SK2.append(Bob_measure_Sa_result[i])\n",
    "    else:\n",
    "        hsk2.append(Bob_measure_Sa_result[i])\n",
    "        \n",
    "        \n",
    "print(\"SK2 = {}\".format(SK2))\n",
    "print(\"hsk2 = {}\".format(hsk2))"
   ]
  },
  {
   "cell_type": "code",
   "execution_count": 65,
   "metadata": {},
   "outputs": [
    {
     "data": {
      "text/html": [
       "<pre style=\"word-wrap: normal;white-space: pre;line-height: 15px;\">             ┌───┐ ░ \n",
       "q_0: |0>─|0>─┤ X ├─░─\n",
       "             └───┘ ░ \n",
       " c_0: 0 ═════════════\n",
       "                     \n",
       " c_1: 0 ═════════════\n",
       "                     </pre>"
      ],
      "text/plain": [
       "<qiskit.visualization.text.TextDrawing at 0x7ff52faebfd0>"
      ]
     },
     "execution_count": 65,
     "metadata": {},
     "output_type": "execute_result"
    }
   ],
   "source": [
    "resend_0_circ = QuantumCircuit(q,c)  # resend |0>\n",
    "resend_0_circ.reset(q[0])\n",
    "resend_0_circ.barrier(q)\n",
    "\n",
    "resend_1_circ = QuantumCircuit(q,c)  # resend |1>\n",
    "resend_1_circ.reset(q[0])\n",
    "resend_1_circ.x(q[0])\n",
    "resend_1_circ.barrier(q)\n",
    "\n",
    "\n",
    "#resend_0_circ.draw()\n",
    "resend_1_circ.draw()"
   ]
  },
  {
   "cell_type": "code",
   "execution_count": 68,
   "metadata": {},
   "outputs": [
    {
     "name": "stdout",
     "output_type": "stream",
     "text": [
      "length of circuits_step3_Sa_resend : 12\n"
     ]
    },
    {
     "data": {
      "text/html": [
       "<pre style=\"word-wrap: normal;white-space: pre;line-height: 15px;\">        ┌───┐ ░ ┌───┐ ░ ┌───┐ ░ ┌─┐     ┌───┐ ░ \n",
       "q_0: |0>┤ X ├─░─┤ H ├─░─┤ H ├─░─┤M├─|0>─┤ X ├─░─\n",
       "        └───┘ ░ └───┘ ░ └───┘ ░ └╥┘     └───┘ ░ \n",
       " c_0: 0 ═════════════════════════╩══════════════\n",
       "                                                \n",
       " c_1: 0 ════════════════════════════════════════\n",
       "                                                </pre>"
      ],
      "text/plain": [
       "<qiskit.visualization.text.TextDrawing at 0x7ff52fa49668>"
      ]
     },
     "execution_count": 68,
     "metadata": {},
     "output_type": "execute_result"
    }
   ],
   "source": [
    "Bob_resend_circ=[resend_0_circ,resend_1_circ]\n",
    "\n",
    "circuits_step3_Sa_resend=[]\n",
    "circuits_step3_Sa_resend.clear()\n",
    "\n",
    "for i in range(n+m):\n",
    "    circuits_step3_Sa_resend.append(circuits_step3_Sa[i] + Bob_resend_circ[Bob_measure_Sa_result[i]])\n",
    "    \n",
    "    \n",
    "print(\"length of circuits_step3_Sa_resend : {}\".format(len(circuits_step3_Sa_resend)))\n",
    "circuits_step3_Sa_resend[8].draw()"
   ]
  },
  {
   "cell_type": "code",
   "execution_count": 71,
   "metadata": {},
   "outputs": [
    {
     "name": "stdout",
     "output_type": "stream",
     "text": [
      "length of circuits_step3_Cb_measure : 2\n",
      "length of circuits_step3_Cb_reflect : 10\n"
     ]
    },
    {
     "data": {
      "text/html": [
       "<pre style=\"word-wrap: normal;white-space: pre;line-height: 15px;\">        ┌───┐ ░ ┌────┐ ░ ┌────┐ ░ ┌─┐\n",
       "q_0: |0>┤ X ├─░─┤ Id ├─░─┤ Id ├─░─┤M├\n",
       "        └───┘ ░ └────┘ ░ └────┘ ░ └╥┘\n",
       " c_0: 0 ═══════════════════════════╩═\n",
       "                                     \n",
       " c_1: 0 ═════════════════════════════\n",
       "                                     </pre>"
      ],
      "text/plain": [
       "<qiskit.visualization.text.TextDrawing at 0x7ff52fa475f8>"
      ]
     },
     "execution_count": 71,
     "metadata": {},
     "output_type": "execute_result"
    }
   ],
   "source": [
    "circuits_step3_Cb_measure=[]\n",
    "circuits_step3_Cb_measure.clear()\n",
    "\n",
    "circuits_step3_Cb_reflect=[]\n",
    "circuits_step3_Cb_reflect.clear()\n",
    "\n",
    "for i in range(n+m):\n",
    "    if K2[i]==1:\n",
    "        circuits_step3_Cb_measure.append(circuits_step3_Cb[i])\n",
    "    else:\n",
    "        circuits_step3_Cb_reflect.append(circuits_step3_Cb[i])\n",
    "        \n",
    "    \n",
    "print(\"length of circuits_step3_Cb_measure : {}\".format(len(circuits_step3_Cb_measure)))\n",
    "print(\"length of circuits_step3_Cb_reflect : {}\".format(len(circuits_step3_Cb_reflect)))\n",
    "\n",
    "circuits_step3_Cb_measure[0].draw()\n",
    "#circuits_step3_Cb_reflect[0].draw()"
   ]
  },
  {
   "cell_type": "code",
   "execution_count": 72,
   "metadata": {},
   "outputs": [
    {
     "name": "stdout",
     "output_type": "stream",
     "text": [
      "{'01': 1024}\n"
     ]
    }
   ],
   "source": [
    "job_sim2 = qiskit.execute(circuits_step3_Cb_measure, backend_sim, shots=1024)\n",
    "result_sim2 = job_sim2.result()\n",
    "counts2 = result_sim2.get_counts(circuits_step3_Cb_measure[0])\n",
    "print(counts2)"
   ]
  },
  {
   "cell_type": "code",
   "execution_count": 73,
   "metadata": {},
   "outputs": [
    {
     "name": "stdout",
     "output_type": "stream",
     "text": [
      "Bob_measure_Cb_result = [1, 1]\n"
     ]
    }
   ],
   "source": [
    "# get result of Bob measuring part of Cb\n",
    "\n",
    "Bob_measure_Cb_result=[]\n",
    "Bob_measure_Cb_result.clear()\n",
    "\n",
    "for i in range(len(circuits_step3_Cb_measure)):\n",
    "    Bob_measure_Cb_result.append(int((list(result_sim2.get_counts(circuits_step3_Cb_measure[i]))[0])[1]))\n",
    "    \n",
    "print(\"Bob_measure_Cb_result = {}\".format(Bob_measure_Cb_result))"
   ]
  },
  {
   "cell_type": "code",
   "execution_count": 76,
   "metadata": {},
   "outputs": [
    {
     "name": "stdout",
     "output_type": "stream",
     "text": [
      "length of circuits_step3_Cb_resend : 2\n"
     ]
    },
    {
     "data": {
      "text/html": [
       "<pre style=\"word-wrap: normal;white-space: pre;line-height: 15px;\">        ┌───┐ ░ ┌────┐ ░ ┌────┐ ░ ┌─┐      ░ \n",
       "q_0: |0>┤ X ├─░─┤ Id ├─░─┤ Id ├─░─┤M├─|0>──░─\n",
       "        └───┘ ░ └────┘ ░ └────┘ ░ └╥┘      ░ \n",
       " c_0: 0 ═══════════════════════════╩═════════\n",
       "                                             \n",
       " c_1: 0 ═════════════════════════════════════\n",
       "                                             </pre>"
      ],
      "text/plain": [
       "<qiskit.visualization.text.TextDrawing at 0x7ff52e9e0940>"
      ]
     },
     "execution_count": 76,
     "metadata": {},
     "output_type": "execute_result"
    }
   ],
   "source": [
    "circuits_step3_Cb_resend=[]\n",
    "circuits_step3_Cb_resend.clear()\n",
    "\n",
    "for i in range(len(circuits_step3_Cb_measure)):\n",
    "    circuits_step3_Cb_resend.append(circuits_step3_Cb_measure[i] + Bob_resend_circ[not(Bob_measure_Cb_result[i])])\n",
    "    \n",
    "    \n",
    "print(\"length of circuits_step3_Cb_resend : {}\".format(len(circuits_step3_Cb_resend)))\n",
    "circuits_step3_Cb_resend[0].draw()"
   ]
  },
  {
   "cell_type": "code",
   "execution_count": 79,
   "metadata": {},
   "outputs": [
    {
     "name": "stdout",
     "output_type": "stream",
     "text": [
      "length of circuits_step3_Cb_combine : 12\n"
     ]
    },
    {
     "data": {
      "text/html": [
       "<pre style=\"word-wrap: normal;white-space: pre;line-height: 15px;\">        ┌───┐ ░ ┌───┐ ░ ┌───┐ ░ ┌─┐      ░ \n",
       "q_0: |0>┤ X ├─░─┤ H ├─░─┤ H ├─░─┤M├─|0>──░─\n",
       "        └───┘ ░ └───┘ ░ └───┘ ░ └╥┘      ░ \n",
       " c_0: 0 ═════════════════════════╩═════════\n",
       "                                           \n",
       " c_1: 0 ═══════════════════════════════════\n",
       "                                           </pre>"
      ],
      "text/plain": [
       "<qiskit.visualization.text.TextDrawing at 0x7ff52e9e04e0>"
      ]
     },
     "execution_count": 79,
     "metadata": {},
     "output_type": "execute_result"
    }
   ],
   "source": [
    "# prepare to send to Alice, combine Sa and two parts of Cb\n",
    "\n",
    "circuits_step3_Cb_combine=[]\n",
    "circuits_step3_Cb_combine.clear()\n",
    "\n",
    "counter_cb_resend = len(circuits_step3_Cb_resend)\n",
    "counter_cb_reflect = len(circuits_step3_Cb_reflect)\n",
    "\n",
    "for i in range(n+m):\n",
    "    if K2[i]==1:\n",
    "        circuits_step3_Cb_combine.append(circuits_step3_Cb_resend[len(circuits_step3_Cb_resend)-counter_cb_resend])\n",
    "        counter_cb_resend=counter_cb_resend-1\n",
    "    else:\n",
    "        circuits_step3_Cb_combine.append(circuits_step3_Cb_reflect[len(circuits_step3_Cb_reflect)-counter_cb_reflect])\n",
    "        counter_cb_reflect=counter_cb_reflect-1\n",
    "        \n",
    "    \n",
    "print(\"length of circuits_step3_Cb_combine : {}\".format(len(circuits_step3_Cb_combine)))\n",
    "\n",
    "circuits_step3_Cb_combine[11].draw()"
   ]
  },
  {
   "cell_type": "code",
   "execution_count": 89,
   "metadata": {},
   "outputs": [
    {
     "name": "stdout",
     "output_type": "stream",
     "text": [
      "length of circuits_step3_send_to_Alice : 24\n"
     ]
    },
    {
     "data": {
      "text/html": [
       "<pre style=\"word-wrap: normal;white-space: pre;line-height: 15px;\">         ░ ┌───┐ ░ ┌───┐ ░ ┌─┐      ░ ┌───┐ ░ \n",
       "q_0: |0>─░─┤ H ├─░─┤ H ├─░─┤M├─|0>──░─┤ H ├─░─\n",
       "         ░ └───┘ ░ └───┘ ░ └╥┘      ░ └───┘ ░ \n",
       " c_0: 0 ════════════════════╩═════════════════\n",
       "                                              \n",
       " c_1: 0 ══════════════════════════════════════\n",
       "                                              </pre>"
      ],
      "text/plain": [
       "<qiskit.visualization.text.TextDrawing at 0x7ff52ea01ef0>"
      ]
     },
     "execution_count": 89,
     "metadata": {},
     "output_type": "execute_result"
    }
   ],
   "source": [
    "# circuits_step3_Sa_resend + circuits_step3_Cb_combine  \n",
    "# operates I(0),H(1) based on K3, then send.\n",
    "\n",
    "circuits_step3_send_to_Alice=[]                            \n",
    "circuits_step3_send_to_Alice.clear()\n",
    "\n",
    "for i in range(n+m):\n",
    "    if K1[i]==0: # Cb , Sa\n",
    "        circuits_step3_send_to_Alice.append(circuits_step3_Cb_combine[i] + K3_circ[K3[2*i]])\n",
    "        circuits_step3_send_to_Alice.append(circuits_step3_Sa_resend[i] + K3_circ[K3[2*i+1]])\n",
    "    else: # Sa , Cb\n",
    "        circuits_step3_send_to_Alice.append(circuits_step3_Sa_resend[i] + K3_circ[K3[2*i]])\n",
    "        circuits_step3_send_to_Alice.append(circuits_step3_Cb_combine[i] + K3_circ[K3[2*i+1]])\n",
    "\n",
    "\n",
    "print(\"length of circuits_step3_send_to_Alice : {}\".format(len(circuits_step3_send_to_Alice)))\n",
    "circuits_step3_send_to_Alice[0].draw()"
   ]
  },
  {
   "cell_type": "code",
   "execution_count": 95,
   "metadata": {},
   "outputs": [
    {
     "name": "stdout",
     "output_type": "stream",
     "text": [
      "length of circuits_step4_1 : 24\n"
     ]
    },
    {
     "data": {
      "text/html": [
       "<pre style=\"word-wrap: normal;white-space: pre;line-height: 15px;\">         ░ ┌───┐ ░ ┌───┐ ░ ┌─┐      ░ ┌───┐ ░ ┌───┐┌─┐\n",
       "q_0: |0>─░─┤ H ├─░─┤ H ├─░─┤M├─|0>──░─┤ H ├─░─┤ H ├┤M├\n",
       "         ░ └───┘ ░ └───┘ ░ └╥┘      ░ └───┘ ░ └───┘└╥┘\n",
       " c_0: 0 ════════════════════╩═══════════════════════╩═\n",
       "                                                      \n",
       " c_1: 0 ══════════════════════════════════════════════\n",
       "                                                      </pre>"
      ],
      "text/plain": [
       "<qiskit.visualization.text.TextDrawing at 0x7ff52e9a0f98>"
      ]
     },
     "execution_count": 95,
     "metadata": {},
     "output_type": "execute_result"
    }
   ],
   "source": [
    "# Step4 : Alice checks\n",
    "#         [operates I(0),H(1) based on K3  , then Z measurement] or [Z(0) or X(1) measurement based on K3]\n",
    "\n",
    "circuits_step4_1=[]\n",
    "circuits_step4_1.clear()\n",
    "\n",
    "# Z measurement\n",
    "Alice_Z_measurement = QuantumCircuit(q,c) # Z basis\n",
    "Alice_Z_measurement.measure(q[0],c[0])\n",
    "\n",
    "# X measurement\n",
    "Alice_X_measurement = QuantumCircuit(q,c) # X basis\n",
    "Alice_X_measurement.h(q[0])\n",
    "Alice_X_measurement.measure(q[0],c[0])\n",
    "\n",
    "\n",
    "Alice_measurement_circ=[Alice_Z_measurement,Alice_X_measurement]\n",
    "\n",
    "\n",
    "for i in range(n+m):\n",
    "    if K1[i]==0: # Cb , Sa\n",
    "        circuits_step4_1.append(circuits_step3_send_to_Alice[2*i] + Alice_measurement_circ[K3[2*i]])     # + K3_circ[K3[2*i]]\n",
    "        circuits_step4_1.append(circuits_step3_send_to_Alice[2*i+1] + Alice_measurement_circ[K3[2*i+1]]) # + K3_circ[K3[2*i+1]]\n",
    "    else: # Sa , Cb\n",
    "        circuits_step4_1.append(circuits_step3_send_to_Alice[2*i] + Alice_measurement_circ[K3[2*i]])\n",
    "        circuits_step4_1.append(circuits_step3_send_to_Alice[2*i+1] + Alice_measurement_circ[K3[2*i+1]])\n",
    "\n",
    "\n",
    "print(\"length of circuits_step4_1 : {}\".format(len(circuits_step4_1)))\n",
    "circuits_step4_1[0].draw()"
   ]
  },
  {
   "cell_type": "code",
   "execution_count": 96,
   "metadata": {},
   "outputs": [
    {
     "name": "stdout",
     "output_type": "stream",
     "text": [
      "{'00': 1024}\n"
     ]
    }
   ],
   "source": [
    "job_sim3 = qiskit.execute(circuits_step4_1, backend_sim, shots=1024)\n",
    "result_sim3 = job_sim3.result()\n",
    "counts3 = result_sim3.get_counts(circuits_step4_1[0])\n",
    "print(counts3)"
   ]
  },
  {
   "cell_type": "code",
   "execution_count": 122,
   "metadata": {},
   "outputs": [
    {
     "name": "stdout",
     "output_type": "stream",
     "text": [
      "length of Alice_measure_result = 24\n",
      "Alice_measure_result = [0, 1, 0, 1, 0, 0, 0, 1, 0, 1, 0, 0, 0, 0, 0, 1, 1, 0, 1, 0, 0, 0, 0, 0]\n"
     ]
    }
   ],
   "source": [
    "# get result of Alice measurement\n",
    "\n",
    "Alice_measure_result=[]\n",
    "Alice_measure_result.clear()\n",
    "\n",
    "for i in range(2*(n+m)):\n",
    "    Alice_measure_result.append(int((list(result_sim3.get_counts(circuits_step4_1[i]))[0])[1]))\n",
    "    \n",
    "    \n",
    "print(\"length of Alice_measure_result = {}\".format(len(Alice_measure_result)))\n",
    "print(\"Alice_measure_result = {}\".format(Alice_measure_result))"
   ]
  },
  {
   "cell_type": "code",
   "execution_count": 123,
   "metadata": {},
   "outputs": [
    {
     "name": "stdout",
     "output_type": "stream",
     "text": [
      "length of Alice_measure_Sa_result : 12\n",
      "Alice_measure_Sa_result : [0, 0, 0, 1, 0, 0, 0, 0, 1, 0, 0, 0]\n",
      "length of Alice_measure_Cb_result : 12\n",
      "Alice_measure_Cb_result : [1, 1, 0, 0, 1, 0, 0, 1, 0, 1, 0, 0]\n"
     ]
    }
   ],
   "source": [
    "Alice_measure_Sa_result=[]\n",
    "Alice_measure_Sa_result.clear()\n",
    "\n",
    "Alice_measure_Cb_result=[]\n",
    "Alice_measure_Cb_result.clear()\n",
    "\n",
    "\n",
    "for i in range(n+m):\n",
    "    if K1[i]==0: # Cb , Sa\n",
    "        Alice_measure_Cb_result.append(Alice_measure_result[2*i])   \n",
    "        Alice_measure_Sa_result.append(Alice_measure_result[2*i+1])\n",
    "    else: # Sa , Cb\n",
    "        Alice_measure_Sa_result.append(Alice_measure_result[2*i])\n",
    "        Alice_measure_Cb_result.append(Alice_measure_result[2*i+1])\n",
    "\n",
    "\n",
    "print(\"length of Alice_measure_Sa_result : {}\".format(len(Alice_measure_Sa_result)))\n",
    "print(\"Alice_measure_Sa_result : {}\".format(Alice_measure_Sa_result))\n",
    "print(\"length of Alice_measure_Cb_result : {}\".format(len(Alice_measure_Cb_result)))\n",
    "print(\"Alice_measure_Cb_result : {}\".format(Alice_measure_Cb_result))"
   ]
  },
  {
   "cell_type": "code",
   "execution_count": 124,
   "metadata": {},
   "outputs": [
    {
     "name": "stdout",
     "output_type": "stream",
     "text": [
      "measure Sa 0 = origin Sa 0\n",
      "measure Sa 0 = origin Sa 0\n",
      "measure Sa 0 = origin Sa 0\n",
      "measure Sa 1 = origin Sa 1\n",
      "measure Sa 0 = origin Sa 0\n",
      "measure Sa 0 = origin Sa 0\n",
      "measure Sa 0 = origin Sa 0\n",
      "measure Sa 0 = origin Sa 0\n",
      "measure Sa 1 = origin Sa 1\n",
      "measure Sa 0 = origin Sa 0\n",
      "measure Sa 0 = origin Sa 0\n",
      "measure Sa 0 = origin Sa 0\n",
      "\n",
      "error rate = 0.0%\n"
     ]
    }
   ],
   "source": [
    "# Check Alice_measure_Sa_result\n",
    "right_times_sa = 0\n",
    "\n",
    "for i in range(n+m):\n",
    "    if Alice_measure_Sa_result[i]==Sa[i]:\n",
    "        right_times_sa+=1\n",
    "        print(\"measure Sa {} = origin Sa {}\".format(Alice_measure_Sa_result[i],Sa[i]))\n",
    "    else :\n",
    "        print(\"measure Sa {} != origin Sa {}\".format(Alice_measure_Sa_result[i],Sa[i]))\n",
    "        print(\"Different result has been found.\")\n",
    "\n",
    "\n",
    "print(\"\")\n",
    "        \n",
    "error_rate_sa=((n+m-right_times_sa)/(n+m))\n",
    "print(\"error rate = {}%\".format(error_rate_sa*100))"
   ]
  },
  {
   "cell_type": "code",
   "execution_count": 125,
   "metadata": {},
   "outputs": [
    {
     "name": "stdout",
     "output_type": "stream",
     "text": [
      "measure Cb 1 = origin Ca 1 --> right\n",
      "measure Cb 1 = origin Ca 1 --> right\n",
      "measure Cb 0 = origin Ca 0 --> right\n",
      "measure Cb 0 = origin Ca 0 --> right\n",
      "measure Cb 1 = origin Ca 1 --> right\n",
      "measure Cb 0 = origin Ca 0 --> right\n",
      "measure Cb 0 = origin Ca 0 --> right\n",
      "measure Cb 1 = origin Ca 1 --> right\n",
      "measure Cb 0 = origin Ca 0 --> right\n",
      "measure Cb 1 = origin Ca 1 --> right\n",
      "measure Cb 0 != origin Ca 1 --> right\n",
      "measure Cb 0 != origin Ca 1 --> right\n",
      "\n",
      "error rate = 0.0%\n"
     ]
    }
   ],
   "source": [
    "# Check Alice_measure_Cb_result\n",
    "right_times_cb = 0\n",
    "\n",
    "for i in range(n+m):\n",
    "    if K2[i]==0:\n",
    "        if Alice_measure_Cb_result[i]==Ca[i]:\n",
    "            right_times_cb+=1\n",
    "            print(\"measure Cb {} = origin Ca {} --> right\".format(Alice_measure_Cb_result[i],Ca[i]))\n",
    "        else:\n",
    "            print(\"measure Cb {} != origin Ca {} --> wrong\".format(Alice_measure_Cb_result[i],Ca[i]))\n",
    "    else:\n",
    "        if Alice_measure_Cb_result[i]!=Ca[i]:\n",
    "            right_times_cb+=1\n",
    "            print(\"measure Cb {} != origin Ca {} --> right\".format(Alice_measure_Cb_result[i],Ca[i]))\n",
    "        else:\n",
    "            print(\"measure Cb {} = origin Ca {} --> wrong\".format(Alice_measure_Cb_result[i],Ca[i]))\n",
    "           \n",
    "\n",
    "        \n",
    "print(\"\") \n",
    "        \n",
    "error_rate_cb=((n+m-right_times_cb)/(n+m))\n",
    "print(\"error rate = {}%\".format(error_rate_cb*100))"
   ]
  },
  {
   "cell_type": "code",
   "execution_count": 128,
   "metadata": {},
   "outputs": [
    {
     "name": "stdout",
     "output_type": "stream",
     "text": [
      "SK2 = [0, 0, 0, 1, 0, 0, 0, 0]\n",
      "hsk2 = [1, 0, 0, 0]\n",
      "Above are Bob's measurement result\n",
      "\n",
      "SK2_K1 : [0, 0, 0, 1, 0, 0, 0, 0, 1, 1, 0, 0, 1, 1, 1, 1, 1, 0, 0, 1]\n",
      "str1 = ['00010', '00011', '00111', '11001']\n",
      "str2 = [2, 3, 7, 25]\n",
      "Hstr = [1, 0, 0, 0]\n",
      "Hash_SK2_K1 = [1, 0, 0, 0]\n"
     ]
    }
   ],
   "source": [
    "# Step4 : meanwhile, Bob checks H(SK'||K1)==hsk' and get key\n",
    "\n",
    "print(\"SK2 = {}\".format(SK2))\n",
    "print(\"hsk2 = {}\".format(hsk2))\n",
    "print(\"Above are Bob's measurement result\")\n",
    "print(\"\")\n",
    "\n",
    "SK2_K1=[]\n",
    "SK2_K1.clear()\n",
    "SK2_K1.extend(SK2+K1)\n",
    "print(\"SK2_K1 : {}\".format(SK2_K1))\n",
    "\n",
    "#(2*n+m)//m --> each group's length\n",
    "# m --> length in Hash\n",
    "\n",
    "Hash_SK2_K1=[]\n",
    "Hash_SK2_K1.clear()\n",
    "Hash_preshared(SK2_K1,(2*n+m)//m,m,Hash_SK2_K1)\n",
    "print(\"Hash_SK2_K1 = {}\".format(Hash_SK2_K1))"
   ]
  },
  {
   "cell_type": "code",
   "execution_count": 129,
   "metadata": {},
   "outputs": [
    {
     "name": "stdout",
     "output_type": "stream",
     "text": [
      "Hash_SK2_K1 1 = hsk2 1\n",
      "Hash_SK2_K1 0 = hsk2 0\n",
      "Hash_SK2_K1 0 = hsk2 0\n",
      "Hash_SK2_K1 0 = hsk2 0\n",
      "\n",
      "H(SK'||K1) == hsk'\n"
     ]
    }
   ],
   "source": [
    "# Bob checks H(SK'||K1)==hsk'\n",
    "right_times_hsk = 0\n",
    "\n",
    "for i in range(m):\n",
    "    if Hash_SK2_K1[i]==hsk2[i]:\n",
    "        right_times_hsk+=1\n",
    "        print(\"Hash_SK2_K1 {} = hsk2 {}\".format(Hash_SK2_K1[i],hsk2[i]))\n",
    "    else :\n",
    "        print(\"Hash_SK2_K1 {} != hsk2 {}\".format(Hash_SK2_K1[i],hsk2[i]))\n",
    "        print(\"Different result has been found.\")\n",
    "\n",
    "\n",
    "print(\"\")\n",
    "        \n",
    "if right_times_hsk==m:\n",
    "    print(\"H(SK'||K1) == hsk'\")\n",
    "else:\n",
    "    print(\"H(SK'||K1) != hsk'\")"
   ]
  },
  {
   "cell_type": "code",
   "execution_count": 130,
   "metadata": {},
   "outputs": [
    {
     "name": "stdout",
     "output_type": "stream",
     "text": [
      "SK2 = [0, 0, 0, 1, 0, 0, 0, 0]\n"
     ]
    }
   ],
   "source": [
    "# If no Eve, Bob gets key\n",
    "print(\"SK2 = {}\".format(SK2))"
   ]
  },
  {
   "cell_type": "code",
   "execution_count": 150,
   "metadata": {},
   "outputs": [
    {
     "name": "stdout",
     "output_type": "stream",
     "text": [
      "Eve_basis_step23   E1(0)(Z) or E2(1)(X) or E3(2)(don't measure) : [0, 2, 2, 1, 2, 0, 0, 1, 0, 1, 2, 1, 1, 1, 1, 0, 1, 2, 0, 1, 2, 1, 0, 0]\n",
      "24\n",
      "Eve_basis_step34   E1(0)(Z) or E2(1)(X) or E3(2)(don't measure) : [0, 0, 1, 1, 0, 2, 0, 1, 0, 2, 0, 1, 0, 2, 2, 0, 1, 1, 2, 0, 2, 0, 1, 2]\n",
      "24\n"
     ]
    }
   ],
   "source": [
    "# eavesdropper\n",
    "\n",
    "# Eve measurement\n",
    "E1 = QuantumCircuit(q,c) # Z basis\n",
    "E1.measure(q[0],c[1])\n",
    "\n",
    "E2 = QuantumCircuit(q,c) # X basis\n",
    "E2.h(q[0])\n",
    "E2.measure(q[0],c[1])\n",
    "\n",
    "E3 = QuantumCircuit(q,c) # don't measure\n",
    "\n",
    "\n",
    "def EveRandom_012str(list,num):\n",
    "    for i in range(num):\n",
    "        list.append(random.randint(0,2))\n",
    "\n",
    "        \n",
    "# Eve between step2 and step3\n",
    "Eve_basis_step23=[]\n",
    "Eve_basis_step23.clear()\n",
    "EveRandom_012str(Eve_basis_step23,(2*n+2*m))\n",
    "print(\"Eve_basis_step23   E1(0)(Z) or E2(1)(X) or E3(2)(don't measure) : {}\".format(Eve_basis_step23))\n",
    "print(len(Eve_basis_step23))\n",
    "\n",
    "\n",
    "# Eve between step3 and step4\n",
    "Eve_basis_step34=[]\n",
    "Eve_basis_step34.clear()\n",
    "EveRandom_012str(Eve_basis_step34,(2*n+2*m))\n",
    "print(\"Eve_basis_step34   E1(0)(Z) or E2(1)(X) or E3(2)(don't measure) : {}\".format(Eve_basis_step34))\n",
    "print(len(Eve_basis_step34))\n",
    "\n",
    "\n",
    "Eve_circ = [E1,E2,E3]\n",
    "# + Eve_circ[Eve_basis_step23[i]] , + Eve_circ[Eve_basis_step34[i]]"
   ]
  },
  {
   "cell_type": "code",
   "execution_count": 151,
   "metadata": {},
   "outputs": [
    {
     "name": "stdout",
     "output_type": "stream",
     "text": [
      "length of circuits_step3_1_eve23 : 24\n"
     ]
    },
    {
     "data": {
      "text/html": [
       "<pre style=\"word-wrap: normal;white-space: pre;line-height: 15px;\">         ░ ┌───┐ ░ ┌─┐┌───┐ ░ \n",
       "q_0: |0>─░─┤ H ├─░─┤M├┤ H ├─░─\n",
       "         ░ └───┘ ░ └╥┘└───┘ ░ \n",
       " c_0: 0 ════════════╬═════════\n",
       "                    ║         \n",
       " c_1: 0 ════════════╩═════════\n",
       "                              </pre>"
      ],
      "text/plain": [
       "<qiskit.visualization.text.TextDrawing at 0x7ff52fa47ac8>"
      ]
     },
     "execution_count": 151,
     "metadata": {},
     "output_type": "execute_result"
    }
   ],
   "source": [
    "# if Eve measures between step2 and step3\n",
    "\n",
    "circuits_step3_1_eve23=[]\n",
    "circuits_step3_1_eve23.clear()\n",
    "\n",
    "for i in range(n+m):\n",
    "    if K1[i]==0: # Cb , Sa\n",
    "        circuits_step3_1_eve23.append(circuits_Sa2[2*i] + Eve_circ[Eve_basis_step23[2*i]] + K3_circ[K3[2*i]])\n",
    "        circuits_step3_1_eve23.append(circuits_Sa2[2*i+1] + Eve_circ[Eve_basis_step23[2*i+1]] + K3_circ[K3[2*i+1]])\n",
    "    else: # Sa , Cb\n",
    "        circuits_step3_1_eve23.append(circuits_Sa2[2*i] + Eve_circ[Eve_basis_step23[2*i]] + K3_circ[K3[2*i]])\n",
    "        circuits_step3_1_eve23.append(circuits_Sa2[2*i+1] + Eve_circ[Eve_basis_step23[2*i+1]] + K3_circ[K3[2*i+1]])\n",
    "\n",
    "\n",
    "print(\"length of circuits_step3_1_eve23 : {}\".format(len(circuits_step3_1_eve23)))\n",
    "circuits_step3_1_eve23[0].draw()"
   ]
  },
  {
   "cell_type": "code",
   "execution_count": 152,
   "metadata": {},
   "outputs": [
    {
     "name": "stdout",
     "output_type": "stream",
     "text": [
      "length of circuits_step3_Sa_eve23 : 12\n",
      "length of circuits_step3_Cb_eve23 : 12\n"
     ]
    },
    {
     "data": {
      "text/html": [
       "<pre style=\"word-wrap: normal;white-space: pre;line-height: 15px;\">         ░ ┌───┐ ░ ┌─┐┌───┐ ░ ┌─┐\n",
       "q_0: |0>─░─┤ H ├─░─┤M├┤ H ├─░─┤M├\n",
       "         ░ └───┘ ░ └╥┘└───┘ ░ └╥┘\n",
       " c_0: 0 ════════════╬══════════╩═\n",
       "                    ║            \n",
       " c_1: 0 ════════════╩════════════\n",
       "                                 </pre>"
      ],
      "text/plain": [
       "<qiskit.visualization.text.TextDrawing at 0x7ff52ea15668>"
      ]
     },
     "execution_count": 152,
     "metadata": {},
     "output_type": "execute_result"
    }
   ],
   "source": [
    "circuits_step3_Sa_eve23=[]\n",
    "circuits_step3_Sa_eve23.clear()\n",
    "\n",
    "circuits_step3_Cb_eve23=[]\n",
    "circuits_step3_Cb_eve23.clear()\n",
    "\n",
    "for i in range(n+m):\n",
    "    if K1[i]==0: # Cb , Sa\n",
    "        circuits_step3_Cb_eve23.append(circuits_step3_1_eve23[2*i] + Bob_measure_circ[K2[i]])\n",
    "        circuits_step3_Sa_eve23.append(circuits_step3_1_eve23[2*i+1] + Bob_Z_measurement)\n",
    "    else: # Sa , Cb\n",
    "        circuits_step3_Sa_eve23.append(circuits_step3_1_eve23[2*i] + Bob_Z_measurement)\n",
    "        circuits_step3_Cb_eve23.append(circuits_step3_1_eve23[2*i+1] + Bob_measure_circ[K2[i]])\n",
    "\n",
    "\n",
    "print(\"length of circuits_step3_Sa_eve23 : {}\".format(len(circuits_step3_Sa_eve23)))\n",
    "\n",
    "print(\"length of circuits_step3_Cb_eve23 : {}\".format(len(circuits_step3_Cb_eve23)))\n",
    "\n",
    "circuits_step3_Sa_eve23[0].draw()\n",
    "#circuits_step3_Cb_eve23[10].draw()"
   ]
  },
  {
   "cell_type": "code",
   "execution_count": 153,
   "metadata": {},
   "outputs": [
    {
     "name": "stdout",
     "output_type": "stream",
     "text": [
      "{'00': 259, '11': 258, '01': 247, '10': 260}\n"
     ]
    }
   ],
   "source": [
    "job_sim1_eve23 = qiskit.execute(circuits_step3_Sa_eve23, backend_sim, shots=1024)\n",
    "result_sim1_eve23 = job_sim1_eve23.result()\n",
    "counts1_eve23 = result_sim1_eve23.get_counts(circuits_step3_Sa_eve23[0])\n",
    "print(counts1_eve23)"
   ]
  },
  {
   "cell_type": "code",
   "execution_count": 154,
   "metadata": {},
   "outputs": [
    {
     "name": "stdout",
     "output_type": "stream",
     "text": [
      "Bob_measure_Sa_result_eve23 = [0, 0, 0, 0, 0, 0, 0, 0, 0, 0, 0, 0]\n"
     ]
    }
   ],
   "source": [
    "# get result of Bob measuring Sa\n",
    "\n",
    "Bob_measure_Sa_result_eve23=[]\n",
    "Bob_measure_Sa_result_eve23.clear()\n",
    "\n",
    "for i in range(n+m):\n",
    "    Bob_measure_Sa_result_eve23.append(int((list(result_sim1_eve23.get_counts(circuits_step3_Sa_eve23[i]))[0])[1]))\n",
    "    \n",
    "print(\"Bob_measure_Sa_result_eve23 = {}\".format(Bob_measure_Sa_result_eve23))"
   ]
  },
  {
   "cell_type": "code",
   "execution_count": 155,
   "metadata": {},
   "outputs": [
    {
     "name": "stdout",
     "output_type": "stream",
     "text": [
      "SK2_eve23 = [0, 0, 0, 0, 0, 0, 0, 0]\n",
      "hsk2_eve23 = [0, 0, 0, 0]\n"
     ]
    }
   ],
   "source": [
    "# Bob gets SK', hsk'\n",
    "\n",
    "SK2_eve23=[]\n",
    "SK2_eve23.clear()\n",
    "\n",
    "hsk2_eve23=[]\n",
    "hsk2_eve23.clear()\n",
    "\n",
    "for i in range(n+m):\n",
    "    if i <n:\n",
    "        SK2_eve23.append(Bob_measure_Sa_result_eve23[i])\n",
    "    else:\n",
    "        hsk2_eve23.append(Bob_measure_Sa_result_eve23[i])\n",
    "        \n",
    "        \n",
    "print(\"SK2_eve23 = {}\".format(SK2_eve23))\n",
    "print(\"hsk2_eve23 = {}\".format(hsk2_eve23))"
   ]
  },
  {
   "cell_type": "code",
   "execution_count": 156,
   "metadata": {},
   "outputs": [
    {
     "name": "stdout",
     "output_type": "stream",
     "text": [
      "SK2_eve23 = [0, 0, 0, 0, 0, 0, 0, 0]\n",
      "hsk2_eve23 = [0, 0, 0, 0]\n",
      "Above are Bob's measurement result\n",
      "\n",
      "SK2_K1_eve23 : [0, 0, 0, 0, 0, 0, 0, 0, 1, 1, 0, 0, 1, 1, 1, 1, 1, 0, 0, 1]\n",
      "str1 = ['00000', '00011', '00111', '11001']\n",
      "str2 = [0, 3, 7, 25]\n",
      "Hstr = [1, 0, 0, 0]\n",
      "Hash_SK2_K1_eve23 = [1, 0, 0, 0]\n"
     ]
    }
   ],
   "source": [
    "# Bob checks H(SK'||K1)==hsk' and get key\n",
    "\n",
    "print(\"SK2_eve23 = {}\".format(SK2_eve23))\n",
    "print(\"hsk2_eve23 = {}\".format(hsk2_eve23))\n",
    "print(\"Above are Bob's measurement result\")\n",
    "print(\"\")\n",
    "\n",
    "SK2_K1_eve23=[]\n",
    "SK2_K1_eve23.clear()\n",
    "SK2_K1_eve23.extend(SK2_eve23+K1)\n",
    "print(\"SK2_K1_eve23 : {}\".format(SK2_K1_eve23))\n",
    "\n",
    "#(2*n+m)//m --> each group's length\n",
    "# m --> length in Hash\n",
    "\n",
    "Hash_SK2_K1_eve23=[]\n",
    "Hash_SK2_K1_eve23.clear()\n",
    "Hash_preshared(SK2_K1_eve23,(2*n+m)//m,m,Hash_SK2_K1_eve23)\n",
    "print(\"Hash_SK2_K1_eve23 = {}\".format(Hash_SK2_K1_eve23))"
   ]
  },
  {
   "cell_type": "code",
   "execution_count": 157,
   "metadata": {},
   "outputs": [
    {
     "name": "stdout",
     "output_type": "stream",
     "text": [
      "Hash_SK2_K1 1 != hsk2 0\n",
      "Different result has been found.\n",
      "Hash_SK2_K1 0 = hsk2 0\n",
      "Hash_SK2_K1 0 = hsk2 0\n",
      "Hash_SK2_K1 0 = hsk2 0\n",
      "\n",
      "H(SK'||K1) != hsk'\n"
     ]
    }
   ],
   "source": [
    "# Bob checks H(SK'||K1)==hsk'\n",
    "right_times_hsk_eve23 = 0\n",
    "\n",
    "for i in range(m):\n",
    "    if Hash_SK2_K1_eve23[i]==hsk2_eve23[i]:\n",
    "        right_times_hsk_eve23+=1\n",
    "        print(\"Hash_SK2_K1 {} = hsk2 {}\".format(Hash_SK2_K1_eve23[i],hsk2_eve23[i]))\n",
    "    else :\n",
    "        print(\"Hash_SK2_K1 {} != hsk2 {}\".format(Hash_SK2_K1_eve23[i],hsk2_eve23[i]))\n",
    "        print(\"Different result has been found.\")\n",
    "\n",
    "\n",
    "print(\"\")\n",
    "        \n",
    "if right_times_hsk_eve23==m:\n",
    "    print(\"H(SK'||K1) == hsk'\")\n",
    "else:\n",
    "    print(\"H(SK'||K1) != hsk'\")"
   ]
  },
  {
   "cell_type": "code",
   "execution_count": 158,
   "metadata": {},
   "outputs": [
    {
     "name": "stdout",
     "output_type": "stream",
     "text": [
      "length of circuits_step4_1_eve34 : 24\n"
     ]
    },
    {
     "data": {
      "text/html": [
       "<pre style=\"word-wrap: normal;white-space: pre;line-height: 15px;\">         ░ ┌───┐ ░ ┌───┐ ░ ┌─┐      ░ ┌───┐ ░ ┌───┐┌─┐┌───┐┌─┐\n",
       "q_0: |0>─░─┤ H ├─░─┤ H ├─░─┤M├─|0>──░─┤ H ├─░─┤ H ├┤M├┤ H ├┤M├\n",
       "         ░ └───┘ ░ └───┘ ░ └╥┘      ░ └───┘ ░ └───┘└╥┘└───┘└╥┘\n",
       " c_0: 0 ════════════════════╩═══════════════════════╬═══════╩═\n",
       "                                                    ║         \n",
       " c_1: 0 ════════════════════════════════════════════╩═════════\n",
       "                                                              </pre>"
      ],
      "text/plain": [
       "<qiskit.visualization.text.TextDrawing at 0x7ff52e913390>"
      ]
     },
     "execution_count": 158,
     "metadata": {},
     "output_type": "execute_result"
    }
   ],
   "source": [
    "# if Eve measures between step3 and step4\n",
    "\n",
    "circuits_step4_1_eve34=[]\n",
    "circuits_step4_1_eve34.clear()\n",
    "\n",
    "\n",
    "for i in range(n+m):\n",
    "    if K1[i]==0: # Cb , Sa\n",
    "        circuits_step4_1_eve34.append(circuits_step3_send_to_Alice[2*i] + Eve_circ[Eve_basis_step34[2*i]] + Alice_measurement_circ[K3[2*i]])     # + K3_circ[K3[2*i]]\n",
    "        circuits_step4_1_eve34.append(circuits_step3_send_to_Alice[2*i+1] + Eve_circ[Eve_basis_step34[2*i+1]] + Alice_measurement_circ[K3[2*i+1]]) # + K3_circ[K3[2*i+1]]\n",
    "    else: # Sa , Cb\n",
    "        circuits_step4_1_eve34.append(circuits_step3_send_to_Alice[2*i] + Eve_circ[Eve_basis_step34[2*i]] + Alice_measurement_circ[K3[2*i]])\n",
    "        circuits_step4_1_eve34.append(circuits_step3_send_to_Alice[2*i+1] + Eve_circ[Eve_basis_step34[2*i+1]] + Alice_measurement_circ[K3[2*i+1]])\n",
    "\n",
    "\n",
    "print(\"length of circuits_step4_1_eve34 : {}\".format(len(circuits_step4_1_eve34)))\n",
    "circuits_step4_1_eve34[2].draw()"
   ]
  },
  {
   "cell_type": "code",
   "execution_count": 159,
   "metadata": {},
   "outputs": [
    {
     "name": "stdout",
     "output_type": "stream",
     "text": [
      "{'00': 281, '11': 235, '01': 255, '10': 253}\n"
     ]
    }
   ],
   "source": [
    "job_sim3_eve34 = qiskit.execute(circuits_step4_1_eve34, backend_sim, shots=1024)\n",
    "result_sim3_eve34 = job_sim3_eve34.result()\n",
    "counts3_eve34 = result_sim3_eve34.get_counts(circuits_step4_1_eve34[0])\n",
    "print(counts3_eve34)"
   ]
  },
  {
   "cell_type": "code",
   "execution_count": 160,
   "metadata": {},
   "outputs": [
    {
     "name": "stdout",
     "output_type": "stream",
     "text": [
      "length of Alice_measure_result_eve34 = 24\n",
      "Alice_measure_result_eve34 = [0, 1, 0, 0, 0, 0, 0, 0, 0, 1, 0, 0, 0, 0, 0, 1, 0, 0, 1, 0, 0, 0, 0, 0]\n"
     ]
    }
   ],
   "source": [
    "# get result of Alice measurement\n",
    "\n",
    "Alice_measure_result_eve34=[]\n",
    "Alice_measure_result_eve34.clear()\n",
    "\n",
    "for i in range(2*(n+m)):\n",
    "    Alice_measure_result_eve34.append(int((list(result_sim3_eve34.get_counts(circuits_step4_1_eve34[i]))[0])[1]))\n",
    "    \n",
    "    \n",
    "print(\"length of Alice_measure_result_eve34 = {}\".format(len(Alice_measure_result_eve34)))\n",
    "print(\"Alice_measure_result_eve34 = {}\".format(Alice_measure_result_eve34))"
   ]
  },
  {
   "cell_type": "code",
   "execution_count": 161,
   "metadata": {},
   "outputs": [
    {
     "name": "stdout",
     "output_type": "stream",
     "text": [
      "length of Alice_measure_Sa_result_eve34 : 12\n",
      "Alice_measure_Sa_result_eve34 : [0, 0, 0, 0, 0, 0, 0, 0, 0, 0, 0, 0]\n",
      "length of Alice_measure_Cb_result_eve34 : 12\n",
      "Alice_measure_Cb_result_eve34 : [1, 0, 0, 0, 1, 0, 0, 1, 0, 1, 0, 0]\n"
     ]
    }
   ],
   "source": [
    "Alice_measure_Sa_result_eve34=[]\n",
    "Alice_measure_Sa_result_eve34.clear()\n",
    "\n",
    "Alice_measure_Cb_result_eve34=[]\n",
    "Alice_measure_Cb_result_eve34.clear()\n",
    "\n",
    "\n",
    "for i in range(n+m):\n",
    "    if K1[i]==0: # Cb , Sa\n",
    "        Alice_measure_Cb_result_eve34.append(Alice_measure_result_eve34[2*i])   \n",
    "        Alice_measure_Sa_result_eve34.append(Alice_measure_result_eve34[2*i+1])\n",
    "    else: # Sa , Cb\n",
    "        Alice_measure_Sa_result_eve34.append(Alice_measure_result_eve34[2*i])\n",
    "        Alice_measure_Cb_result_eve34.append(Alice_measure_result_eve34[2*i+1])\n",
    "\n",
    "\n",
    "print(\"length of Alice_measure_Sa_result_eve34 : {}\".format(len(Alice_measure_Sa_result_eve34)))\n",
    "print(\"Alice_measure_Sa_result_eve34 : {}\".format(Alice_measure_Sa_result_eve34))\n",
    "print(\"length of Alice_measure_Cb_result_eve34 : {}\".format(len(Alice_measure_Cb_result_eve34)))\n",
    "print(\"Alice_measure_Cb_result_eve34 : {}\".format(Alice_measure_Cb_result_eve34))"
   ]
  },
  {
   "cell_type": "code",
   "execution_count": 162,
   "metadata": {},
   "outputs": [
    {
     "name": "stdout",
     "output_type": "stream",
     "text": [
      "measure Sa 0 = origin Sa 0\n",
      "measure Sa 0 = origin Sa 0\n",
      "measure Sa 0 = origin Sa 0\n",
      "measure Sa 0 != origin Sa 1\n",
      "Different result has been found.\n",
      "measure Sa 0 = origin Sa 0\n",
      "measure Sa 0 = origin Sa 0\n",
      "measure Sa 0 = origin Sa 0\n",
      "measure Sa 0 = origin Sa 0\n",
      "measure Sa 0 != origin Sa 1\n",
      "Different result has been found.\n",
      "measure Sa 0 = origin Sa 0\n",
      "measure Sa 0 = origin Sa 0\n",
      "measure Sa 0 = origin Sa 0\n",
      "\n",
      "error rate = 16.666666666666664%\n"
     ]
    }
   ],
   "source": [
    "# Check Alice_measure_Sa_result_eve34\n",
    "right_times_sa_eve34 = 0\n",
    "\n",
    "for i in range(n+m):\n",
    "    if Alice_measure_Sa_result_eve34[i]==Sa[i]:\n",
    "        right_times_sa_eve34+=1\n",
    "        print(\"measure Sa {} = origin Sa {}\".format(Alice_measure_Sa_result_eve34[i],Sa[i]))\n",
    "    else :\n",
    "        print(\"measure Sa {} != origin Sa {}\".format(Alice_measure_Sa_result_eve34[i],Sa[i]))\n",
    "        print(\"Different result has been found.\")\n",
    "\n",
    "\n",
    "print(\"\")\n",
    "        \n",
    "error_rate_sa_eve34=((n+m-right_times_sa_eve34)/(n+m))\n",
    "print(\"error rate = {}%\".format(error_rate_sa_eve34*100))"
   ]
  },
  {
   "cell_type": "code",
   "execution_count": 163,
   "metadata": {},
   "outputs": [
    {
     "name": "stdout",
     "output_type": "stream",
     "text": [
      "measure Cb 1 = origin Ca 1 --> right\n",
      "measure Cb 0 != origin Ca 1 --> wrong\n",
      "measure Cb 0 = origin Ca 0 --> right\n",
      "measure Cb 0 = origin Ca 0 --> right\n",
      "measure Cb 1 = origin Ca 1 --> right\n",
      "measure Cb 0 = origin Ca 0 --> right\n",
      "measure Cb 0 = origin Ca 0 --> right\n",
      "measure Cb 1 = origin Ca 1 --> right\n",
      "measure Cb 0 = origin Ca 0 --> right\n",
      "measure Cb 1 = origin Ca 1 --> right\n",
      "measure Cb 0 != origin Ca 1 --> right\n",
      "measure Cb 0 != origin Ca 1 --> right\n",
      "\n",
      "error rate = 8.333333333333332%\n"
     ]
    }
   ],
   "source": [
    "# Check Alice_measure_Cb_result\n",
    "right_times_cb_eve34 = 0\n",
    "\n",
    "for i in range(n+m):\n",
    "    if K2[i]==0:\n",
    "        if Alice_measure_Cb_result_eve34[i]==Ca[i]:\n",
    "            right_times_cb_eve34+=1\n",
    "            print(\"measure Cb {} = origin Ca {} --> right\".format(Alice_measure_Cb_result_eve34[i],Ca[i]))\n",
    "        else:\n",
    "            print(\"measure Cb {} != origin Ca {} --> wrong\".format(Alice_measure_Cb_result_eve34[i],Ca[i]))\n",
    "    else:\n",
    "        if Alice_measure_Cb_result_eve34[i]!=Ca[i]:\n",
    "            right_times_cb_eve34+=1\n",
    "            print(\"measure Cb {} != origin Ca {} --> right\".format(Alice_measure_Cb_result_eve34[i],Ca[i]))\n",
    "        else:\n",
    "            print(\"measure Cb {} = origin Ca {} --> wrong\".format(Alice_measure_Cb_result_eve34[i],Ca[i]))\n",
    "           \n",
    "\n",
    "        \n",
    "print(\"\") \n",
    "        \n",
    "error_rate_cb_eve34=((n+m-right_times_cb_eve34)/(n+m))\n",
    "print(\"error rate = {}%\".format(error_rate_cb_eve34*100))"
   ]
  },
  {
   "cell_type": "code",
   "execution_count": null,
   "metadata": {},
   "outputs": [],
   "source": []
  }
 ],
 "metadata": {
  "kernelspec": {
   "display_name": "Python 3",
   "language": "python",
   "name": "python3"
  },
  "language_info": {
   "codemirror_mode": {
    "name": "ipython",
    "version": 3
   },
   "file_extension": ".py",
   "mimetype": "text/x-python",
   "name": "python",
   "nbconvert_exporter": "python",
   "pygments_lexer": "ipython3",
   "version": "3.7.3"
  }
 },
 "nbformat": 4,
 "nbformat_minor": 2
}
