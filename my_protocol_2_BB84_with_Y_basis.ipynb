{
 "cells": [
  {
   "cell_type": "code",
   "execution_count": 1,
   "metadata": {},
   "outputs": [],
   "source": [
    "from qiskit import QuantumCircuit, ClassicalRegister, QuantumRegister\n",
    "import numpy as np\n",
    "import qiskit\n",
    "%matplotlib inline"
   ]
  },
  {
   "cell_type": "code",
   "execution_count": 4,
   "metadata": {},
   "outputs": [
    {
     "data": {
      "text/html": [
       "<pre style=\"word-wrap: normal;white-space: pre;line-height: 15px;\">        ┌───┐┌─────┐ ░ \n",
       "q_0: |0>┤ H ├┤ Sdg ├─░─\n",
       "        └───┘└─────┘ ░ \n",
       " c_0: 0 ═══════════════\n",
       "                       \n",
       " c_1: 0 ═══════════════\n",
       "                       </pre>"
      ],
      "text/plain": [
       "<qiskit.visualization.text.TextDrawing at 0x7fdf0de5af98>"
      ]
     },
     "execution_count": 4,
     "metadata": {},
     "output_type": "execute_result"
    }
   ],
   "source": [
    "# generate one qubit\n",
    "\n",
    "q = QuantumRegister(1,'q')\n",
    "c = ClassicalRegister(2,'c')\n",
    "\n",
    "# Alice\n",
    "Alice_circ0 = QuantumCircuit(q,c)  # |0>\n",
    "Alice_circ0.barrier(q)\n",
    "\n",
    "\n",
    "Alice_circ1 = QuantumCircuit(q,c)  # |1>\n",
    "Alice_circ1.x(q[0]) \n",
    "Alice_circ1.barrier(q)\n",
    "\n",
    "Alice_circ2 = QuantumCircuit(q,c)  # |+>\n",
    "Alice_circ2.h(q[0])  \n",
    "Alice_circ2.barrier(q)\n",
    "\n",
    "Alice_circ3 = QuantumCircuit(q,c)  # |->\n",
    "Alice_circ3.x(q[0])\n",
    "Alice_circ3.h(q[0])\n",
    "Alice_circ3.barrier(q)\n",
    "\n",
    "Alice_circ5 = QuantumCircuit(q,c)  # |+y>\n",
    "Alice_circ5.h(q[0])  \n",
    "Alice_circ5.s(q[0]) \n",
    "Alice_circ5.barrier(q)\n",
    "\n",
    "Alice_circ6 = QuantumCircuit(q,c)  # |-y>\n",
    "Alice_circ6.h(q[0])\n",
    "Alice_circ6.sdg(q[0])\n",
    "Alice_circ6.barrier(q)\n",
    "\n",
    "\n",
    "#Alice_circ0.draw()\n",
    "#Alice_circ1.draw()\n",
    "#Alice_circ2.draw()\n",
    "#Alice_circ3.draw()\n",
    "#Alice_circ5.draw()\n",
    "Alice_circ6.draw()"
   ]
  },
  {
   "cell_type": "code",
   "execution_count": 3,
   "metadata": {},
   "outputs": [
    {
     "data": {
      "text/html": [
       "<pre style=\"word-wrap: normal;white-space: pre;line-height: 15px;\">        ┌────────────┐┌─┐\n",
       "q_0: |0>┤ Rx(1.5708) ├┤M├\n",
       "        └────────────┘└╥┘\n",
       " c_0: 0 ═══════════════╩═\n",
       "                         \n",
       " c_1: 0 ═════════════════\n",
       "                         </pre>"
      ],
      "text/plain": [
       "<qiskit.visualization.text.TextDrawing at 0x7fdf0de597f0>"
      ]
     },
     "execution_count": 3,
     "metadata": {},
     "output_type": "execute_result"
    }
   ],
   "source": [
    "# Bob measurement\n",
    "B1 = QuantumCircuit(q,c) # Z basis\n",
    "B1.measure(q[0],c[0])\n",
    "\n",
    "B2 = QuantumCircuit(q,c) # X basis\n",
    "B2.h(q[0])\n",
    "B2.measure(q[0],c[0])\n",
    "\n",
    "B3 = QuantumCircuit(q,c) # Y basis\n",
    "B3.rx((1/2)*np.pi,q[0])\n",
    "B3.measure(q[0],c[0])\n",
    "\n",
    "\n",
    "#B1.draw()\n",
    "#B2.draw()\n",
    "B3.draw()"
   ]
  },
  {
   "cell_type": "code",
   "execution_count": 5,
   "metadata": {},
   "outputs": [
    {
     "name": "stdout",
     "output_type": "stream",
     "text": [
      "Alice_01 0(0) or 1(1) : [0, 0, 1, 0, 1, 0, 0, 0, 1, 1, 0, 1, 1, 0, 0, 0, 1, 0, 0, 1, 0, 1, 1, 1, 0, 0, 0, 1, 0, 0, 1, 1, 1, 1, 1, 0, 0, 0, 0, 1, 1, 0, 1, 0, 1, 1, 1, 0, 0, 0, 1, 1, 1, 1, 0, 1, 0, 0, 1, 1, 1, 1, 1, 0, 1, 0, 1, 0, 0, 1]\n",
      "Alice_basis Z(0) or X(1) or Y(2): [0, 1, 0, 0, 1, 2, 0, 1, 0, 0, 1, 0, 1, 2, 2, 2, 0, 1, 0, 0, 1, 2, 0, 0, 1, 2, 2, 0, 0, 1, 1, 2, 0, 2, 1, 0, 2, 2, 2, 2, 2, 2, 2, 1, 1, 0, 2, 1, 2, 2, 1, 1, 1, 0, 1, 2, 1, 1, 2, 1, 2, 2, 2, 1, 2, 1, 1, 0, 2, 2]\n",
      "Bob_basis   B1(0)(Z) or B2(1)(X) or B3(2)(Y): [0, 0, 1, 1, 2, 0, 2, 2, 0, 2, 1, 1, 1, 0, 0, 2, 1, 2, 2, 1, 2, 1, 0, 2, 2, 1, 1, 2, 2, 1, 2, 2, 0, 1, 0, 2, 0, 1, 1, 2, 0, 1, 1, 2, 1, 1, 0, 0, 0, 2, 2, 2, 1, 0, 0, 2, 2, 0, 2, 0, 1, 0, 2, 0, 2, 2, 0, 1, 2, 0]\n"
     ]
    }
   ],
   "source": [
    "# Alice randomly generates qubits and Bob randomly chooses bases\n",
    "\n",
    "n=70 # n qubits\n",
    "\n",
    "import random\n",
    "def random_01str(list,num):\n",
    "    for i in range(num):\n",
    "        list.append(random.randint(0,1))\n",
    "\n",
    "        \n",
    "def random_012str(list,num):\n",
    "    for i in range(num):\n",
    "        list.append(random.randint(0,2))\n",
    "        \n",
    "        \n",
    "\n",
    "Alice_01=[]\n",
    "Alice_basis=[]\n",
    "Bob_basis=[]\n",
    "\n",
    "Alice_01.clear()\n",
    "Alice_basis.clear()\n",
    "Bob_basis.clear()\n",
    "\n",
    "random_01str(Alice_01,n)\n",
    "random_012str(Alice_basis,n)\n",
    "random_012str(Bob_basis,n)\n",
    "\n",
    "print(\"Alice_01 0(0) or 1(1) : {}\".format(Alice_01))\n",
    "print(\"Alice_basis Z(0) or X(1) or Y(2): {}\".format(Alice_basis))\n",
    "print(\"Bob_basis   B1(0)(Z) or B2(1)(X) or B3(2)(Y): {}\".format(Bob_basis))"
   ]
  },
  {
   "cell_type": "code",
   "execution_count": 8,
   "metadata": {},
   "outputs": [
    {
     "data": {
      "text/html": [
       "<pre style=\"word-wrap: normal;white-space: pre;line-height: 15px;\">        ┌───┐┌───┐ ░ ┌─┐\n",
       "q_0: |0>┤ H ├┤ S ├─░─┤M├\n",
       "        └───┘└───┘ ░ └╥┘\n",
       " c_0: 0 ══════════════╩═\n",
       "                        \n",
       " c_1: 0 ════════════════\n",
       "                        </pre>"
      ],
      "text/plain": [
       "<qiskit.visualization.text.TextDrawing at 0x7fdf0dd58940>"
      ]
     },
     "execution_count": 8,
     "metadata": {},
     "output_type": "execute_result"
    }
   ],
   "source": [
    "# generate circuits\n",
    "\n",
    "Bob_circ = [B1,B2,B3]\n",
    "\n",
    "circuits=[]\n",
    "circuits.clear()\n",
    "\n",
    "for i in range(n):\n",
    "    if Alice_01[i]==0:\n",
    "        if Alice_basis[i]==0:\n",
    "            OneCircuit = Alice_circ0 + Bob_circ[Bob_basis[i]]\n",
    "        elif Alice_basis[i]==1:\n",
    "            OneCircuit = Alice_circ2 + Bob_circ[Bob_basis[i]]\n",
    "        elif Alice_basis[i]==2:\n",
    "            OneCircuit = Alice_circ5 + Bob_circ[Bob_basis[i]]\n",
    "    elif Alice_01[i]==1:\n",
    "        if Alice_basis[i]==0:\n",
    "            OneCircuit = Alice_circ1 + Bob_circ[Bob_basis[i]]\n",
    "        elif Alice_basis[i]==1:\n",
    "            OneCircuit = Alice_circ3 + Bob_circ[Bob_basis[i]]\n",
    "        elif Alice_basis[i]==2:\n",
    "            OneCircuit = Alice_circ6 + Bob_circ[Bob_basis[i]]\n",
    "        \n",
    "\n",
    "    circuits.append(OneCircuit)\n",
    "    \n",
    "    \n",
    "#circuits[0].draw()\n",
    "circuits[5].draw()"
   ]
  },
  {
   "cell_type": "code",
   "execution_count": 9,
   "metadata": {},
   "outputs": [
    {
     "name": "stdout",
     "output_type": "stream",
     "text": [
      "{'00': 1}\n"
     ]
    }
   ],
   "source": [
    "from qiskit import execute, BasicAer\n",
    "from qiskit.tools.visualization import plot_histogram\n",
    "backend_sim = BasicAer.get_backend('qasm_simulator')\n",
    "\n",
    "job_sim = qiskit.execute(circuits, backend_sim, shots=1024)\n",
    "result_sim = job_sim.result()\n",
    "counts = result_sim.get_counts(circuits[0])\n",
    "print(counts)"
   ]
  },
  {
   "cell_type": "code",
   "execution_count": 10,
   "metadata": {},
   "outputs": [
    {
     "name": "stdout",
     "output_type": "stream",
     "text": [
      "Bob_result   = [0, 0, 0, 0, 0, 0, 0, 0, 1, 0, 0, 0, 1, 1, 1, 0, 1, 0, 1, 1, 0, 0, 1, 1, 1, 1, 1, 0, 1, 0, 0, 1, 1, 0, 1, 1, 1, 0, 1, 1, 1, 0, 0, 0, 1, 1, 0, 1, 1, 0, 1, 0, 1, 1, 0, 1, 0, 0, 1, 1, 1, 0, 1, 0, 1, 0, 1, 1, 0, 0]\n"
     ]
    }
   ],
   "source": [
    "# get Bob's result\n",
    "\n",
    "#result = list(result_sim.get_counts(circuits[i]))[0]\n",
    "Bob_result=[]\n",
    "\n",
    "Bob_result.clear()\n",
    "\n",
    "for i in range(n):\n",
    "    Bob_result.append(int((list(result_sim.get_counts(circuits[i]))[0])[1]))\n",
    "    \n",
    "print(\"Bob_result   = {}\".format(Bob_result))"
   ]
  },
  {
   "cell_type": "code",
   "execution_count": 11,
   "metadata": {},
   "outputs": [
    {
     "name": "stdout",
     "output_type": "stream",
     "text": [
      "pos= [0, 8, 10, 12, 15, 22, 29, 31, 32, 39, 44, 49, 52, 53, 55, 58, 62, 64, 68]\n",
      "key1   = [0, 1, 0, 1, 0, 1, 0, 1, 1, 1, 1, 0, 1, 1, 1, 1, 1, 1, 0]\n"
     ]
    }
   ],
   "source": [
    "#Check the same basis\n",
    "\n",
    "pos=[]\n",
    "key1=[]\n",
    "\n",
    "pos.clear()\n",
    "key1.clear()\n",
    "\n",
    "for i in range(n):\n",
    "    if Alice_basis[i]==Bob_basis[i]:\n",
    "        pos.append(i)\n",
    "        key1.append(Bob_result[i])\n",
    "\n",
    "print(\"pos= {}\".format(pos))\n",
    "print(\"key1   = {}\".format(key1))\n",
    "\n",
    "key2=[]\n",
    "key2.clear()\n",
    "key2.extend(key1)"
   ]
  },
  {
   "cell_type": "code",
   "execution_count": 12,
   "metadata": {},
   "outputs": [
    {
     "name": "stdout",
     "output_type": "stream",
     "text": [
      "check pos = 8,  Alice 1 = Bob 1\n",
      "check pos = 58,  Alice 1 = Bob 1\n",
      "check pos = 10,  Alice 0 = Bob 0\n",
      "check pos = 44,  Alice 1 = Bob 1\n",
      "check pos = 15,  Alice 0 = Bob 0\n",
      "check pos = 29,  Alice 0 = Bob 0\n",
      "check pos = 64,  Alice 1 = Bob 1\n",
      "check pos = 12,  Alice 1 = Bob 1\n",
      "check pos = 55,  Alice 1 = Bob 1\n",
      "key2 = [0, 1, 1, 1, 1, 0, 1, 1, 1, 0]\n",
      "accuracy = 100.0%\n"
     ]
    }
   ],
   "source": [
    "# Check result\n",
    "\n",
    "num=len(key2)\n",
    "total_times=len(key2)//2\n",
    "right_times = 0\n",
    "\n",
    "for i in range(total_times):\n",
    "    rand=random.randint(0,num-1)\n",
    "    if Alice_01[pos[rand]]==Bob_result[pos[rand]]:\n",
    "        right_times+=1\n",
    "        print(\"check pos = {}, \".format(pos[rand]),end=' ')\n",
    "        print(\"Alice {} = Bob {}\".format(Alice_01[pos[rand]],Bob_result[pos[rand]]))\n",
    "    else :\n",
    "        print(\"check pos = {}\".format(pos[rand]),end=' ')\n",
    "        print(\"Alice {} != Bob {}\".format(Alice_01[pos[rand]],Bob_result[pos[rand]]))\n",
    "        print(\"different qubit has been found\")\n",
    "\n",
    "    del key2[rand]\n",
    "    del pos[rand]\n",
    "    num-=1\n",
    "    \n",
    "print(\"key2 = {}\".format(key2))\n",
    "acc=(right_times/total_times)\n",
    "print(\"accuracy = {}%\".format(acc*100))"
   ]
  },
  {
   "cell_type": "code",
   "execution_count": 13,
   "metadata": {},
   "outputs": [
    {
     "data": {
      "text/html": [
       "<pre style=\"word-wrap: normal;white-space: pre;line-height: 15px;\">        ┌────────────┐┌─┐\n",
       "q_0: |0>┤ Rx(1.5708) ├┤M├\n",
       "        └────────────┘└╥┘\n",
       " c_0: 0 ═══════════════╬═\n",
       "                       ║ \n",
       " c_1: 0 ═══════════════╩═\n",
       "                         </pre>"
      ],
      "text/plain": [
       "<qiskit.visualization.text.TextDrawing at 0x7fdf150aac88>"
      ]
     },
     "execution_count": 13,
     "metadata": {},
     "output_type": "execute_result"
    }
   ],
   "source": [
    "# eavesdropper\n",
    "\n",
    "# Eve measurement\n",
    "E1 = QuantumCircuit(q,c) # Z basis\n",
    "E1.measure(q[0],c[1])\n",
    "\n",
    "E2 = QuantumCircuit(q,c) # X basis\n",
    "E2.h(q[0])\n",
    "E2.measure(q[0],c[1])\n",
    "\n",
    "E3 = QuantumCircuit(q,c) # don't measure\n",
    "\n",
    "E5 = QuantumCircuit(q,c) # Y basis\n",
    "E5.rx((1/2)*np.pi,q[0])\n",
    "E5.measure(q[0],c[1])\n",
    "\n",
    "\n",
    "#E1.draw()\n",
    "#E2.draw()\n",
    "#E3.draw()\n",
    "E5.draw()"
   ]
  },
  {
   "cell_type": "code",
   "execution_count": 14,
   "metadata": {},
   "outputs": [
    {
     "name": "stdout",
     "output_type": "stream",
     "text": [
      "Eve_basis   E1(0)(Z) or E2(1)(X) or E3(2)(don't measure) or E5(3)(Y) : [3, 3, 1, 0, 1, 1, 3, 2, 1, 2, 3, 3, 1, 0, 2, 0, 2, 0, 3, 2, 2, 0, 3, 3, 0, 3, 1, 2, 3, 0, 1, 3, 2, 2, 1, 0, 2, 0, 3, 2, 3, 3, 1, 0, 2, 2, 3, 0, 1, 2, 1, 2, 3, 2, 2, 0, 0, 3, 2, 2, 1, 0, 1, 1, 0, 0, 2, 0, 0, 1]\n"
     ]
    }
   ],
   "source": [
    "def EveRandom_0123str(list,num):\n",
    "    for i in range(num):\n",
    "        list.append(random.randint(0,3))\n",
    "\n",
    "Eve_basis=[]\n",
    "\n",
    "Eve_basis.clear()\n",
    "\n",
    "EveRandom_0123str(Eve_basis,n)\n",
    "\n",
    "print(\"Eve_basis   E1(0)(Z) or E2(1)(X) or E3(2)(don't measure) or E5(3)(Y) : {}\".format(Eve_basis))"
   ]
  },
  {
   "cell_type": "code",
   "execution_count": 15,
   "metadata": {},
   "outputs": [
    {
     "data": {
      "text/html": [
       "<pre style=\"word-wrap: normal;white-space: pre;line-height: 15px;\">         ░ ┌────────────┐┌─┐┌─┐\n",
       "q_0: |0>─░─┤ Rx(1.5708) ├┤M├┤M├\n",
       "         ░ └────────────┘└╥┘└╥┘\n",
       " c_0: 0 ══════════════════╬══╩═\n",
       "                          ║    \n",
       " c_1: 0 ══════════════════╩════\n",
       "                               </pre>"
      ],
      "text/plain": [
       "<qiskit.visualization.text.TextDrawing at 0x7fdf0d3c4b70>"
      ]
     },
     "execution_count": 15,
     "metadata": {},
     "output_type": "execute_result"
    }
   ],
   "source": [
    "Eve_circ = [E1,E2,E3,E5]\n",
    "\n",
    "circuits_eve=[]\n",
    "circuits_eve.clear()\n",
    "\n",
    "for i in range(n):\n",
    "    if Alice_01[i]==0:\n",
    "        if Alice_basis[i]==0:\n",
    "            OneCircuit_eve = Alice_circ0 + Eve_circ[Eve_basis[i]] + Bob_circ[Bob_basis[i]]\n",
    "        elif Alice_basis[i]==1:\n",
    "            OneCircuit_eve = Alice_circ2 + Eve_circ[Eve_basis[i]] + Bob_circ[Bob_basis[i]]\n",
    "        elif Alice_basis[i]==2:\n",
    "            OneCircuit_eve = Alice_circ5 + Eve_circ[Eve_basis[i]] + Bob_circ[Bob_basis[i]]\n",
    "    elif Alice_01[i]==1:\n",
    "        if Alice_basis[i]==0:\n",
    "            OneCircuit_eve = Alice_circ1 + Eve_circ[Eve_basis[i]] + Bob_circ[Bob_basis[i]]\n",
    "        elif Alice_basis[i]==1:\n",
    "            OneCircuit_eve = Alice_circ3 + Eve_circ[Eve_basis[i]] + Bob_circ[Bob_basis[i]]\n",
    "        elif Alice_basis[i]==2:\n",
    "            OneCircuit_eve = Alice_circ6 + Eve_circ[Eve_basis[i]] + Bob_circ[Bob_basis[i]]\n",
    "    \n",
    "\n",
    "    circuits_eve.append(OneCircuit_eve)\n",
    "      \n",
    "circuits_eve[0].draw()"
   ]
  },
  {
   "cell_type": "code",
   "execution_count": 17,
   "metadata": {},
   "outputs": [
    {
     "name": "stdout",
     "output_type": "stream",
     "text": [
      "{'00': 495, '01': 529}\n"
     ]
    }
   ],
   "source": [
    "job_sim_eve = qiskit.execute(circuits_eve, backend_sim, shots=1024)\n",
    "result_eve = job_sim_eve.result()\n",
    "count_eve = result_eve.get_counts(circuits_eve[0])\n",
    "print(count_eve)"
   ]
  },
  {
   "cell_type": "code",
   "execution_count": 18,
   "metadata": {},
   "outputs": [
    {
     "name": "stdout",
     "output_type": "stream",
     "text": [
      "Bob_result_eve   = [0, 0, 0, 0, 0, 0, 0, 0, 0, 0, 0, 0, 0, 0, 0, 0, 0, 0, 0, 0, 0, 0, 0, 0, 0, 0, 0, 0, 0, 0, 0, 0, 1, 0, 1, 0, 0, 0, 0, 1, 1, 0, 0, 0, 1, 0, 1, 0, 0, 0, 0, 0, 0, 1, 0, 0, 0, 0, 1, 0, 0, 0, 0, 0, 0, 0, 0, 0, 0, 0]\n"
     ]
    }
   ],
   "source": [
    "# get Bob's result\n",
    "\n",
    "#result = list(result_eve.get_counts(circuits_eve[i]))[0]\n",
    "Bob_result_eve=[]\n",
    "\n",
    "Bob_result_eve.clear()\n",
    "\n",
    "for i in range(n):\n",
    "    Bob_result_eve.append(int((list(result_eve.get_counts(circuits_eve[i]))[0])[1]))\n",
    "    \n",
    "print(\"Bob_result_eve   = {}\".format(Bob_result_eve))"
   ]
  },
  {
   "cell_type": "code",
   "execution_count": 25,
   "metadata": {},
   "outputs": [
    {
     "name": "stdout",
     "output_type": "stream",
     "text": [
      "pos_eve= [0, 8, 10, 12, 15, 22, 29, 31, 32, 39, 44, 49, 52, 53, 55, 58, 62, 64, 68]\n",
      "key1_eve   = [0, 0, 0, 0, 0, 0, 0, 0, 1, 1, 1, 0, 0, 1, 0, 1, 0, 0, 0]\n"
     ]
    }
   ],
   "source": [
    "#Check the same basis\n",
    "\n",
    "pos_eve=[]\n",
    "key1_eve=[]\n",
    "\n",
    "pos_eve.clear()\n",
    "key1_eve.clear()\n",
    "\n",
    "for i in range(n):\n",
    "    if Alice_basis[i]==Bob_basis[i]:\n",
    "        pos_eve.append(i)\n",
    "        key1_eve.append(Bob_result_eve[i])\n",
    "\n",
    "print(\"pos_eve= {}\".format(pos_eve))\n",
    "print(\"key1_eve   = {}\".format(key1_eve))\n",
    "\n",
    "key2_eve=[]\n",
    "key2_eve.clear()\n",
    "key2_eve.extend(key1_eve)\n",
    "\n",
    "key3_eve=[]\n",
    "key3_eve.clear()\n",
    "key3_eve.extend(key1_eve)\n",
    "\n",
    "pos3_eve=[]\n",
    "pos3_eve.clear()\n",
    "pos3_eve.extend(pos_eve)"
   ]
  },
  {
   "cell_type": "code",
   "execution_count": 26,
   "metadata": {},
   "outputs": [
    {
     "name": "stdout",
     "output_type": "stream",
     "text": [
      "check pos = 52 Alice 1 != Bob 0\n",
      "different qubit has been found\n",
      "check pos = 62 Alice 1 != Bob 0\n",
      "different qubit has been found\n",
      "check pos = 44,  Alice 1 = Bob 1\n",
      "check pos = 39,  Alice 1 = Bob 1\n",
      "check pos = 8 Alice 1 != Bob 0\n",
      "different qubit has been found\n",
      "check pos = 29,  Alice 0 = Bob 0\n",
      "check pos = 12 Alice 1 != Bob 0\n",
      "different qubit has been found\n",
      "check pos = 49,  Alice 0 = Bob 0\n",
      "check pos = 53,  Alice 1 = Bob 1\n",
      "\n",
      "key2_eve = [0, 0, 0, 0, 0, 1, 0, 1, 0, 0]\n",
      "accuracy = 55.55555555555556%\n"
     ]
    }
   ],
   "source": [
    "# Check result\n",
    "\n",
    "num_eve=len(key2_eve)\n",
    "total_times_eve=len(key2_eve)//2\n",
    "right_times_eve = 0\n",
    "\n",
    "for i in range(total_times_eve):\n",
    "    rand=random.randint(0,num_eve-1)\n",
    "    if Alice_01[pos_eve[rand]]==Bob_result_eve[pos_eve[rand]]:\n",
    "        right_times_eve+=1\n",
    "        print(\"check pos = {}, \".format(pos_eve[rand]),end=' ')\n",
    "        print(\"Alice {} = Bob {}\".format(Alice_01[pos_eve[rand]],Bob_result_eve[pos_eve[rand]]))\n",
    "    else :\n",
    "        print(\"check pos = {}\".format(pos_eve[rand]),end=' ')\n",
    "        print(\"Alice {} != Bob {}\".format(Alice_01[pos_eve[rand]],Bob_result_eve[pos_eve[rand]]))\n",
    "        print(\"different qubit has been found\")\n",
    "\n",
    "    del key2_eve[rand]\n",
    "    del pos_eve[rand]\n",
    "    num_eve-=1\n",
    "    \n",
    "    \n",
    "    \n",
    "\n",
    "print()\n",
    "print(\"key2_eve = {}\".format(key2_eve))\n",
    "acc_eve=(right_times_eve/total_times_eve)\n",
    "print(\"accuracy = {}%\".format(acc_eve*100))"
   ]
  },
  {
   "cell_type": "code",
   "execution_count": 27,
   "metadata": {},
   "outputs": [
    {
     "name": "stdout",
     "output_type": "stream",
     "text": [
      "check pos = 29,  Alice 0 = Bob 0\n",
      "check pos = 15,  Alice 0 = Bob 0\n",
      "check pos = 62 Alice 1 != Bob 0\n",
      "different qubit has been found\n",
      "check pos = 0,  Alice 0 = Bob 0\n",
      "check pos = 58,  Alice 1 = Bob 1\n",
      "check pos = 49,  Alice 0 = Bob 0\n",
      "check pos = 55 Alice 1 != Bob 0\n",
      "different qubit has been found\n",
      "check pos = 39,  Alice 1 = Bob 1\n",
      "check pos = 31 Alice 1 != Bob 0\n",
      "different qubit has been found\n",
      "check pos = 53,  Alice 1 = Bob 1\n",
      "check pos = 68,  Alice 0 = Bob 0\n",
      "check pos = 8 Alice 1 != Bob 0\n",
      "different qubit has been found\n",
      "check pos = 44,  Alice 1 = Bob 1\n",
      "check pos = 64 Alice 1 != Bob 0\n",
      "different qubit has been found\n",
      "check pos = 12 Alice 1 != Bob 0\n",
      "different qubit has been found\n",
      "check pos = 52 Alice 1 != Bob 0\n",
      "different qubit has been found\n",
      "check pos = 32,  Alice 1 = Bob 1\n",
      "check pos = 10,  Alice 0 = Bob 0\n",
      "check pos = 22 Alice 1 != Bob 0\n",
      "different qubit has been found\n",
      "\n",
      "key3_eve = []\n",
      "accuracy = 57.89473684210527%\n"
     ]
    }
   ],
   "source": [
    "# Check all result\n",
    "\n",
    "num_eve3=len(key3_eve)\n",
    "total_times_eve3=len(key3_eve)\n",
    "right_times_eve3 = 0\n",
    "\n",
    "for i in range(total_times_eve3):\n",
    "    rand=random.randint(0,num_eve3-1)\n",
    "    if Alice_01[pos3_eve[rand]]==Bob_result_eve[pos3_eve[rand]]:\n",
    "        right_times_eve3+=1\n",
    "        print(\"check pos = {}, \".format(pos3_eve[rand]),end=' ')\n",
    "        print(\"Alice {} = Bob {}\".format(Alice_01[pos3_eve[rand]],Bob_result_eve[pos3_eve[rand]]))\n",
    "    else :\n",
    "        print(\"check pos = {}\".format(pos3_eve[rand]),end=' ')\n",
    "        print(\"Alice {} != Bob {}\".format(Alice_01[pos3_eve[rand]],Bob_result_eve[pos3_eve[rand]]))\n",
    "        print(\"different qubit has been found\")\n",
    "\n",
    "    del key3_eve[rand]\n",
    "    del pos3_eve[rand]\n",
    "    num_eve3-=1\n",
    "    \n",
    "    \n",
    "\n",
    "print()\n",
    "print(\"key3_eve = {}\".format(key3_eve))\n",
    "acc_eve3=(right_times_eve3/total_times_eve3)\n",
    "print(\"accuracy = {}%\".format(acc_eve3*100))"
   ]
  },
  {
   "cell_type": "code",
   "execution_count": null,
   "metadata": {},
   "outputs": [],
   "source": []
  }
 ],
 "metadata": {
  "kernelspec": {
   "display_name": "Python 3",
   "language": "python",
   "name": "python3"
  },
  "language_info": {
   "codemirror_mode": {
    "name": "ipython",
    "version": 3
   },
   "file_extension": ".py",
   "mimetype": "text/x-python",
   "name": "python",
   "nbconvert_exporter": "python",
   "pygments_lexer": "ipython3",
   "version": "3.7.3"
  }
 },
 "nbformat": 4,
 "nbformat_minor": 2
}
