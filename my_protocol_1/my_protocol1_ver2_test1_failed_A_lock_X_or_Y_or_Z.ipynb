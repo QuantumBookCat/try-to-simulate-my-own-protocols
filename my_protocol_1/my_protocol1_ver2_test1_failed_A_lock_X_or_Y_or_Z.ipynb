{
 "cells": [
  {
   "cell_type": "code",
   "execution_count": 1,
   "metadata": {},
   "outputs": [],
   "source": [
    "from qiskit import QuantumCircuit, ClassicalRegister, QuantumRegister\n",
    "import numpy as np\n",
    "import qiskit\n",
    "%matplotlib inline\n",
    "import random"
   ]
  },
  {
   "cell_type": "code",
   "execution_count": 2,
   "metadata": {},
   "outputs": [
    {
     "name": "stdout",
     "output_type": "stream",
     "text": [
      "message : [1, 1, 1, 0, 1, 0, 0, 0]\n"
     ]
    }
   ],
   "source": [
    "# Step0\n",
    "\n",
    "n=8  # length of message = n, n must be multiple of 4.\n",
    "\n",
    "def random_01str(list,length):\n",
    "    for i in range(length):\n",
    "        list.append(random.randint(0,1))\n",
    "        \n",
    "message = []\n",
    "message.clear()\n",
    "random_01str(message,n)\n",
    "print(\"message : {}\".format(message))"
   ]
  },
  {
   "cell_type": "code",
   "execution_count": 3,
   "metadata": {},
   "outputs": [
    {
     "name": "stdout",
     "output_type": "stream",
     "text": [
      "message_part1 : [1, 1, 1, 0]\n",
      "message_part2 : [1, 0, 0, 0]\n",
      "XOR_message : [0, 1, 1, 0]\n",
      "XOR_m : [0, 1, 1, 0]\n"
     ]
    }
   ],
   "source": [
    "def XOR_message(list1,list2):\n",
    "    list_part1=[]\n",
    "    list_part1.clear()\n",
    "    list_part2=[]\n",
    "    list_part2.clear()\n",
    "    for i in range(len(list1)//2):\n",
    "        list_part1.append(list1[i])\n",
    "        list_part2.append(list1[i+(len(list1)//2)])\n",
    "        \n",
    "    print(\"message_part1 : {}\".format(list_part1))\n",
    "    print(\"message_part2 : {}\".format(list_part2))\n",
    "        \n",
    "    XOR_list=[]\n",
    "    XOR_list.clear()\n",
    "    for j in range(len(list1)//2):\n",
    "        if list_part1[j]==list_part2[j]:\n",
    "            XOR_list.append(0)\n",
    "        else:\n",
    "            XOR_list.append(1)\n",
    "    \n",
    "    print(\"XOR_message : {}\".format(XOR_list))\n",
    "    list2.extend(XOR_list)    \n",
    "        \n",
    "        \n",
    "\n",
    "XOR_m=[]  \n",
    "XOR_m.clear()\n",
    "\n",
    "XOR_message(message,XOR_m)\n",
    "print(\"XOR_m : {}\".format(XOR_m))"
   ]
  },
  {
   "cell_type": "code",
   "execution_count": 4,
   "metadata": {},
   "outputs": [
    {
     "name": "stdout",
     "output_type": "stream",
     "text": [
      "m_XOR_m : [1, 1, 1, 0, 1, 0, 0, 0, 0, 1, 1, 0]\n"
     ]
    }
   ],
   "source": [
    "m_XOR_m=[]  \n",
    "m_XOR_m.clear()\n",
    "m_XOR_m=message+XOR_m\n",
    "print(\"m_XOR_m : {}\".format(m_XOR_m))"
   ]
  },
  {
   "cell_type": "code",
   "execution_count": 5,
   "metadata": {},
   "outputs": [
    {
     "name": "stdout",
     "output_type": "stream",
     "text": [
      "preshared_string : [2, 1, 1, 0, 0, 2]\n"
     ]
    }
   ],
   "source": [
    "preshared_string=[]  \n",
    "preshared_string.clear()\n",
    "\n",
    "def random_012str(list1,length):\n",
    "    for i in range(length):\n",
    "        list1.append(random.randint(0,2))\n",
    "        \n",
    "random_012str(preshared_string,(n*3)//4)\n",
    "print(\"preshared_string : {}\".format(preshared_string))"
   ]
  },
  {
   "cell_type": "code",
   "execution_count": 6,
   "metadata": {},
   "outputs": [
    {
     "name": "stdout",
     "output_type": "stream",
     "text": [
      "m_XOR_m : [1, 1, 1, 0, 1, 0, 0, 0, 0, 1, 1, 0]\n"
     ]
    },
    {
     "data": {
      "text/html": [
       "<pre style=\"word-wrap: normal;white-space: pre;line-height: 15px;\">        ┌───┐┌───┐\n",
       "q_0: |0>┤ X ├┤ H ├\n",
       "        └───┘└───┘\n",
       " c_0: 0 ══════════\n",
       "                  \n",
       " c_1: 0 ══════════\n",
       "                  </pre>"
      ],
      "text/plain": [
       "<qiskit.visualization.text.TextDrawing at 0x7f8e30628128>"
      ]
     },
     "execution_count": 6,
     "metadata": {},
     "output_type": "execute_result"
    }
   ],
   "source": [
    "# Step1 : depends on m||XOR(m), operate N |0> qubits with H,S(0) and H,Sdg(1)\n",
    "print(\"m_XOR_m : {}\".format(m_XOR_m))\n",
    "\n",
    "# generate one qubit\n",
    "\n",
    "q = QuantumRegister(1,'q')\n",
    "c = ClassicalRegister(2,'c')\n",
    "\n",
    "# Alice\n",
    "#m_circ0 = QuantumCircuit(q,c)  # |+y>\n",
    "#m_circ0.h(q[0])  \n",
    "#m_circ0.s(q[0]) \n",
    "#m_circ0.barrier(q)\n",
    "\n",
    "#m_circ1 = QuantumCircuit(q,c)  # |-y>\n",
    "#m_circ1.h(q[0])\n",
    "#m_circ1.sdg(q[0])\n",
    "#m_circ1.barrier(q)\n",
    "\n",
    "m_circ0 = QuantumCircuit(q,c)  # |+>\n",
    "m_circ0.h(q[0])  \n",
    "#m_circ0.barrier(q)\n",
    "\n",
    "m_circ1 = QuantumCircuit(q,c)  # |->\n",
    "m_circ1.x(q[0])\n",
    "m_circ1.h(q[0])\n",
    "#m_circ1.barrier(q)\n",
    "\n",
    "\n",
    "#m_circ0.draw()\n",
    "m_circ1.draw()"
   ]
  },
  {
   "cell_type": "code",
   "execution_count": 7,
   "metadata": {},
   "outputs": [
    {
     "name": "stdout",
     "output_type": "stream",
     "text": [
      "length of circuits_m_XOR_m : 12\n"
     ]
    },
    {
     "data": {
      "text/html": [
       "<pre style=\"word-wrap: normal;white-space: pre;line-height: 15px;\">        ┌───┐┌───┐\n",
       "q_0: |0>┤ X ├┤ H ├\n",
       "        └───┘└───┘\n",
       " c_0: 0 ══════════\n",
       "                  \n",
       " c_1: 0 ══════════\n",
       "                  </pre>"
      ],
      "text/plain": [
       "<qiskit.visualization.text.TextDrawing at 0x7f8dfe6e9898>"
      ]
     },
     "execution_count": 7,
     "metadata": {},
     "output_type": "execute_result"
    }
   ],
   "source": [
    "# generate circuits\n",
    "\n",
    "m_circ=[m_circ0,m_circ1]\n",
    "\n",
    "circuits_m_XOR_m=[]\n",
    "circuits_m_XOR_m.clear()\n",
    "\n",
    "for i in range((n*3)//2):\n",
    "    circuits_m_XOR_m.append(m_circ[m_XOR_m[i]])\n",
    "    \n",
    "print(\"length of circuits_m_XOR_m : {}\".format(len(circuits_m_XOR_m)))\n",
    "circuits_m_XOR_m[0].draw()"
   ]
  },
  {
   "cell_type": "code",
   "execution_count": 8,
   "metadata": {},
   "outputs": [
    {
     "name": "stdout",
     "output_type": "stream",
     "text": [
      "preshared_string : [2, 1, 1, 0, 0, 2]\n",
      "decoy ,0(|+>) or 1(|->) : [1, 0, 0, 0, 1, 1]\n"
     ]
    },
    {
     "data": {
      "text/html": [
       "<pre style=\"word-wrap: normal;white-space: pre;line-height: 15px;\">        ┌───┐┌───┐\n",
       "q_0: |0>┤ X ├┤ H ├\n",
       "        └───┘└───┘\n",
       " c_0: 0 ══════════\n",
       "                  \n",
       " c_1: 0 ══════════\n",
       "                  </pre>"
      ],
      "text/plain": [
       "<qiskit.visualization.text.TextDrawing at 0x7f8dfe62af98>"
      ]
     },
     "execution_count": 8,
     "metadata": {},
     "output_type": "execute_result"
    }
   ],
   "source": [
    "# Step2 : depends on Pre-shared String, insert decoy photons (|+> or |->) for each two m_XOR_m qubits\n",
    "#         0 --> insert in the middle, 1 --> insert at the left side, 2 --> insert at the right side\n",
    "print(\"preshared_string : {}\".format(preshared_string))\n",
    "\n",
    "decoy=[]\n",
    "decoy.clear()\n",
    "random_01str(decoy,(n*3)//4)\n",
    "print(\"decoy ,0(|+>) or 1(|->) : {}\".format(decoy))\n",
    "\n",
    "\n",
    "Decoy_circ2 = QuantumCircuit(q,c)  # |+>\n",
    "Decoy_circ2.h(q[0])  \n",
    "#Decoy_circ2.barrier(q)\n",
    "\n",
    "Decoy_circ3 = QuantumCircuit(q,c)  # |->\n",
    "Decoy_circ3.x(q[0])\n",
    "Decoy_circ3.h(q[0])\n",
    "#Decoy_circ3.barrier(q)\n",
    "\n",
    "\n",
    "#Decoy_circ2.draw()\n",
    "Decoy_circ3.draw()"
   ]
  },
  {
   "cell_type": "code",
   "execution_count": 9,
   "metadata": {},
   "outputs": [
    {
     "name": "stdout",
     "output_type": "stream",
     "text": [
      "length of circuits_Decoy : 6\n"
     ]
    },
    {
     "data": {
      "text/html": [
       "<pre style=\"word-wrap: normal;white-space: pre;line-height: 15px;\">        ┌───┐┌───┐\n",
       "q_0: |0>┤ X ├┤ H ├\n",
       "        └───┘└───┘\n",
       " c_0: 0 ══════════\n",
       "                  \n",
       " c_1: 0 ══════════\n",
       "                  </pre>"
      ],
      "text/plain": [
       "<qiskit.visualization.text.TextDrawing at 0x7f8dfe62acf8>"
      ]
     },
     "execution_count": 9,
     "metadata": {},
     "output_type": "execute_result"
    }
   ],
   "source": [
    "# generate circuits\n",
    "\n",
    "Decoy_circ=[Decoy_circ2,Decoy_circ3]\n",
    "\n",
    "circuits_Decoy=[]\n",
    "circuits_Decoy.clear()\n",
    "\n",
    "for i in range((n*3)//4):\n",
    "    circuits_Decoy.append(Decoy_circ[decoy[i]])\n",
    "    \n",
    "print(\"length of circuits_Decoy : {}\".format(len(circuits_Decoy)))\n",
    "circuits_Decoy[0].draw()"
   ]
  },
  {
   "cell_type": "code",
   "execution_count": 10,
   "metadata": {},
   "outputs": [
    {
     "name": "stdout",
     "output_type": "stream",
     "text": [
      "length of circuits_MD_step2 : 18\n"
     ]
    },
    {
     "data": {
      "text/html": [
       "<pre style=\"word-wrap: normal;white-space: pre;line-height: 15px;\">        ┌───┐┌───┐\n",
       "q_0: |0>┤ X ├┤ H ├\n",
       "        └───┘└───┘\n",
       " c_0: 0 ══════════\n",
       "                  \n",
       " c_1: 0 ══════════\n",
       "                  </pre>"
      ],
      "text/plain": [
       "<qiskit.visualization.text.TextDrawing at 0x7f8dfe651fd0>"
      ]
     },
     "execution_count": 10,
     "metadata": {},
     "output_type": "execute_result"
    }
   ],
   "source": [
    "circuits_MD_step2=[]\n",
    "circuits_MD_step2.clear()\n",
    "\n",
    "for i in range((n*3)//4):\n",
    "    if preshared_string[i]==0:  # mdm\n",
    "        circuits_MD_step2.append(circuits_m_XOR_m[2*i])\n",
    "        circuits_MD_step2.append(circuits_Decoy[i])\n",
    "        circuits_MD_step2.append(circuits_m_XOR_m[2*i+1])\n",
    "    elif preshared_string[i]==1:  #dmm\n",
    "        circuits_MD_step2.append(circuits_Decoy[i])\n",
    "        circuits_MD_step2.append(circuits_m_XOR_m[2*i])\n",
    "        circuits_MD_step2.append(circuits_m_XOR_m[2*i+1])\n",
    "    elif preshared_string[i]==2:  #mmd\n",
    "        circuits_MD_step2.append(circuits_m_XOR_m[2*i])\n",
    "        circuits_MD_step2.append(circuits_m_XOR_m[2*i+1])\n",
    "        circuits_MD_step2.append(circuits_Decoy[i])\n",
    "    \n",
    "\n",
    "    \n",
    "print(\"length of circuits_MD_step2 : {}\".format(len(circuits_MD_step2)))\n",
    "circuits_MD_step2[0].draw()"
   ]
  },
  {
   "cell_type": "code",
   "execution_count": 11,
   "metadata": {},
   "outputs": [
    {
     "name": "stdout",
     "output_type": "stream",
     "text": [
      "Alice_lock_XYZ : [1, 2, 0, 0, 2, 2, 1, 1, 0, 2, 1, 2]\n",
      "length of Alice_lock_XYZ : 12\n",
      "Alice_lock_rx : [289, 116, 246, 222, 150, 80]\n",
      "Alice_lock_ry : [280, 154, 56, 21, 344, 128]\n",
      "Alice_lock_rz : [44, 86, 242, 285, 326, 28]\n"
     ]
    }
   ],
   "source": [
    "# Step3 : Alice_lock                          \n",
    "\n",
    "# M -> X,Y,Z \n",
    "\n",
    "#Alice_lock_X=[]  \n",
    "#Alice_lock_X.clear()    \n",
    "#random_01str(Alice_lock_X,((n*3)//2))\n",
    "\n",
    "#Alice_lock_Y=[]  \n",
    "#Alice_lock_Y.clear()    \n",
    "#random_01str(Alice_lock_Y,((n*3)//2))\n",
    "\n",
    "#Alice_lock_Z=[]  \n",
    "#Alice_lock_Z.clear()    \n",
    "#random_01str(Alice_lock_Z,((n*3)//2))\n",
    "\n",
    "Alice_lock_XYZ=[]  \n",
    "Alice_lock_XYZ.clear()    \n",
    "random_012str(Alice_lock_XYZ,((n*3)//2))\n",
    "\n",
    "#print(\"Alice_lock_X : {}\".format(Alice_lock_X))\n",
    "#print(\"length of Alice_lock_X : {}\".format(len(Alice_lock_X)))\n",
    "#print(\"Alice_lock_Y : {}\".format(Alice_lock_Y))\n",
    "#print(\"length of Alice_lock_Y : {}\".format(len(Alice_lock_Y)))\n",
    "#print(\"Alice_lock_Z : {}\".format(Alice_lock_Z))\n",
    "#print(\"length of Alice_lock_Z : {}\".format(len(Alice_lock_Z)))\n",
    "\n",
    "print(\"Alice_lock_XYZ : {}\".format(Alice_lock_XYZ))\n",
    "print(\"length of Alice_lock_XYZ : {}\".format(len(Alice_lock_XYZ)))\n",
    "\n",
    "\n",
    "# D -> Rx,Ry,Rz\n",
    "\n",
    "def random_lock(list1,length):\n",
    "    for i in range(length):\n",
    "        list1.append(random.randint(0,360))\n",
    "        \n",
    "\n",
    "Alice_lock_rx=[]  \n",
    "Alice_lock_rx.clear()    \n",
    "random_lock(Alice_lock_rx,((n*3)//4))\n",
    "\n",
    "Alice_lock_ry=[]  \n",
    "Alice_lock_ry.clear()    \n",
    "random_lock(Alice_lock_ry,((n*3)//4))\n",
    "\n",
    "Alice_lock_rz=[]  \n",
    "Alice_lock_rz.clear()    \n",
    "random_lock(Alice_lock_rz,((n*3)//4))\n",
    "\n",
    "print(\"Alice_lock_rx : {}\".format(Alice_lock_rx))\n",
    "#print(\"length of Alice_lock_rx : {}\".format(len(Alice_lock_rx)))\n",
    "print(\"Alice_lock_ry : {}\".format(Alice_lock_ry))\n",
    "#print(\"length of Alice_lock_ry : {}\".format(len(Alice_lock_ry)))\n",
    "print(\"Alice_lock_rz : {}\".format(Alice_lock_rz))\n",
    "#print(\"length of Alice_lock_rz : {}\".format(len(Alice_lock_rz)))"
   ]
  },
  {
   "cell_type": "code",
   "execution_count": 12,
   "metadata": {},
   "outputs": [
    {
     "name": "stdout",
     "output_type": "stream",
     "text": [
      "length of circuits_Alice_lock_M : 12\n"
     ]
    },
    {
     "data": {
      "text/html": [
       "<pre style=\"word-wrap: normal;white-space: pre;line-height: 15px;\">        ┌───┐\n",
       "q_0: |0>┤ Y ├\n",
       "        └───┘\n",
       " c_0: 0 ═════\n",
       "             \n",
       " c_1: 0 ═════\n",
       "             </pre>"
      ],
      "text/plain": [
       "<qiskit.visualization.text.TextDrawing at 0x7f8dfe651e10>"
      ]
     },
     "execution_count": 12,
     "metadata": {},
     "output_type": "execute_result"
    }
   ],
   "source": [
    "circuits_Alice_lock_M=[]\n",
    "circuits_Alice_lock_M.clear()\n",
    "\n",
    "for i in range(((n*3)//2)):\n",
    "    lock_circ = QuantumCircuit(q,c)\n",
    "    #if Alice_lock_X[i]==1:\n",
    "    #    lock_circ.x(q[0])\n",
    "    #if Alice_lock_Y[i]==1:\n",
    "    #    lock_circ.y(q[0])\n",
    "    #if Alice_lock_Z[i]==1:\n",
    "    #    lock_circ.z(q[0])\n",
    "    \n",
    "    if Alice_lock_XYZ[i]==0:\n",
    "        lock_circ.x(q[0])\n",
    "    if Alice_lock_XYZ[i]==1:\n",
    "        lock_circ.y(q[0])\n",
    "    if Alice_lock_XYZ[i]==2:\n",
    "        lock_circ.z(q[0])\n",
    "        \n",
    "    circuits_Alice_lock_M.append(lock_circ)\n",
    "    \n",
    "print(\"length of circuits_Alice_lock_M : {}\".format(len(circuits_Alice_lock_M)))\n",
    "circuits_Alice_lock_M[0].draw()"
   ]
  },
  {
   "cell_type": "code",
   "execution_count": 13,
   "metadata": {},
   "outputs": [
    {
     "name": "stdout",
     "output_type": "stream",
     "text": [
      "length of circuits_Alice_lock_D : 6\n"
     ]
    },
    {
     "data": {
      "text/html": [
       "<pre style=\"word-wrap: normal;white-space: pre;line-height: 15px;\">        ┌───────────┐┌────────────┐┌─────────────┐\n",
       "q_0: |0>┤ Rx(5.044) ├┤ Ry(4.8869) ├┤ Rz(0.76794) ├\n",
       "        └───────────┘└────────────┘└─────────────┘\n",
       " c_0: 0 ══════════════════════════════════════════\n",
       "                                                  \n",
       " c_1: 0 ══════════════════════════════════════════\n",
       "                                                  </pre>"
      ],
      "text/plain": [
       "<qiskit.visualization.text.TextDrawing at 0x7f8dfe648048>"
      ]
     },
     "execution_count": 13,
     "metadata": {},
     "output_type": "execute_result"
    }
   ],
   "source": [
    "circuits_Alice_lock_D=[]\n",
    "circuits_Alice_lock_D.clear()\n",
    "\n",
    "for i in range(((n*3)//4)):\n",
    "    lock_circ = QuantumCircuit(q,c) \n",
    "    lock_circ.rx(2*np.pi*Alice_lock_rx[i]/360,q[0])\n",
    "    lock_circ.ry(2*np.pi*Alice_lock_ry[i]/360,q[0])\n",
    "    lock_circ.rz(2*np.pi*Alice_lock_rz[i]/360,q[0])\n",
    "    #lock_circ.barrier(q)\n",
    "    \n",
    "    circuits_Alice_lock_D.append(lock_circ)\n",
    "    \n",
    "print(\"length of circuits_Alice_lock_D : {}\".format(len(circuits_Alice_lock_D)))\n",
    "circuits_Alice_lock_D[0].draw()"
   ]
  },
  {
   "cell_type": "code",
   "execution_count": 14,
   "metadata": {},
   "outputs": [
    {
     "name": "stdout",
     "output_type": "stream",
     "text": [
      "length of circuits_MD_step3 : 18\n"
     ]
    },
    {
     "data": {
      "text/html": [
       "<pre style=\"word-wrap: normal;white-space: pre;line-height: 15px;\">        ┌───┐┌───┐┌───┐\n",
       "q_0: |0>┤ X ├┤ H ├┤ Z ├\n",
       "        └───┘└───┘└───┘\n",
       " c_0: 0 ═══════════════\n",
       "                       \n",
       " c_1: 0 ═══════════════\n",
       "                       </pre>"
      ],
      "text/plain": [
       "<qiskit.visualization.text.TextDrawing at 0x7f8dfdd9bbe0>"
      ]
     },
     "execution_count": 14,
     "metadata": {},
     "output_type": "execute_result"
    }
   ],
   "source": [
    "circuits_MD_step3=[]\n",
    "circuits_MD_step3.clear()\n",
    "\n",
    "for i in range((n*3)//4):\n",
    "    if preshared_string[i]==0:  # mdm\n",
    "        circuits_MD_step3.append(circuits_MD_step2[3*i]+circuits_Alice_lock_M[2*i])\n",
    "        circuits_MD_step3.append(circuits_MD_step2[3*i+1]+circuits_Alice_lock_D[i])\n",
    "        circuits_MD_step3.append(circuits_MD_step2[3*i+2]+circuits_Alice_lock_M[2*i+1])\n",
    "    elif preshared_string[i]==1:  #dmm\n",
    "        circuits_MD_step3.append(circuits_MD_step2[3*i]+circuits_Alice_lock_D[i])\n",
    "        circuits_MD_step3.append(circuits_MD_step2[3*i+1]+circuits_Alice_lock_M[2*i])\n",
    "        circuits_MD_step3.append(circuits_MD_step2[3*i+2]+circuits_Alice_lock_M[2*i+1])\n",
    "    elif preshared_string[i]==2:  #mmd\n",
    "        circuits_MD_step3.append(circuits_MD_step2[3*i]+circuits_Alice_lock_M[2*i])\n",
    "        circuits_MD_step3.append(circuits_MD_step2[3*i+1]+circuits_Alice_lock_M[2*i+1])\n",
    "        circuits_MD_step3.append(circuits_MD_step2[3*i+2]+circuits_Alice_lock_D[i])\n",
    "\n",
    "    \n",
    "\n",
    "print(\"length of circuits_MD_step3 : {}\".format(len(circuits_MD_step3)))\n",
    "#circuits_MD_step3[0].draw()\n",
    "circuits_MD_step3[1].draw()"
   ]
  },
  {
   "cell_type": "code",
   "execution_count": 15,
   "metadata": {},
   "outputs": [
    {
     "name": "stdout",
     "output_type": "stream",
     "text": [
      "Bob_lock_U3x : [-4, -3, 1, 3, -2, -1, -4, 4, -4, 4, -4, -2]\n",
      "Bob_lock_U3y : [3, -3, 3, -4, 4, -1, 0, -1, -2, 0, 3, -1]\n",
      "Bob_lock_U3z : [3, -2, -2, 1, -1, -4, 4, 4, 2, 4, 0, 4]\n"
     ]
    }
   ],
   "source": [
    "# Step4 : Send to Bob and Bob operates M with Bob_lock -> U3\n",
    "\n",
    "def random_lock_U3(list1,length):\n",
    "    for i in range(length):\n",
    "        list1.append(random.randint(-4,4))\n",
    "\n",
    "Bob_lock_U3x=[]  \n",
    "Bob_lock_U3x.clear()    \n",
    "random_lock_U3(Bob_lock_U3x,((n*3)//2))\n",
    "\n",
    "Bob_lock_U3y=[]  \n",
    "Bob_lock_U3y.clear()    \n",
    "random_lock_U3(Bob_lock_U3y,((n*3)//2))\n",
    "\n",
    "Bob_lock_U3z=[]  \n",
    "Bob_lock_U3z.clear()    \n",
    "random_lock_U3(Bob_lock_U3z,((n*3)//2))\n",
    "\n",
    "print(\"Bob_lock_U3x : {}\".format(Bob_lock_U3x))\n",
    "#print(\"length of Bob_lock_U3x : {}\".format(len(Bob_lock_U3x)))\n",
    "print(\"Bob_lock_U3y : {}\".format(Bob_lock_U3y))\n",
    "#print(\"length of Bob_lock_U3y : {}\".format(len(Bob_lock_U3y)))\n",
    "print(\"Bob_lock_U3z : {}\".format(Bob_lock_U3z))\n",
    "#print(\"length of Bob_lock_U3z : {}\".format(len(Bob_lock_U3z)))"
   ]
  },
  {
   "cell_type": "code",
   "execution_count": 16,
   "metadata": {},
   "outputs": [
    {
     "name": "stdout",
     "output_type": "stream",
     "text": [
      "length of circuits_Bob_lock : 12\n"
     ]
    },
    {
     "data": {
      "text/html": [
       "<pre style=\"word-wrap: normal;white-space: pre;line-height: 15px;\">        ┌───────────────────────────┐\n",
       "q_0: |0>┤ U3(-6.2832,4.7124,4.7124) ├\n",
       "        └───────────────────────────┘\n",
       " c_0: 0 ═════════════════════════════\n",
       "                                     \n",
       " c_1: 0 ═════════════════════════════\n",
       "                                     </pre>"
      ],
      "text/plain": [
       "<qiskit.visualization.text.TextDrawing at 0x7f8dfdd95240>"
      ]
     },
     "execution_count": 16,
     "metadata": {},
     "output_type": "execute_result"
    }
   ],
   "source": [
    "circuits_Bob_lock=[]\n",
    "circuits_Bob_lock.clear()\n",
    "\n",
    "for i in range(((n*3)//2)):\n",
    "    lock_circ = QuantumCircuit(q,c) \n",
    "    lock_circ.u3((Bob_lock_U3x[i]/2)*np.pi,(Bob_lock_U3y[i]/2)*np.pi,(Bob_lock_U3z[i]/2)*np.pi,q[0])\n",
    "    #lock_circ.barrier(q)\n",
    "    circuits_Bob_lock.append(lock_circ)\n",
    "    \n",
    "print(\"length of circuits_Bob_lock : {}\".format(len(circuits_Bob_lock)))\n",
    "circuits_Bob_lock[0].draw()"
   ]
  },
  {
   "cell_type": "code",
   "execution_count": 17,
   "metadata": {},
   "outputs": [
    {
     "name": "stdout",
     "output_type": "stream",
     "text": [
      "length of circuits_MD_step4 : 18\n"
     ]
    },
    {
     "data": {
      "text/html": [
       "<pre style=\"word-wrap: normal;white-space: pre;line-height: 15px;\">        ┌───┐┌───┐┌───┐┌─────────────────────────────┐\n",
       "q_0: |0>┤ X ├┤ H ├┤ Z ├┤ U3(-4.7124,-4.7124,-3.1416) ├\n",
       "        └───┘└───┘└───┘└─────────────────────────────┘\n",
       " c_0: 0 ══════════════════════════════════════════════\n",
       "                                                      \n",
       " c_1: 0 ══════════════════════════════════════════════\n",
       "                                                      </pre>"
      ],
      "text/plain": [
       "<qiskit.visualization.text.TextDrawing at 0x7f8dfddb0cc0>"
      ]
     },
     "execution_count": 17,
     "metadata": {},
     "output_type": "execute_result"
    }
   ],
   "source": [
    "circuits_MD_step4=[]\n",
    "circuits_MD_step4.clear()\n",
    "\n",
    "for i in range((n*3)//4):\n",
    "    if preshared_string[i]==0:  # mdm\n",
    "        circuits_MD_step4.append(circuits_MD_step3[3*i]+circuits_Bob_lock[2*i])\n",
    "        circuits_MD_step4.append(circuits_MD_step3[3*i+1])\n",
    "        circuits_MD_step4.append(circuits_MD_step3[3*i+2]+circuits_Bob_lock[2*i+1])\n",
    "    elif preshared_string[i]==1:  #dmm\n",
    "        circuits_MD_step4.append(circuits_MD_step3[3*i])\n",
    "        circuits_MD_step4.append(circuits_MD_step3[3*i+1]+circuits_Bob_lock[2*i])\n",
    "        circuits_MD_step4.append(circuits_MD_step3[3*i+2]+circuits_Bob_lock[2*i+1])\n",
    "    elif preshared_string[i]==2:  #mmd\n",
    "        circuits_MD_step4.append(circuits_MD_step3[3*i]+circuits_Bob_lock[2*i])\n",
    "        circuits_MD_step4.append(circuits_MD_step3[3*i+1]+circuits_Bob_lock[2*i+1])\n",
    "        circuits_MD_step4.append(circuits_MD_step3[3*i+2])\n",
    "    \n",
    "\n",
    "print(\"length of circuits_MD_step4 : {}\".format(len(circuits_MD_step4)))\n",
    "#circuits_MD_step4[0].draw()\n",
    "circuits_MD_step4[1].draw()"
   ]
  },
  {
   "cell_type": "code",
   "execution_count": 18,
   "metadata": {},
   "outputs": [
    {
     "name": "stdout",
     "output_type": "stream",
     "text": [
      "length of circuits_Alice_check_decoy : 6\n",
      "length of circuits_Alice_m_after_check : 12\n"
     ]
    },
    {
     "data": {
      "text/html": [
       "<pre style=\"word-wrap: normal;white-space: pre;line-height: 15px;\">        ┌───┐┌───┐┌───────────┐┌────────────┐┌─────────────┐\n",
       "q_0: |0>┤ X ├┤ H ├┤ Rx(5.044) ├┤ Ry(4.8869) ├┤ Rz(0.76794) ├\n",
       "        └───┘└───┘└───────────┘└────────────┘└─────────────┘\n",
       " c_0: 0 ════════════════════════════════════════════════════\n",
       "                                                            \n",
       " c_1: 0 ════════════════════════════════════════════════════\n",
       "                                                            </pre>"
      ],
      "text/plain": [
       "<qiskit.visualization.text.TextDrawing at 0x7f8dfe756e80>"
      ]
     },
     "execution_count": 18,
     "metadata": {},
     "output_type": "execute_result"
    }
   ],
   "source": [
    "# Step5 : Send to Alice, and Alice checks decoy\n",
    "\n",
    "circuits_Alice_check_decoy=[]\n",
    "circuits_Alice_check_decoy.clear()\n",
    "\n",
    "circuits_Alice_m_after_check=[]\n",
    "circuits_Alice_m_after_check.clear()\n",
    "\n",
    "for i in range((n*3)//4):\n",
    "    if preshared_string[i]==0:  # mdm\n",
    "        circuits_Alice_m_after_check.append(circuits_MD_step4[3*i])\n",
    "        circuits_Alice_check_decoy.append(circuits_MD_step4[3*i+1])\n",
    "        circuits_Alice_m_after_check.append(circuits_MD_step4[3*i+2])\n",
    "    elif preshared_string[i]==1:  #dmm\n",
    "        circuits_Alice_check_decoy.append(circuits_MD_step4[3*i])\n",
    "        circuits_Alice_m_after_check.append(circuits_MD_step4[3*i+1])\n",
    "        circuits_Alice_m_after_check.append(circuits_MD_step4[3*i+2])\n",
    "    elif preshared_string[i]==2:  #mmd\n",
    "        circuits_Alice_m_after_check.append(circuits_MD_step4[3*i])\n",
    "        circuits_Alice_m_after_check.append(circuits_MD_step4[3*i+1])\n",
    "        circuits_Alice_check_decoy.append(circuits_MD_step4[3*i+2])\n",
    "    \n",
    "\n",
    "    \n",
    "print(\"length of circuits_Alice_check_decoy : {}\".format(len(circuits_Alice_check_decoy)))\n",
    "print(\"length of circuits_Alice_m_after_check : {}\".format(len(circuits_Alice_m_after_check)))\n",
    "\n",
    "circuits_Alice_check_decoy[0].draw()\n",
    "#circuits_Alice_m_after_check[0].draw()"
   ]
  },
  {
   "cell_type": "code",
   "execution_count": 19,
   "metadata": {},
   "outputs": [
    {
     "name": "stdout",
     "output_type": "stream",
     "text": [
      "length of circuits_Alice_unlock_D : 6\n"
     ]
    },
    {
     "data": {
      "text/html": [
       "<pre style=\"word-wrap: normal;white-space: pre;line-height: 15px;\">        ┌────────────┐┌────────────┐┌────────────┐\n",
       "q_0: |0>┤ Rz(5.5152) ├┤ Ry(1.3963) ├┤ Rx(1.2392) ├\n",
       "        └────────────┘└────────────┘└────────────┘\n",
       " c_0: 0 ══════════════════════════════════════════\n",
       "                                                  \n",
       " c_1: 0 ══════════════════════════════════════════\n",
       "                                                  </pre>"
      ],
      "text/plain": [
       "<qiskit.visualization.text.TextDrawing at 0x7f8dfdd99f98>"
      ]
     },
     "execution_count": 19,
     "metadata": {},
     "output_type": "execute_result"
    }
   ],
   "source": [
    "# decoy unlock\n",
    "\n",
    "circuits_Alice_unlock_D=[]\n",
    "circuits_Alice_unlock_D.clear()\n",
    "\n",
    "for i in range(((n*3)//4)):\n",
    "    unlock_circ = QuantumCircuit(q,c) \n",
    "    unlock_circ.rz(2*np.pi*(360-Alice_lock_rz[i])/360,q[0])\n",
    "    unlock_circ.ry(2*np.pi*(360-Alice_lock_ry[i])/360,q[0])\n",
    "    unlock_circ.rx(2*np.pi*(360-Alice_lock_rx[i])/360,q[0])\n",
    "    #unlock_circ.barrier(q)\n",
    "    \n",
    "    circuits_Alice_unlock_D.append(unlock_circ)\n",
    "    \n",
    "print(\"length of circuits_Alice_unlock_D : {}\".format(len(circuits_Alice_unlock_D)))\n",
    "circuits_Alice_unlock_D[0].draw()"
   ]
  },
  {
   "cell_type": "code",
   "execution_count": 20,
   "metadata": {},
   "outputs": [
    {
     "data": {
      "text/plain": [
       "<qiskit.circuit.measure.Measure at 0x7f8dfe6516a0>"
      ]
     },
     "execution_count": 20,
     "metadata": {},
     "output_type": "execute_result"
    }
   ],
   "source": [
    "# X measurement\n",
    "\n",
    "Alice_X_measurement = QuantumCircuit(q,c) # X basis\n",
    "Alice_X_measurement.barrier(q)\n",
    "Alice_X_measurement.h(q[0])\n",
    "Alice_X_measurement.measure(q[0],c[0])"
   ]
  },
  {
   "cell_type": "code",
   "execution_count": 21,
   "metadata": {},
   "outputs": [
    {
     "name": "stdout",
     "output_type": "stream",
     "text": [
      "length of circuits_Alice_unlock_and_measure_decoy : 6\n"
     ]
    },
    {
     "data": {
      "text/html": [
       "<pre style=\"word-wrap: normal;white-space: pre;line-height: 15px;\">        ┌───┐┌───┐┌───────────┐┌────────────┐┌─────────────┐┌────────────┐»\n",
       "q_0: |0>┤ X ├┤ H ├┤ Rx(5.044) ├┤ Ry(4.8869) ├┤ Rz(0.76794) ├┤ Rz(5.5152) ├»\n",
       "        └───┘└───┘└───────────┘└────────────┘└─────────────┘└────────────┘»\n",
       " c_0: 0 ══════════════════════════════════════════════════════════════════»\n",
       "                                                                          »\n",
       " c_1: 0 ══════════════════════════════════════════════════════════════════»\n",
       "                                                                          »\n",
       "«     ┌────────────┐┌────────────┐ ░ ┌───┐┌─┐\n",
       "«q_0: ┤ Ry(1.3963) ├┤ Rx(1.2392) ├─░─┤ H ├┤M├\n",
       "«     └────────────┘└────────────┘ ░ └───┘└╥┘\n",
       "«c_0: ═════════════════════════════════════╩═\n",
       "«                                            \n",
       "«c_1: ═══════════════════════════════════════\n",
       "«                                            </pre>"
      ],
      "text/plain": [
       "<qiskit.visualization.text.TextDrawing at 0x7f8dfe756be0>"
      ]
     },
     "execution_count": 21,
     "metadata": {},
     "output_type": "execute_result"
    }
   ],
   "source": [
    "circuits_Alice_unlock_and_measure_decoy=[]\n",
    "circuits_Alice_unlock_and_measure_decoy.clear()\n",
    "\n",
    "for i in range(((n*3)//4)):\n",
    "    circuits_Alice_unlock_and_measure_decoy.append(circuits_Alice_check_decoy[i]+circuits_Alice_unlock_D[i]+Alice_X_measurement)\n",
    "    \n",
    "\n",
    "print(\"length of circuits_Alice_unlock_and_measure_decoy : {}\".format(len(circuits_Alice_unlock_and_measure_decoy)))\n",
    "\n",
    "circuits_Alice_unlock_and_measure_decoy[0].draw()"
   ]
  },
  {
   "cell_type": "code",
   "execution_count": 22,
   "metadata": {},
   "outputs": [
    {
     "name": "stdout",
     "output_type": "stream",
     "text": [
      "{'01': 1024}\n"
     ]
    }
   ],
   "source": [
    "from qiskit import execute, BasicAer\n",
    "backend_sim = BasicAer.get_backend('qasm_simulator')\n",
    "\n",
    "job_sim1 = qiskit.execute(circuits_Alice_unlock_and_measure_decoy, backend_sim, shots=1024)\n",
    "result_sim1 = job_sim1.result()\n",
    "counts1 = result_sim1.get_counts(circuits_Alice_unlock_and_measure_decoy[0])\n",
    "print(counts1)"
   ]
  },
  {
   "cell_type": "code",
   "execution_count": 23,
   "metadata": {},
   "outputs": [
    {
     "name": "stdout",
     "output_type": "stream",
     "text": [
      "Alice_measure_decoy_result = [1, 0, 0, 0, 1, 1]\n"
     ]
    }
   ],
   "source": [
    "# get result of Alice measuring decoy photons\n",
    "\n",
    "Alice_measure_decoy_result=[]\n",
    "Alice_measure_decoy_result.clear()\n",
    "\n",
    "for i in range(((n*3)//4)):\n",
    "    Alice_measure_decoy_result.append(int((list(result_sim1.get_counts(circuits_Alice_unlock_and_measure_decoy[i]))[0])[1]))\n",
    "    \n",
    "print(\"Alice_measure_decoy_result = {}\".format(Alice_measure_decoy_result))"
   ]
  },
  {
   "cell_type": "code",
   "execution_count": 24,
   "metadata": {},
   "outputs": [
    {
     "name": "stdout",
     "output_type": "stream",
     "text": [
      "measure 1 = origin 1\n",
      "measure 0 = origin 0\n",
      "measure 0 = origin 0\n",
      "measure 0 = origin 0\n",
      "measure 1 = origin 1\n",
      "measure 1 = origin 1\n",
      "\n",
      "error rate = 0.0%\n"
     ]
    }
   ],
   "source": [
    "# Check result of decoy photons\n",
    "right_times_decoy = 0\n",
    "\n",
    "for i in range(((n*3)//4)):\n",
    "    if decoy[i]==Alice_measure_decoy_result[i]:\n",
    "        right_times_decoy+=1\n",
    "        print(\"measure {} = origin {}\".format(Alice_measure_decoy_result[i],decoy[i]))\n",
    "    else :\n",
    "        print(\"measure {} != origin {}\".format(Alice_measure_decoy_result[i],decoy[i]))\n",
    "        print(\"Different result has been found.\")\n",
    "\n",
    "\n",
    "print(\"\")\n",
    "        \n",
    "error_rate_decoy=((((n*3)//4)-right_times_decoy)/((n*3)//4))\n",
    "print(\"error rate = {}%\".format(error_rate_decoy*100))"
   ]
  },
  {
   "cell_type": "code",
   "execution_count": 25,
   "metadata": {},
   "outputs": [
    {
     "name": "stdout",
     "output_type": "stream",
     "text": [
      "length of circuits_Alice_unlock_m_after_check : 12\n"
     ]
    },
    {
     "data": {
      "text/html": [
       "<pre style=\"word-wrap: normal;white-space: pre;line-height: 15px;\">        ┌───┐┌───┐┌───┐┌───────────────────────────┐┌───┐\n",
       "q_0: |0>┤ X ├┤ H ├┤ Y ├┤ U3(-6.2832,4.7124,4.7124) ├┤ Y ├\n",
       "        └───┘└───┘└───┘└───────────────────────────┘└───┘\n",
       " c_0: 0 ═════════════════════════════════════════════════\n",
       "                                                         \n",
       " c_1: 0 ═════════════════════════════════════════════════\n",
       "                                                         </pre>"
      ],
      "text/plain": [
       "<qiskit.visualization.text.TextDrawing at 0x7f8dfdd952b0>"
      ]
     },
     "execution_count": 25,
     "metadata": {},
     "output_type": "execute_result"
    }
   ],
   "source": [
    "# Step6 : If no Eve, Alice recovers m \n",
    "\n",
    "circuits_Alice_unlock_m_after_check=[]\n",
    "circuits_Alice_unlock_m_after_check.clear()\n",
    "\n",
    "for i in range(((n*3)//2)):\n",
    "    circuits_Alice_unlock_m_after_check.append(circuits_Alice_m_after_check[i] + circuits_Alice_lock_M[i])\n",
    "    \n",
    "\n",
    "print(\"length of circuits_Alice_unlock_m_after_check : {}\".format(len(circuits_Alice_unlock_m_after_check)))\n",
    "\n",
    "circuits_Alice_unlock_m_after_check[0].draw()"
   ]
  },
  {
   "cell_type": "code",
   "execution_count": 26,
   "metadata": {},
   "outputs": [
    {
     "name": "stdout",
     "output_type": "stream",
     "text": [
      "length of circuits_Bob_unlock_m : 12\n"
     ]
    },
    {
     "data": {
      "text/html": [
       "<pre style=\"word-wrap: normal;white-space: pre;line-height: 15px;\">        ┌──────────────────────────┐\n",
       "q_0: |0>┤ U3(12.566,1.5708,1.5708) ├\n",
       "        └──────────────────────────┘\n",
       " c_0: 0 ════════════════════════════\n",
       "                                    \n",
       " c_1: 0 ════════════════════════════\n",
       "                                    </pre>"
      ],
      "text/plain": [
       "<qiskit.visualization.text.TextDrawing at 0x7f8dfdd205f8>"
      ]
     },
     "execution_count": 26,
     "metadata": {},
     "output_type": "execute_result"
    }
   ],
   "source": [
    "# Step7 : Send to Bob, and Bob unlocks M\n",
    "\n",
    "circuits_Bob_unlock_m=[]\n",
    "circuits_Bob_unlock_m.clear()\n",
    "\n",
    "for i in range(((n*3)//2)):\n",
    "    unlock_circ = QuantumCircuit(q,c) \n",
    "    unlock_circ.u3(((4-Bob_lock_U3x[i])/2)*np.pi,((4-Bob_lock_U3y[i])/2)*np.pi,((4-Bob_lock_U3z[i])/2)*np.pi,q[0])\n",
    "    #unlock_circ.barrier(q)\n",
    "    circuits_Bob_unlock_m.append(unlock_circ)\n",
    "    \n",
    "print(\"length of circuits_Bob_unlock_m : {}\".format(len(circuits_Bob_unlock_m)))\n",
    "circuits_Bob_unlock_m[0].draw()"
   ]
  },
  {
   "cell_type": "code",
   "execution_count": 27,
   "metadata": {},
   "outputs": [
    {
     "data": {
      "text/html": [
       "<pre style=\"word-wrap: normal;white-space: pre;line-height: 15px;\">         ░ ┌───┐┌─┐\n",
       "q_0: |0>─░─┤ H ├┤M├\n",
       "         ░ └───┘└╥┘\n",
       " c_0: 0 ═════════╩═\n",
       "                   \n",
       " c_1: 0 ═══════════\n",
       "                   </pre>"
      ],
      "text/plain": [
       "<qiskit.visualization.text.TextDrawing at 0x7f8dfdd51f60>"
      ]
     },
     "execution_count": 27,
     "metadata": {},
     "output_type": "execute_result"
    }
   ],
   "source": [
    "# Y measurement\n",
    "\n",
    "Bob_Y_measurement = QuantumCircuit(q,c) # Y basis\n",
    "Bob_Y_measurement.barrier(q)\n",
    "#Bob_Y_measurement.rx((1/2)*np.pi,q[0])\n",
    "Bob_Y_measurement.h(q[0])\n",
    "#Bob_Y_measurement.s(q[0])\n",
    "Bob_Y_measurement.measure(q[0],c[0])\n",
    "\n",
    "Bob_Y_measurement.draw()"
   ]
  },
  {
   "cell_type": "code",
   "execution_count": 28,
   "metadata": {},
   "outputs": [
    {
     "name": "stdout",
     "output_type": "stream",
     "text": [
      "length of circuits_Bob_unlock_m_and_measure : 12\n"
     ]
    },
    {
     "data": {
      "text/html": [
       "<pre style=\"word-wrap: normal;white-space: pre;line-height: 15px;\">        ┌───┐┌───┐┌───┐┌───────────────────────────┐┌───┐»\n",
       "q_0: |0>┤ X ├┤ H ├┤ Y ├┤ U3(-6.2832,4.7124,4.7124) ├┤ Y ├»\n",
       "        └───┘└───┘└───┘└───────────────────────────┘└───┘»\n",
       " c_0: 0 ═════════════════════════════════════════════════»\n",
       "                                                         »\n",
       " c_1: 0 ═════════════════════════════════════════════════»\n",
       "                                                         »\n",
       "«     ┌──────────────────────────┐ ░ ┌───┐┌─┐\n",
       "«q_0: ┤ U3(12.566,1.5708,1.5708) ├─░─┤ H ├┤M├\n",
       "«     └──────────────────────────┘ ░ └───┘└╥┘\n",
       "«c_0: ═════════════════════════════════════╩═\n",
       "«                                            \n",
       "«c_1: ═══════════════════════════════════════\n",
       "«                                            </pre>"
      ],
      "text/plain": [
       "<qiskit.visualization.text.TextDrawing at 0x7f8dfdd25e10>"
      ]
     },
     "execution_count": 28,
     "metadata": {},
     "output_type": "execute_result"
    }
   ],
   "source": [
    "circuits_Bob_unlock_m_and_measure=[]\n",
    "circuits_Bob_unlock_m_and_measure.clear()\n",
    "\n",
    "for i in range(((n*3)//2)):\n",
    "    circuits_Bob_unlock_m_and_measure.append(circuits_Alice_unlock_m_after_check[i]+circuits_Bob_unlock_m[i]+Bob_Y_measurement)\n",
    "    \n",
    "print(\"length of circuits_Bob_unlock_m_and_measure : {}\".format(len(circuits_Bob_unlock_m_and_measure)))\n",
    "circuits_Bob_unlock_m_and_measure[0].draw()"
   ]
  },
  {
   "cell_type": "code",
   "execution_count": 29,
   "metadata": {},
   "outputs": [
    {
     "name": "stdout",
     "output_type": "stream",
     "text": [
      "{'01': 1024}\n"
     ]
    }
   ],
   "source": [
    "job_sim2 = qiskit.execute(circuits_Bob_unlock_m_and_measure, backend_sim, shots=1024)\n",
    "result_sim2 = job_sim2.result()\n",
    "counts2 = result_sim2.get_counts(circuits_Bob_unlock_m_and_measure[0])\n",
    "print(counts2)"
   ]
  },
  {
   "cell_type": "code",
   "execution_count": 30,
   "metadata": {},
   "outputs": [
    {
     "name": "stdout",
     "output_type": "stream",
     "text": [
      "Bob_measure_M_result = [1, 0, 0, 0, 0, 0, 0, 1, 0, 1, 0, 1]\n"
     ]
    }
   ],
   "source": [
    "# get result of Bob measuring M photons\n",
    "\n",
    "Bob_measure_M_result=[]\n",
    "Bob_measure_M_result.clear()\n",
    "\n",
    "for i in range(((n*3)//2)):\n",
    "    Bob_measure_M_result.append(int((list(result_sim2.get_counts(circuits_Bob_unlock_m_and_measure[i]))[0])[1]))\n",
    "    \n",
    "print(\"Bob_measure_M_result = {}\".format(Bob_measure_M_result))"
   ]
  },
  {
   "cell_type": "code",
   "execution_count": null,
   "metadata": {},
   "outputs": [],
   "source": [
    "1, 1, 1, 0, 1, 0, 0, 0, 0, 1, 1, 0]"
   ]
  }
 ],
 "metadata": {
  "kernelspec": {
   "display_name": "Python 3",
   "language": "python",
   "name": "python3"
  },
  "language_info": {
   "codemirror_mode": {
    "name": "ipython",
    "version": 3
   },
   "file_extension": ".py",
   "mimetype": "text/x-python",
   "name": "python",
   "nbconvert_exporter": "python",
   "pygments_lexer": "ipython3",
   "version": "3.7.3"
  }
 },
 "nbformat": 4,
 "nbformat_minor": 2
}
