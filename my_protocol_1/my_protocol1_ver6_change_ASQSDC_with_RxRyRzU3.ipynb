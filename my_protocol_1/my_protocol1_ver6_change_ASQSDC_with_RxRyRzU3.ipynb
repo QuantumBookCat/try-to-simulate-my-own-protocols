{
 "cells": [
  {
   "cell_type": "code",
   "execution_count": 1,
   "metadata": {},
   "outputs": [],
   "source": [
    "from qiskit import QuantumCircuit, ClassicalRegister, QuantumRegister\n",
    "import numpy as np\n",
    "import qiskit\n",
    "%matplotlib inline\n",
    "import random"
   ]
  },
  {
   "cell_type": "code",
   "execution_count": 7,
   "metadata": {},
   "outputs": [
    {
     "name": "stdout",
     "output_type": "stream",
     "text": [
      "message_EN : Hello world\n",
      "message : [0, 1, 0, 0, 1, 0, 0, 0, 0, 1, 1, 0, 0, 1, 0, 1, 0, 1, 1, 0, 1, 1, 0, 0, 0, 1, 1, 0, 1, 1, 0, 0, 0, 1, 1, 0, 1, 1, 1, 1, 0, 0, 1, 0, 0, 0, 0, 0, 0, 1, 1, 1, 0, 1, 1, 1, 0, 1, 1, 0, 1, 1, 1, 1, 0, 1, 1, 1, 0, 0, 1, 0, 0, 1, 1, 0, 1, 1, 0, 0, 0, 1, 1, 0, 0, 1, 0, 0]\n",
      "length of message must be multiple of 4.\n",
      "length of message : 88\n"
     ]
    }
   ],
   "source": [
    "# Step0\n",
    "\n",
    "# message\n",
    "message_EN = \"Hello world\"\n",
    "print(\"message_EN : {}\".format(message_EN))\n",
    "\n",
    "\n",
    "# m\n",
    "def Message_01str(strr,length):\n",
    "    m0=[]\n",
    "    m0.clear()\n",
    "    for i in range(length):\n",
    "        m0.append(ord(strr[i]))\n",
    "    #print(\"m0 : {}\".format(m0))\n",
    "\n",
    "    m1=[]\n",
    "    m1.clear()\n",
    "    for i in range(length):\n",
    "        m1.append(np.binary_repr(ord(strr[i]),8))\n",
    "    #print(\"m1 : {}\".format(m1))\n",
    "\n",
    "    m2=\"\"\n",
    "    for i in range(length):\n",
    "        m2+=(np.binary_repr(ord(strr[i]),8))    \n",
    "    #print(\"m2 : {}\".format(m2))\n",
    "\n",
    "    m=[]\n",
    "    m.clear()\n",
    "    for i in range(len(m2)):\n",
    "        m.append(int(m2[i]))    \n",
    "    #print(\"m : {}\".format(m))\n",
    "    \n",
    "    return m\n",
    "\n",
    "\n",
    "\n",
    "message = []\n",
    "message.clear()\n",
    "message = Message_01str(message_EN,len(message_EN))\n",
    "print(\"message : {}\".format(message))\n",
    "print(\"length of message must be multiple of 4.\")\n",
    "n=len(message)\n",
    "print(\"length of message : {}\".format(n))"
   ]
  },
  {
   "cell_type": "code",
   "execution_count": 9,
   "metadata": {},
   "outputs": [
    {
     "name": "stdout",
     "output_type": "stream",
     "text": [
      "message_part1 : [0, 1, 0, 0, 1, 0, 0, 0, 0, 1, 1, 0, 0, 1, 0, 1, 0, 1, 1, 0, 1, 1, 0, 0, 0, 1, 1, 0, 1, 1, 0, 0, 0, 1, 1, 0, 1, 1, 1, 1, 0, 0, 1, 0]\n",
      "message_part2 : [0, 0, 0, 0, 0, 1, 1, 1, 0, 1, 1, 1, 0, 1, 1, 0, 1, 1, 1, 1, 0, 1, 1, 1, 0, 0, 1, 0, 0, 1, 1, 0, 1, 1, 0, 0, 0, 1, 1, 0, 0, 1, 0, 0]\n",
      "XOR_message : [0, 1, 0, 0, 1, 1, 1, 1, 0, 0, 0, 1, 0, 0, 1, 1, 1, 0, 0, 1, 1, 0, 1, 1, 0, 1, 0, 0, 1, 0, 1, 0, 1, 0, 1, 0, 1, 0, 0, 1, 0, 1, 1, 0]\n",
      "XOR_m : [0, 1, 0, 0, 1, 1, 1, 1, 0, 0, 0, 1, 0, 0, 1, 1, 1, 0, 0, 1, 1, 0, 1, 1, 0, 1, 0, 0, 1, 0, 1, 0, 1, 0, 1, 0, 1, 0, 0, 1, 0, 1, 1, 0]\n"
     ]
    }
   ],
   "source": [
    "def XOR_message(list1,list2):\n",
    "    list_part1=[]\n",
    "    list_part1.clear()\n",
    "    list_part2=[]\n",
    "    list_part2.clear()\n",
    "    for i in range(len(list1)//2):\n",
    "        list_part1.append(list1[i])\n",
    "        list_part2.append(list1[i+(len(list1)//2)])\n",
    "        \n",
    "    print(\"message_part1 : {}\".format(list_part1))\n",
    "    print(\"message_part2 : {}\".format(list_part2))\n",
    "        \n",
    "    XOR_list=[]\n",
    "    XOR_list.clear()\n",
    "    for j in range(len(list1)//2):\n",
    "        if list_part1[j]==list_part2[j]:\n",
    "            XOR_list.append(0)\n",
    "        else:\n",
    "            XOR_list.append(1)\n",
    "    \n",
    "    print(\"XOR_message : {}\".format(XOR_list))\n",
    "    list2.extend(XOR_list)    \n",
    "        \n",
    "        \n",
    "\n",
    "XOR_m=[]  \n",
    "XOR_m.clear()\n",
    "\n",
    "XOR_message(message,XOR_m)\n",
    "print(\"XOR_m : {}\".format(XOR_m))"
   ]
  },
  {
   "cell_type": "code",
   "execution_count": 10,
   "metadata": {},
   "outputs": [
    {
     "name": "stdout",
     "output_type": "stream",
     "text": [
      "m_XOR_m : [0, 1, 0, 0, 1, 0, 0, 0, 0, 1, 1, 0, 0, 1, 0, 1, 0, 1, 1, 0, 1, 1, 0, 0, 0, 1, 1, 0, 1, 1, 0, 0, 0, 1, 1, 0, 1, 1, 1, 1, 0, 0, 1, 0, 0, 0, 0, 0, 0, 1, 1, 1, 0, 1, 1, 1, 0, 1, 1, 0, 1, 1, 1, 1, 0, 1, 1, 1, 0, 0, 1, 0, 0, 1, 1, 0, 1, 1, 0, 0, 0, 1, 1, 0, 0, 1, 0, 0, 0, 1, 0, 0, 1, 1, 1, 1, 0, 0, 0, 1, 0, 0, 1, 1, 1, 0, 0, 1, 1, 0, 1, 1, 0, 1, 0, 0, 1, 0, 1, 0, 1, 0, 1, 0, 1, 0, 0, 1, 0, 1, 1, 0]\n"
     ]
    }
   ],
   "source": [
    "m_XOR_m=[]  \n",
    "m_XOR_m.clear()\n",
    "m_XOR_m=message+XOR_m\n",
    "print(\"m_XOR_m : {}\".format(m_XOR_m))"
   ]
  },
  {
   "cell_type": "code",
   "execution_count": 11,
   "metadata": {},
   "outputs": [
    {
     "name": "stdout",
     "output_type": "stream",
     "text": [
      "preshared_string : [0, 2, 2, 2, 0, 0, 1, 0, 2, 2, 2, 1, 1, 0, 0, 0, 2, 1, 2, 1, 2, 0, 1, 0, 0, 1, 1, 1, 0, 1, 2, 0, 0, 2, 2, 0, 2, 2, 2, 0, 1, 0, 1, 2, 2, 0, 2, 0, 1, 2, 1, 1, 1, 1, 2, 0, 1, 2, 2, 2, 1, 1, 1, 0, 0, 2]\n"
     ]
    }
   ],
   "source": [
    "preshared_string=[]  \n",
    "preshared_string.clear()\n",
    "\n",
    "def random_012str(list1,length):\n",
    "    for i in range(length):\n",
    "        list1.append(random.randint(0,2))\n",
    "        \n",
    "random_012str(preshared_string,(n*3)//4)\n",
    "print(\"preshared_string : {}\".format(preshared_string))"
   ]
  },
  {
   "cell_type": "code",
   "execution_count": 12,
   "metadata": {},
   "outputs": [
    {
     "name": "stdout",
     "output_type": "stream",
     "text": [
      "m_XOR_m : [0, 1, 0, 0, 1, 0, 0, 0, 0, 1, 1, 0, 0, 1, 0, 1, 0, 1, 1, 0, 1, 1, 0, 0, 0, 1, 1, 0, 1, 1, 0, 0, 0, 1, 1, 0, 1, 1, 1, 1, 0, 0, 1, 0, 0, 0, 0, 0, 0, 1, 1, 1, 0, 1, 1, 1, 0, 1, 1, 0, 1, 1, 1, 1, 0, 1, 1, 1, 0, 0, 1, 0, 0, 1, 1, 0, 1, 1, 0, 0, 0, 1, 1, 0, 0, 1, 0, 0, 0, 1, 0, 0, 1, 1, 1, 1, 0, 0, 0, 1, 0, 0, 1, 1, 1, 0, 0, 1, 1, 0, 1, 1, 0, 1, 0, 0, 1, 0, 1, 0, 1, 0, 1, 0, 1, 0, 0, 1, 0, 1, 1, 0]\n"
     ]
    },
    {
     "data": {
      "text/html": [
       "<pre style=\"word-wrap: normal;white-space: pre;line-height: 15px;\">        ┌───┐┌───┐\n",
       "q_0: |0>┤ X ├┤ H ├\n",
       "        └───┘└───┘\n",
       " c_0: 0 ══════════\n",
       "                  \n",
       " c_1: 0 ══════════\n",
       "                  </pre>"
      ],
      "text/plain": [
       "<qiskit.visualization.text.TextDrawing at 0x7f612449d5f8>"
      ]
     },
     "execution_count": 12,
     "metadata": {},
     "output_type": "execute_result"
    }
   ],
   "source": [
    "# Step1 : depends on m||XOR(m), operate N |0> qubits with H,S(0) and H,Sdg(1)\n",
    "print(\"m_XOR_m : {}\".format(m_XOR_m))\n",
    "\n",
    "# generate one qubit\n",
    "\n",
    "q = QuantumRegister(1,'q')\n",
    "c = ClassicalRegister(2,'c')\n",
    "\n",
    "# Alice\n",
    "#m_circ0 = QuantumCircuit(q,c)  # |+y>\n",
    "#m_circ0.h(q[0])  \n",
    "#m_circ0.s(q[0]) \n",
    "#m_circ0.barrier(q)\n",
    "\n",
    "#m_circ1 = QuantumCircuit(q,c)  # |-y>\n",
    "#m_circ1.h(q[0])\n",
    "#m_circ1.sdg(q[0])\n",
    "#m_circ1.barrier(q)\n",
    "\n",
    "m_circ0 = QuantumCircuit(q,c)  # |+>\n",
    "m_circ0.h(q[0])  \n",
    "#m_circ0.barrier(q)\n",
    "\n",
    "m_circ1 = QuantumCircuit(q,c)  # |->\n",
    "m_circ1.x(q[0])\n",
    "m_circ1.h(q[0])\n",
    "#m_circ1.barrier(q)\n",
    "\n",
    "\n",
    "#m_circ0.draw()\n",
    "m_circ1.draw()"
   ]
  },
  {
   "cell_type": "code",
   "execution_count": 13,
   "metadata": {},
   "outputs": [
    {
     "name": "stdout",
     "output_type": "stream",
     "text": [
      "length of circuits_m_XOR_m : 132\n"
     ]
    },
    {
     "data": {
      "text/html": [
       "<pre style=\"word-wrap: normal;white-space: pre;line-height: 15px;\">        ┌───┐\n",
       "q_0: |0>┤ H ├\n",
       "        └───┘\n",
       " c_0: 0 ═════\n",
       "             \n",
       " c_1: 0 ═════\n",
       "             </pre>"
      ],
      "text/plain": [
       "<qiskit.visualization.text.TextDrawing at 0x7f60f2d32518>"
      ]
     },
     "execution_count": 13,
     "metadata": {},
     "output_type": "execute_result"
    }
   ],
   "source": [
    "# generate circuits\n",
    "\n",
    "m_circ=[m_circ0,m_circ1]\n",
    "\n",
    "circuits_m_XOR_m=[]\n",
    "circuits_m_XOR_m.clear()\n",
    "\n",
    "for i in range((n*3)//2):\n",
    "    circuits_m_XOR_m.append(m_circ[m_XOR_m[i]])\n",
    "    \n",
    "print(\"length of circuits_m_XOR_m : {}\".format(len(circuits_m_XOR_m)))\n",
    "circuits_m_XOR_m[0].draw()"
   ]
  },
  {
   "cell_type": "code",
   "execution_count": 14,
   "metadata": {},
   "outputs": [
    {
     "name": "stdout",
     "output_type": "stream",
     "text": [
      "preshared_string : [0, 2, 2, 2, 0, 0, 1, 0, 2, 2, 2, 1, 1, 0, 0, 0, 2, 1, 2, 1, 2, 0, 1, 0, 0, 1, 1, 1, 0, 1, 2, 0, 0, 2, 2, 0, 2, 2, 2, 0, 1, 0, 1, 2, 2, 0, 2, 0, 1, 2, 1, 1, 1, 1, 2, 0, 1, 2, 2, 2, 1, 1, 1, 0, 0, 2]\n",
      "decoy ,0(|+>) or 1(|->) : [1, 0, 0, 0, 1, 0, 0, 1, 1, 1, 1, 0, 0, 0, 0, 1, 0, 0, 1, 1, 0, 1, 1, 0, 0, 0, 1, 1, 0, 0, 1, 0, 0, 1, 1, 1, 0, 0, 1, 1, 0, 0, 1, 0, 1, 1, 0, 1, 0, 0, 0, 1, 0, 1, 1, 1, 1, 0, 1, 0, 0, 0, 0, 1, 1, 1]\n"
     ]
    },
    {
     "data": {
      "text/html": [
       "<pre style=\"word-wrap: normal;white-space: pre;line-height: 15px;\">        ┌───┐┌───┐\n",
       "q_0: |0>┤ X ├┤ H ├\n",
       "        └───┘└───┘\n",
       " c_0: 0 ══════════\n",
       "                  \n",
       " c_1: 0 ══════════\n",
       "                  </pre>"
      ],
      "text/plain": [
       "<qiskit.visualization.text.TextDrawing at 0x7f60f2be1cc0>"
      ]
     },
     "execution_count": 14,
     "metadata": {},
     "output_type": "execute_result"
    }
   ],
   "source": [
    "# Step2 : depends on Pre-shared String, insert decoy photons (|+> or |->) for each two m_XOR_m qubits\n",
    "#         0 --> insert in the middle, 1 --> insert at the left side, 2 --> insert at the right side\n",
    "print(\"preshared_string : {}\".format(preshared_string))\n",
    "\n",
    "def random_01str(list,length):\n",
    "    for i in range(length):\n",
    "        list.append(random.randint(0,1))\n",
    "        \n",
    "\n",
    "decoy=[]\n",
    "decoy.clear()\n",
    "random_01str(decoy,(n*3)//4)\n",
    "print(\"decoy ,0(|+>) or 1(|->) : {}\".format(decoy))\n",
    "\n",
    "\n",
    "Decoy_circ2 = QuantumCircuit(q,c)  # |+>\n",
    "Decoy_circ2.h(q[0])  \n",
    "#Decoy_circ2.barrier(q)\n",
    "\n",
    "Decoy_circ3 = QuantumCircuit(q,c)  # |->\n",
    "Decoy_circ3.x(q[0])\n",
    "Decoy_circ3.h(q[0])\n",
    "#Decoy_circ3.barrier(q)\n",
    "\n",
    "\n",
    "#Decoy_circ2.draw()\n",
    "Decoy_circ3.draw()"
   ]
  },
  {
   "cell_type": "code",
   "execution_count": 15,
   "metadata": {},
   "outputs": [
    {
     "name": "stdout",
     "output_type": "stream",
     "text": [
      "length of circuits_Decoy : 66\n"
     ]
    },
    {
     "data": {
      "text/html": [
       "<pre style=\"word-wrap: normal;white-space: pre;line-height: 15px;\">        ┌───┐┌───┐\n",
       "q_0: |0>┤ X ├┤ H ├\n",
       "        └───┘└───┘\n",
       " c_0: 0 ══════════\n",
       "                  \n",
       " c_1: 0 ══════════\n",
       "                  </pre>"
      ],
      "text/plain": [
       "<qiskit.visualization.text.TextDrawing at 0x7f60f2d52fd0>"
      ]
     },
     "execution_count": 15,
     "metadata": {},
     "output_type": "execute_result"
    }
   ],
   "source": [
    "# generate circuits\n",
    "\n",
    "Decoy_circ=[Decoy_circ2,Decoy_circ3]\n",
    "\n",
    "circuits_Decoy=[]\n",
    "circuits_Decoy.clear()\n",
    "\n",
    "for i in range((n*3)//4):\n",
    "    circuits_Decoy.append(Decoy_circ[decoy[i]])\n",
    "    \n",
    "print(\"length of circuits_Decoy : {}\".format(len(circuits_Decoy)))\n",
    "circuits_Decoy[0].draw()"
   ]
  },
  {
   "cell_type": "code",
   "execution_count": 16,
   "metadata": {},
   "outputs": [
    {
     "name": "stdout",
     "output_type": "stream",
     "text": [
      "length of circuits_MD_step2 : 198\n"
     ]
    },
    {
     "data": {
      "text/html": [
       "<pre style=\"word-wrap: normal;white-space: pre;line-height: 15px;\">        ┌───┐\n",
       "q_0: |0>┤ H ├\n",
       "        └───┘\n",
       " c_0: 0 ═════\n",
       "             \n",
       " c_1: 0 ═════\n",
       "             </pre>"
      ],
      "text/plain": [
       "<qiskit.visualization.text.TextDrawing at 0x7f60f2bf9cc0>"
      ]
     },
     "execution_count": 16,
     "metadata": {},
     "output_type": "execute_result"
    }
   ],
   "source": [
    "circuits_MD_step2=[]\n",
    "circuits_MD_step2.clear()\n",
    "\n",
    "for i in range((n*3)//4):\n",
    "    if preshared_string[i]==0:  # mdm\n",
    "        circuits_MD_step2.append(circuits_m_XOR_m[2*i])\n",
    "        circuits_MD_step2.append(circuits_Decoy[i])\n",
    "        circuits_MD_step2.append(circuits_m_XOR_m[2*i+1])\n",
    "    elif preshared_string[i]==1:  #dmm\n",
    "        circuits_MD_step2.append(circuits_Decoy[i])\n",
    "        circuits_MD_step2.append(circuits_m_XOR_m[2*i])\n",
    "        circuits_MD_step2.append(circuits_m_XOR_m[2*i+1])\n",
    "    elif preshared_string[i]==2:  #mmd\n",
    "        circuits_MD_step2.append(circuits_m_XOR_m[2*i])\n",
    "        circuits_MD_step2.append(circuits_m_XOR_m[2*i+1])\n",
    "        circuits_MD_step2.append(circuits_Decoy[i])\n",
    "    \n",
    "\n",
    "    \n",
    "print(\"length of circuits_MD_step2 : {}\".format(len(circuits_MD_step2)))\n",
    "circuits_MD_step2[0].draw()"
   ]
  },
  {
   "cell_type": "code",
   "execution_count": 17,
   "metadata": {},
   "outputs": [
    {
     "name": "stdout",
     "output_type": "stream",
     "text": [
      "Alice_lock_X : [0, 1, 0, 0, 0, 1, 0, 1, 0, 1, 0, 1, 0, 1, 1, 1, 1, 1, 1, 0, 0, 0, 0, 1, 0, 0, 1, 0, 0, 0, 0, 1, 1, 1, 0, 0, 1, 1, 1, 1, 0, 1, 1, 0, 1, 0, 0, 0, 1, 0, 0, 0, 0, 0, 0, 1, 1, 0, 1, 1, 1, 1, 1, 0, 0, 1, 1, 1, 1, 0, 1, 0, 1, 0, 1, 1, 0, 1, 0, 1, 0, 1, 0, 0, 0, 1, 0, 1, 0, 1, 1, 1, 1, 1, 1, 0, 1, 0, 0, 0, 1, 0, 0, 1, 0, 0, 0, 1, 1, 1, 0, 1, 0, 1, 1, 1, 1, 1, 1, 0, 0, 1, 0, 0, 0, 1, 0, 1, 0, 0, 0, 0]\n",
      "Alice_lock_Y : [0, 0, 1, 1, 0, 1, 1, 1, 0, 1, 1, 0, 0, 0, 0, 0, 0, 0, 0, 0, 0, 0, 0, 1, 0, 0, 1, 1, 0, 1, 0, 1, 0, 0, 1, 0, 1, 0, 1, 0, 1, 0, 1, 0, 1, 1, 1, 0, 0, 1, 1, 1, 1, 1, 0, 0, 1, 1, 0, 0, 0, 1, 1, 0, 1, 1, 0, 1, 0, 0, 1, 1, 0, 1, 0, 1, 1, 0, 1, 1, 1, 0, 1, 0, 1, 1, 0, 0, 0, 0, 0, 0, 0, 1, 1, 0, 1, 1, 1, 0, 1, 1, 0, 1, 0, 1, 1, 1, 1, 1, 0, 0, 0, 1, 1, 0, 0, 0, 1, 1, 1, 0, 1, 0, 0, 1, 0, 0, 1, 0, 1, 1]\n",
      "Alice_lock_Z : [1, 1, 1, 1, 0, 1, 1, 1, 1, 1, 1, 0, 0, 1, 0, 0, 0, 1, 0, 1, 1, 0, 0, 1, 0, 1, 0, 1, 0, 1, 0, 1, 0, 1, 0, 1, 0, 1, 1, 0, 1, 1, 1, 1, 1, 0, 1, 1, 0, 1, 0, 1, 1, 0, 1, 1, 1, 0, 0, 1, 1, 1, 1, 0, 0, 0, 1, 0, 1, 0, 1, 0, 0, 1, 1, 0, 0, 1, 1, 0, 0, 1, 0, 0, 1, 1, 1, 1, 0, 0, 1, 0, 1, 1, 1, 1, 1, 0, 0, 1, 1, 0, 1, 0, 1, 1, 1, 1, 0, 1, 0, 0, 1, 0, 1, 0, 0, 0, 0, 0, 1, 1, 0, 0, 1, 1, 0, 1, 0, 0, 0, 1]\n",
      "Alice_lock_rx : [305, 156, 189, 212, 167, 98, 346, 266, 260, 287, 72, 41, 288, 51, 73, 234, 196, 221, 119, 271, 65, 345, 63, 291, 299, 237, 190, 59, 243, 265, 100, 196, 243, 169, 57, 158, 187, 265, 229, 292, 169, 90, 359, 53, 165, 333, 293, 94, 316, 248, 320, 272, 200, 11, 48, 188, 271, 232, 346, 68, 104, 206, 203, 7, 151, 4]\n",
      "Alice_lock_ry : [202, 129, 178, 278, 287, 310, 299, 193, 127, 143, 90, 144, 131, 0, 211, 71, 128, 139, 36, 83, 340, 19, 55, 232, 285, 108, 180, 311, 328, 343, 267, 234, 24, 340, 265, 236, 101, 72, 50, 73, 235, 342, 118, 220, 86, 354, 260, 16, 101, 324, 65, 159, 285, 103, 245, 20, 344, 272, 36, 46, 31, 80, 88, 312, 85, 290]\n",
      "Alice_lock_rz : [203, 280, 159, 139, 71, 196, 57, 13, 264, 320, 227, 263, 145, 345, 290, 159, 4, 226, 29, 304, 324, 141, 69, 316, 227, 125, 176, 86, 163, 91, 243, 84, 162, 14, 54, 327, 36, 139, 257, 312, 9, 187, 314, 287, 225, 77, 269, 196, 329, 202, 127, 96, 75, 284, 295, 4, 354, 19, 63, 62, 75, 332, 33, 229, 13, 10]\n"
     ]
    }
   ],
   "source": [
    "# Step3 : Alice_lock                          \n",
    "\n",
    "# M -> X,Y,Z \n",
    "\n",
    "Alice_lock_X=[]  \n",
    "Alice_lock_X.clear()    \n",
    "random_01str(Alice_lock_X,((n*3)//2))\n",
    "\n",
    "Alice_lock_Y=[]  \n",
    "Alice_lock_Y.clear()    \n",
    "random_01str(Alice_lock_Y,((n*3)//2))\n",
    "\n",
    "Alice_lock_Z=[]  \n",
    "Alice_lock_Z.clear()    \n",
    "random_01str(Alice_lock_Z,((n*3)//2))\n",
    "\n",
    "print(\"Alice_lock_X : {}\".format(Alice_lock_X))\n",
    "#print(\"length of Alice_lock_X : {}\".format(len(Alice_lock_X)))\n",
    "print(\"Alice_lock_Y : {}\".format(Alice_lock_Y))\n",
    "#print(\"length of Alice_lock_Y : {}\".format(len(Alice_lock_Y)))\n",
    "print(\"Alice_lock_Z : {}\".format(Alice_lock_Z))\n",
    "#print(\"length of Alice_lock_Z : {}\".format(len(Alice_lock_Z)))\n",
    "\n",
    "\n",
    "# D -> Rx,Ry,Rz\n",
    "\n",
    "def random_lock(list1,length):\n",
    "    for i in range(length):\n",
    "        list1.append(random.randint(0,360))\n",
    "        \n",
    "\n",
    "Alice_lock_rx=[]  \n",
    "Alice_lock_rx.clear()    \n",
    "random_lock(Alice_lock_rx,((n*3)//4))\n",
    "\n",
    "Alice_lock_ry=[]  \n",
    "Alice_lock_ry.clear()    \n",
    "random_lock(Alice_lock_ry,((n*3)//4))\n",
    "\n",
    "Alice_lock_rz=[]  \n",
    "Alice_lock_rz.clear()    \n",
    "random_lock(Alice_lock_rz,((n*3)//4))\n",
    "\n",
    "print(\"Alice_lock_rx : {}\".format(Alice_lock_rx))\n",
    "#print(\"length of Alice_lock_rx : {}\".format(len(Alice_lock_rx)))\n",
    "print(\"Alice_lock_ry : {}\".format(Alice_lock_ry))\n",
    "#print(\"length of Alice_lock_ry : {}\".format(len(Alice_lock_ry)))\n",
    "print(\"Alice_lock_rz : {}\".format(Alice_lock_rz))\n",
    "#print(\"length of Alice_lock_rz : {}\".format(len(Alice_lock_rz)))"
   ]
  },
  {
   "cell_type": "code",
   "execution_count": 18,
   "metadata": {},
   "outputs": [
    {
     "name": "stdout",
     "output_type": "stream",
     "text": [
      "length of circuits_Alice_lock_M : 132\n"
     ]
    },
    {
     "data": {
      "text/html": [
       "<pre style=\"word-wrap: normal;white-space: pre;line-height: 15px;\">        ┌───┐\n",
       "q_0: |0>┤ Z ├\n",
       "        └───┘\n",
       " c_0: 0 ═════\n",
       "             \n",
       " c_1: 0 ═════\n",
       "             </pre>"
      ],
      "text/plain": [
       "<qiskit.visualization.text.TextDrawing at 0x7f60f2dba940>"
      ]
     },
     "execution_count": 18,
     "metadata": {},
     "output_type": "execute_result"
    }
   ],
   "source": [
    "circuits_Alice_lock_M=[]\n",
    "circuits_Alice_lock_M.clear()\n",
    "\n",
    "for i in range(((n*3)//2)):\n",
    "    lock_circ = QuantumCircuit(q,c)\n",
    "    if Alice_lock_X[i]==1:\n",
    "        lock_circ.x(q[0])\n",
    "    if Alice_lock_Y[i]==1:\n",
    "        lock_circ.y(q[0])\n",
    "    if Alice_lock_Z[i]==1:\n",
    "        lock_circ.z(q[0])\n",
    "        \n",
    "    circuits_Alice_lock_M.append(lock_circ)\n",
    "    \n",
    "print(\"length of circuits_Alice_lock_M : {}\".format(len(circuits_Alice_lock_M)))\n",
    "circuits_Alice_lock_M[0].draw()"
   ]
  },
  {
   "cell_type": "code",
   "execution_count": 19,
   "metadata": {},
   "outputs": [
    {
     "name": "stdout",
     "output_type": "stream",
     "text": [
      "length of circuits_Alice_lock_D : 66\n"
     ]
    },
    {
     "data": {
      "text/html": [
       "<pre style=\"word-wrap: normal;white-space: pre;line-height: 15px;\">        ┌────────────┐┌────────────┐┌───────────┐\n",
       "q_0: |0>┤ Rx(5.3233) ├┤ Ry(3.5256) ├┤ Rz(3.543) ├\n",
       "        └────────────┘└────────────┘└───────────┘\n",
       " c_0: 0 ═════════════════════════════════════════\n",
       "                                                 \n",
       " c_1: 0 ═════════════════════════════════════════\n",
       "                                                 </pre>"
      ],
      "text/plain": [
       "<qiskit.visualization.text.TextDrawing at 0x7f60f235f550>"
      ]
     },
     "execution_count": 19,
     "metadata": {},
     "output_type": "execute_result"
    }
   ],
   "source": [
    "circuits_Alice_lock_D=[]\n",
    "circuits_Alice_lock_D.clear()\n",
    "\n",
    "for i in range(((n*3)//4)):\n",
    "    lock_circ = QuantumCircuit(q,c) \n",
    "    lock_circ.rx(2*np.pi*Alice_lock_rx[i]/360,q[0])\n",
    "    lock_circ.ry(2*np.pi*Alice_lock_ry[i]/360,q[0])\n",
    "    lock_circ.rz(2*np.pi*Alice_lock_rz[i]/360,q[0])\n",
    "    #lock_circ.barrier(q)\n",
    "    \n",
    "    circuits_Alice_lock_D.append(lock_circ)\n",
    "    \n",
    "print(\"length of circuits_Alice_lock_D : {}\".format(len(circuits_Alice_lock_D)))\n",
    "circuits_Alice_lock_D[0].draw()"
   ]
  },
  {
   "cell_type": "code",
   "execution_count": 20,
   "metadata": {},
   "outputs": [
    {
     "name": "stdout",
     "output_type": "stream",
     "text": [
      "length of circuits_MD_step3 : 198\n"
     ]
    },
    {
     "data": {
      "text/html": [
       "<pre style=\"word-wrap: normal;white-space: pre;line-height: 15px;\">        ┌───┐┌───┐┌────────────┐┌────────────┐┌───────────┐\n",
       "q_0: |0>┤ X ├┤ H ├┤ Rx(5.3233) ├┤ Ry(3.5256) ├┤ Rz(3.543) ├\n",
       "        └───┘└───┘└────────────┘└────────────┘└───────────┘\n",
       " c_0: 0 ═══════════════════════════════════════════════════\n",
       "                                                           \n",
       " c_1: 0 ═══════════════════════════════════════════════════\n",
       "                                                           </pre>"
      ],
      "text/plain": [
       "<qiskit.visualization.text.TextDrawing at 0x7f612449d2e8>"
      ]
     },
     "execution_count": 20,
     "metadata": {},
     "output_type": "execute_result"
    }
   ],
   "source": [
    "circuits_MD_step3=[]\n",
    "circuits_MD_step3.clear()\n",
    "\n",
    "for i in range((n*3)//4):\n",
    "    if preshared_string[i]==0:  # mdm\n",
    "        circuits_MD_step3.append(circuits_MD_step2[3*i]+circuits_Alice_lock_M[2*i])\n",
    "        circuits_MD_step3.append(circuits_MD_step2[3*i+1]+circuits_Alice_lock_D[i])\n",
    "        circuits_MD_step3.append(circuits_MD_step2[3*i+2]+circuits_Alice_lock_M[2*i+1])\n",
    "    elif preshared_string[i]==1:  #dmm\n",
    "        circuits_MD_step3.append(circuits_MD_step2[3*i]+circuits_Alice_lock_D[i])\n",
    "        circuits_MD_step3.append(circuits_MD_step2[3*i+1]+circuits_Alice_lock_M[2*i])\n",
    "        circuits_MD_step3.append(circuits_MD_step2[3*i+2]+circuits_Alice_lock_M[2*i+1])\n",
    "    elif preshared_string[i]==2:  #mmd\n",
    "        circuits_MD_step3.append(circuits_MD_step2[3*i]+circuits_Alice_lock_M[2*i])\n",
    "        circuits_MD_step3.append(circuits_MD_step2[3*i+1]+circuits_Alice_lock_M[2*i+1])\n",
    "        circuits_MD_step3.append(circuits_MD_step2[3*i+2]+circuits_Alice_lock_D[i])\n",
    "\n",
    "    \n",
    "\n",
    "print(\"length of circuits_MD_step3 : {}\".format(len(circuits_MD_step3)))\n",
    "#circuits_MD_step3[0].draw()\n",
    "circuits_MD_step3[1].draw()"
   ]
  },
  {
   "cell_type": "code",
   "execution_count": 21,
   "metadata": {},
   "outputs": [
    {
     "name": "stdout",
     "output_type": "stream",
     "text": [
      "Bob_lock_str : [5, 5, 4, 4, 5, 4, 1, 1, 3, 4, 2, 5, 0, 1, 5, 5, 1, 0, 1, 2, 4, 2, 3, 5, 3, 0, 1, 3, 4, 1, 4, 2, 2, 3, 5, 2, 5, 0, 0, 5, 4, 0, 4, 4, 3, 0, 4, 0, 2, 1, 1, 2, 2, 1, 5, 0, 1, 4, 1, 1, 4, 2, 0, 3, 0, 2, 4, 5, 2, 4, 1, 2, 1, 5, 4, 3, 1, 5, 4, 2, 2, 3, 3, 3, 4, 3, 0, 3, 0, 1, 4, 4, 0, 2, 0, 0, 0, 0, 4, 1, 1, 5, 2, 1, 1, 5, 3, 0, 5, 5, 5, 1, 1, 0, 2, 3, 4, 3, 0, 2, 4, 3, 4, 5, 0, 2, 4, 3, 1, 0, 0, 0]\n"
     ]
    }
   ],
   "source": [
    "# Step4 : Send to Bob and Bob operates M with Bob_lock -> U3\n",
    "\n",
    "#def random_lock_U3(list1,length):\n",
    "#    for i in range(length):\n",
    "#        list1.append(random.randint(-4,4))\n",
    "\n",
    "#Bob_lock_U3x=[]  \n",
    "#Bob_lock_U3x.clear()    \n",
    "#random_lock_U3(Bob_lock_U3x,((n*3)//2))\n",
    "\n",
    "#Bob_lock_U3y=[]  \n",
    "#Bob_lock_U3y.clear()    \n",
    "#random_lock_U3(Bob_lock_U3y,((n*3)//2))\n",
    "\n",
    "#Bob_lock_U3z=[]  \n",
    "#Bob_lock_U3z.clear()    \n",
    "#random_lock_U3(Bob_lock_U3z,((n*3)//2))\n",
    "\n",
    "#print(\"Bob_lock_U3x : {}\".format(Bob_lock_U3x))\n",
    "#print(\"length of Bob_lock_U3x : {}\".format(len(Bob_lock_U3x)))\n",
    "#print(\"Bob_lock_U3y : {}\".format(Bob_lock_U3y))\n",
    "#print(\"length of Bob_lock_U3y : {}\".format(len(Bob_lock_U3y)))\n",
    "#print(\"Bob_lock_U3z : {}\".format(Bob_lock_U3z))\n",
    "#print(\"length of Bob_lock_U3z : {}\".format(len(Bob_lock_U3z)))\n",
    "\n",
    "def random_012345str(list,length):\n",
    "    for i in range(length):\n",
    "        list.append(random.randint(0,5))\n",
    "\n",
    "Bob_lock_str=[]  \n",
    "Bob_lock_str.clear()    \n",
    "random_012345str(Bob_lock_str,((n*3)//2))\n",
    "print(\"Bob_lock_str : {}\".format(Bob_lock_str))\n",
    "\n",
    "U3_circ0 = QuantumCircuit(q,c) \n",
    "U3_circ0.u3(np.pi,np.pi,np.pi,q[0])\n",
    "\n",
    "U3_circ1 = QuantumCircuit(q,c) \n",
    "U3_circ1.u3((1/2)*np.pi,(1/2)*np.pi,(1/2)*np.pi,q[0])\n",
    "\n",
    "U3_circ2 = QuantumCircuit(q,c) \n",
    "U3_circ2.u3((-1/2)*np.pi,(-1/2)*np.pi,(-1/2)*np.pi,q[0])\n",
    "\n",
    "U3_circ3 = QuantumCircuit(q,c) \n",
    "U3_circ3.u3((-1)*np.pi,(-1)*np.pi,(-1)*np.pi,q[0])\n",
    "\n",
    "U3_circ4 = QuantumCircuit(q,c) \n",
    "U3_circ4.u3((3/2)*np.pi,(3/2)*np.pi,(3/2)*np.pi,q[0])\n",
    "\n",
    "U3_circ5 = QuantumCircuit(q,c) \n",
    "U3_circ5.u3((-3/2)*np.pi,(-3/2)*np.pi,(-3/2)*np.pi,q[0])\n",
    "\n",
    "Bob_lock_U3=[]\n",
    "Bob_lock_U3.clear()\n",
    "Bob_lock_U3=[U3_circ0,U3_circ1,U3_circ2,U3_circ3,U3_circ4,U3_circ5]  "
   ]
  },
  {
   "cell_type": "code",
   "execution_count": 22,
   "metadata": {},
   "outputs": [
    {
     "name": "stdout",
     "output_type": "stream",
     "text": [
      "length of circuits_Bob_lock : 132\n"
     ]
    },
    {
     "data": {
      "text/html": [
       "<pre style=\"word-wrap: normal;white-space: pre;line-height: 15px;\">        ┌─────────────────────────────┐\n",
       "q_0: |0>┤ U3(-4.7124,-4.7124,-4.7124) ├\n",
       "        └─────────────────────────────┘\n",
       " c_0: 0 ═══════════════════════════════\n",
       "                                       \n",
       " c_1: 0 ═══════════════════════════════\n",
       "                                       </pre>"
      ],
      "text/plain": [
       "<qiskit.visualization.text.TextDrawing at 0x7f60f235fa90>"
      ]
     },
     "execution_count": 22,
     "metadata": {},
     "output_type": "execute_result"
    }
   ],
   "source": [
    "circuits_Bob_lock=[]\n",
    "circuits_Bob_lock.clear()\n",
    "\n",
    "#for i in range(((n*3)//2)):\n",
    "#    lock_circ = QuantumCircuit(q,c) \n",
    "#    lock_circ.u3((Bob_lock_U3x[i]/2)*np.pi,(Bob_lock_U3y[i]/2)*np.pi,(Bob_lock_U3z[i]/2)*np.pi,q[0])\n",
    "#    #lock_circ.barrier(q)\n",
    "#    circuits_Bob_lock.append(lock_circ)\n",
    "    \n",
    "for i in range(((n*3)//2)):\n",
    "    circuits_Bob_lock.append(Bob_lock_U3[Bob_lock_str[i]])\n",
    "\n",
    "    \n",
    "print(\"length of circuits_Bob_lock : {}\".format(len(circuits_Bob_lock)))\n",
    "circuits_Bob_lock[0].draw()"
   ]
  },
  {
   "cell_type": "code",
   "execution_count": 23,
   "metadata": {},
   "outputs": [
    {
     "name": "stdout",
     "output_type": "stream",
     "text": [
      "length of circuits_MD_step4 : 198\n"
     ]
    },
    {
     "data": {
      "text/html": [
       "<pre style=\"word-wrap: normal;white-space: pre;line-height: 15px;\">        ┌───┐┌───┐┌────────────┐┌────────────┐┌───────────┐\n",
       "q_0: |0>┤ X ├┤ H ├┤ Rx(5.3233) ├┤ Ry(3.5256) ├┤ Rz(3.543) ├\n",
       "        └───┘└───┘└────────────┘└────────────┘└───────────┘\n",
       " c_0: 0 ═══════════════════════════════════════════════════\n",
       "                                                           \n",
       " c_1: 0 ═══════════════════════════════════════════════════\n",
       "                                                           </pre>"
      ],
      "text/plain": [
       "<qiskit.visualization.text.TextDrawing at 0x7f60f2243b38>"
      ]
     },
     "execution_count": 23,
     "metadata": {},
     "output_type": "execute_result"
    }
   ],
   "source": [
    "circuits_MD_step4=[]\n",
    "circuits_MD_step4.clear()\n",
    "\n",
    "for i in range((n*3)//4):\n",
    "    if preshared_string[i]==0:  # mdm\n",
    "        circuits_MD_step4.append(circuits_MD_step3[3*i]+circuits_Bob_lock[2*i])\n",
    "        circuits_MD_step4.append(circuits_MD_step3[3*i+1])\n",
    "        circuits_MD_step4.append(circuits_MD_step3[3*i+2]+circuits_Bob_lock[2*i+1])\n",
    "    elif preshared_string[i]==1:  #dmm\n",
    "        circuits_MD_step4.append(circuits_MD_step3[3*i])\n",
    "        circuits_MD_step4.append(circuits_MD_step3[3*i+1]+circuits_Bob_lock[2*i])\n",
    "        circuits_MD_step4.append(circuits_MD_step3[3*i+2]+circuits_Bob_lock[2*i+1])\n",
    "    elif preshared_string[i]==2:  #mmd\n",
    "        circuits_MD_step4.append(circuits_MD_step3[3*i]+circuits_Bob_lock[2*i])\n",
    "        circuits_MD_step4.append(circuits_MD_step3[3*i+1]+circuits_Bob_lock[2*i+1])\n",
    "        circuits_MD_step4.append(circuits_MD_step3[3*i+2])\n",
    "    \n",
    "\n",
    "print(\"length of circuits_MD_step4 : {}\".format(len(circuits_MD_step4)))\n",
    "#circuits_MD_step4[0].draw()\n",
    "circuits_MD_step4[1].draw()"
   ]
  },
  {
   "cell_type": "code",
   "execution_count": 24,
   "metadata": {},
   "outputs": [
    {
     "name": "stdout",
     "output_type": "stream",
     "text": [
      "length of circuits_Alice_check_decoy : 66\n",
      "length of circuits_Alice_m_after_check : 132\n"
     ]
    },
    {
     "data": {
      "text/html": [
       "<pre style=\"word-wrap: normal;white-space: pre;line-height: 15px;\">        ┌───┐┌───┐┌────────────┐┌────────────┐┌───────────┐\n",
       "q_0: |0>┤ X ├┤ H ├┤ Rx(5.3233) ├┤ Ry(3.5256) ├┤ Rz(3.543) ├\n",
       "        └───┘└───┘└────────────┘└────────────┘└───────────┘\n",
       " c_0: 0 ═══════════════════════════════════════════════════\n",
       "                                                           \n",
       " c_1: 0 ═══════════════════════════════════════════════════\n",
       "                                                           </pre>"
      ],
      "text/plain": [
       "<qiskit.visualization.text.TextDrawing at 0x7f60f22a8fd0>"
      ]
     },
     "execution_count": 24,
     "metadata": {},
     "output_type": "execute_result"
    }
   ],
   "source": [
    "# Step5 : Send to Alice, and Alice checks decoy\n",
    "\n",
    "circuits_Alice_check_decoy=[]\n",
    "circuits_Alice_check_decoy.clear()\n",
    "\n",
    "circuits_Alice_m_after_check=[]\n",
    "circuits_Alice_m_after_check.clear()\n",
    "\n",
    "for i in range((n*3)//4):\n",
    "    if preshared_string[i]==0:  # mdm\n",
    "        circuits_Alice_m_after_check.append(circuits_MD_step4[3*i])\n",
    "        circuits_Alice_check_decoy.append(circuits_MD_step4[3*i+1])\n",
    "        circuits_Alice_m_after_check.append(circuits_MD_step4[3*i+2])\n",
    "    elif preshared_string[i]==1:  #dmm\n",
    "        circuits_Alice_check_decoy.append(circuits_MD_step4[3*i])\n",
    "        circuits_Alice_m_after_check.append(circuits_MD_step4[3*i+1])\n",
    "        circuits_Alice_m_after_check.append(circuits_MD_step4[3*i+2])\n",
    "    elif preshared_string[i]==2:  #mmd\n",
    "        circuits_Alice_m_after_check.append(circuits_MD_step4[3*i])\n",
    "        circuits_Alice_m_after_check.append(circuits_MD_step4[3*i+1])\n",
    "        circuits_Alice_check_decoy.append(circuits_MD_step4[3*i+2])\n",
    "    \n",
    "\n",
    "    \n",
    "print(\"length of circuits_Alice_check_decoy : {}\".format(len(circuits_Alice_check_decoy)))\n",
    "print(\"length of circuits_Alice_m_after_check : {}\".format(len(circuits_Alice_m_after_check)))\n",
    "\n",
    "circuits_Alice_check_decoy[0].draw()\n",
    "#circuits_Alice_m_after_check[0].draw()"
   ]
  },
  {
   "cell_type": "code",
   "execution_count": 25,
   "metadata": {},
   "outputs": [
    {
     "name": "stdout",
     "output_type": "stream",
     "text": [
      "length of circuits_Alice_unlock_D : 66\n"
     ]
    },
    {
     "data": {
      "text/html": [
       "<pre style=\"word-wrap: normal;white-space: pre;line-height: 15px;\">        ┌────────────┐┌────────────┐┌─────────────┐\n",
       "q_0: |0>┤ Rz(2.7402) ├┤ Ry(2.7576) ├┤ Rx(0.95993) ├\n",
       "        └────────────┘└────────────┘└─────────────┘\n",
       " c_0: 0 ═══════════════════════════════════════════\n",
       "                                                   \n",
       " c_1: 0 ═══════════════════════════════════════════\n",
       "                                                   </pre>"
      ],
      "text/plain": [
       "<qiskit.visualization.text.TextDrawing at 0x7f60f23316d8>"
      ]
     },
     "execution_count": 25,
     "metadata": {},
     "output_type": "execute_result"
    }
   ],
   "source": [
    "# decoy unlock\n",
    "\n",
    "circuits_Alice_unlock_D=[]\n",
    "circuits_Alice_unlock_D.clear()\n",
    "\n",
    "for i in range(((n*3)//4)):\n",
    "    unlock_circ = QuantumCircuit(q,c) \n",
    "    unlock_circ.rz(2*np.pi*(360-Alice_lock_rz[i])/360,q[0])\n",
    "    unlock_circ.ry(2*np.pi*(360-Alice_lock_ry[i])/360,q[0])\n",
    "    unlock_circ.rx(2*np.pi*(360-Alice_lock_rx[i])/360,q[0])\n",
    "    #unlock_circ.barrier(q)\n",
    "    \n",
    "    circuits_Alice_unlock_D.append(unlock_circ)\n",
    "    \n",
    "print(\"length of circuits_Alice_unlock_D : {}\".format(len(circuits_Alice_unlock_D)))\n",
    "circuits_Alice_unlock_D[0].draw()"
   ]
  },
  {
   "cell_type": "code",
   "execution_count": 26,
   "metadata": {},
   "outputs": [
    {
     "data": {
      "text/plain": [
       "<qiskit.circuit.measure.Measure at 0x7f60f2bf97b8>"
      ]
     },
     "execution_count": 26,
     "metadata": {},
     "output_type": "execute_result"
    }
   ],
   "source": [
    "# X measurement\n",
    "\n",
    "Alice_X_measurement = QuantumCircuit(q,c) # X basis\n",
    "Alice_X_measurement.barrier(q)\n",
    "Alice_X_measurement.h(q[0])\n",
    "Alice_X_measurement.measure(q[0],c[0])"
   ]
  },
  {
   "cell_type": "code",
   "execution_count": 27,
   "metadata": {},
   "outputs": [
    {
     "name": "stdout",
     "output_type": "stream",
     "text": [
      "length of circuits_Alice_unlock_and_measure_decoy : 66\n"
     ]
    },
    {
     "data": {
      "text/html": [
       "<pre style=\"word-wrap: normal;white-space: pre;line-height: 15px;\">        ┌───┐┌───┐┌────────────┐┌────────────┐┌───────────┐┌────────────┐»\n",
       "q_0: |0>┤ X ├┤ H ├┤ Rx(5.3233) ├┤ Ry(3.5256) ├┤ Rz(3.543) ├┤ Rz(2.7402) ├»\n",
       "        └───┘└───┘└────────────┘└────────────┘└───────────┘└────────────┘»\n",
       " c_0: 0 ═════════════════════════════════════════════════════════════════»\n",
       "                                                                         »\n",
       " c_1: 0 ═════════════════════════════════════════════════════════════════»\n",
       "                                                                         »\n",
       "«     ┌────────────┐┌─────────────┐ ░ ┌───┐┌─┐\n",
       "«q_0: ┤ Ry(2.7576) ├┤ Rx(0.95993) ├─░─┤ H ├┤M├\n",
       "«     └────────────┘└─────────────┘ ░ └───┘└╥┘\n",
       "«c_0: ══════════════════════════════════════╩═\n",
       "«                                             \n",
       "«c_1: ════════════════════════════════════════\n",
       "«                                             </pre>"
      ],
      "text/plain": [
       "<qiskit.visualization.text.TextDrawing at 0x7f60f227ac88>"
      ]
     },
     "execution_count": 27,
     "metadata": {},
     "output_type": "execute_result"
    }
   ],
   "source": [
    "circuits_Alice_unlock_and_measure_decoy=[]\n",
    "circuits_Alice_unlock_and_measure_decoy.clear()\n",
    "\n",
    "for i in range(((n*3)//4)):\n",
    "    circuits_Alice_unlock_and_measure_decoy.append(circuits_Alice_check_decoy[i]+circuits_Alice_unlock_D[i]+Alice_X_measurement)\n",
    "    \n",
    "\n",
    "print(\"length of circuits_Alice_unlock_and_measure_decoy : {}\".format(len(circuits_Alice_unlock_and_measure_decoy)))\n",
    "\n",
    "circuits_Alice_unlock_and_measure_decoy[0].draw()"
   ]
  },
  {
   "cell_type": "code",
   "execution_count": 28,
   "metadata": {},
   "outputs": [
    {
     "name": "stdout",
     "output_type": "stream",
     "text": [
      "{'01': 1024}\n"
     ]
    }
   ],
   "source": [
    "from qiskit import execute, BasicAer\n",
    "backend_sim = BasicAer.get_backend('qasm_simulator')\n",
    "\n",
    "job_sim1 = qiskit.execute(circuits_Alice_unlock_and_measure_decoy, backend_sim, shots=1024)\n",
    "result_sim1 = job_sim1.result()\n",
    "counts1 = result_sim1.get_counts(circuits_Alice_unlock_and_measure_decoy[0])\n",
    "print(counts1)"
   ]
  },
  {
   "cell_type": "code",
   "execution_count": 29,
   "metadata": {},
   "outputs": [
    {
     "name": "stdout",
     "output_type": "stream",
     "text": [
      "Alice_measure_decoy_result = [1, 0, 0, 0, 1, 0, 0, 1, 1, 1, 1, 0, 0, 0, 0, 1, 0, 0, 1, 1, 0, 1, 1, 0, 0, 0, 1, 1, 0, 0, 1, 0, 0, 1, 1, 1, 0, 0, 1, 1, 0, 0, 1, 0, 1, 1, 0, 1, 0, 0, 0, 1, 0, 1, 1, 1, 1, 0, 1, 0, 0, 0, 0, 1, 1, 1]\n"
     ]
    }
   ],
   "source": [
    "# get result of Alice measuring decoy photons\n",
    "\n",
    "Alice_measure_decoy_result=[]\n",
    "Alice_measure_decoy_result.clear()\n",
    "\n",
    "for i in range(((n*3)//4)):\n",
    "    Alice_measure_decoy_result.append(int((list(result_sim1.get_counts(circuits_Alice_unlock_and_measure_decoy[i]))[0])[1]))\n",
    "    \n",
    "print(\"Alice_measure_decoy_result = {}\".format(Alice_measure_decoy_result))"
   ]
  },
  {
   "cell_type": "code",
   "execution_count": 30,
   "metadata": {},
   "outputs": [
    {
     "name": "stdout",
     "output_type": "stream",
     "text": [
      "measure 1 = origin 1\n",
      "measure 0 = origin 0\n",
      "measure 0 = origin 0\n",
      "measure 0 = origin 0\n",
      "measure 1 = origin 1\n",
      "measure 0 = origin 0\n",
      "measure 0 = origin 0\n",
      "measure 1 = origin 1\n",
      "measure 1 = origin 1\n",
      "measure 1 = origin 1\n",
      "measure 1 = origin 1\n",
      "measure 0 = origin 0\n",
      "measure 0 = origin 0\n",
      "measure 0 = origin 0\n",
      "measure 0 = origin 0\n",
      "measure 1 = origin 1\n",
      "measure 0 = origin 0\n",
      "measure 0 = origin 0\n",
      "measure 1 = origin 1\n",
      "measure 1 = origin 1\n",
      "measure 0 = origin 0\n",
      "measure 1 = origin 1\n",
      "measure 1 = origin 1\n",
      "measure 0 = origin 0\n",
      "measure 0 = origin 0\n",
      "measure 0 = origin 0\n",
      "measure 1 = origin 1\n",
      "measure 1 = origin 1\n",
      "measure 0 = origin 0\n",
      "measure 0 = origin 0\n",
      "measure 1 = origin 1\n",
      "measure 0 = origin 0\n",
      "measure 0 = origin 0\n",
      "measure 1 = origin 1\n",
      "measure 1 = origin 1\n",
      "measure 1 = origin 1\n",
      "measure 0 = origin 0\n",
      "measure 0 = origin 0\n",
      "measure 1 = origin 1\n",
      "measure 1 = origin 1\n",
      "measure 0 = origin 0\n",
      "measure 0 = origin 0\n",
      "measure 1 = origin 1\n",
      "measure 0 = origin 0\n",
      "measure 1 = origin 1\n",
      "measure 1 = origin 1\n",
      "measure 0 = origin 0\n",
      "measure 1 = origin 1\n",
      "measure 0 = origin 0\n",
      "measure 0 = origin 0\n",
      "measure 0 = origin 0\n",
      "measure 1 = origin 1\n",
      "measure 0 = origin 0\n",
      "measure 1 = origin 1\n",
      "measure 1 = origin 1\n",
      "measure 1 = origin 1\n",
      "measure 1 = origin 1\n",
      "measure 0 = origin 0\n",
      "measure 1 = origin 1\n",
      "measure 0 = origin 0\n",
      "measure 0 = origin 0\n",
      "measure 0 = origin 0\n",
      "measure 0 = origin 0\n",
      "measure 1 = origin 1\n",
      "measure 1 = origin 1\n",
      "measure 1 = origin 1\n",
      "\n",
      "error rate = 0.0%\n"
     ]
    }
   ],
   "source": [
    "# Check result of decoy photons\n",
    "right_times_decoy = 0\n",
    "\n",
    "for i in range(((n*3)//4)):\n",
    "    if decoy[i]==Alice_measure_decoy_result[i]:\n",
    "        right_times_decoy+=1\n",
    "        print(\"measure {} = origin {}\".format(Alice_measure_decoy_result[i],decoy[i]))\n",
    "    else :\n",
    "        print(\"measure {} != origin {}\".format(Alice_measure_decoy_result[i],decoy[i]))\n",
    "        print(\"Different result has been found.\")\n",
    "\n",
    "\n",
    "print(\"\")\n",
    "        \n",
    "error_rate_decoy=((((n*3)//4)-right_times_decoy)/((n*3)//4))\n",
    "print(\"error rate = {}%\".format(error_rate_decoy*100))"
   ]
  },
  {
   "cell_type": "code",
   "execution_count": 31,
   "metadata": {},
   "outputs": [
    {
     "name": "stdout",
     "output_type": "stream",
     "text": [
      "length of circuits_Alice_unlock_m_after_check : 132\n"
     ]
    },
    {
     "data": {
      "text/html": [
       "<pre style=\"word-wrap: normal;white-space: pre;line-height: 15px;\">        ┌───┐┌───┐┌─────────────────────────────┐┌───┐\n",
       "q_0: |0>┤ H ├┤ Z ├┤ U3(-4.7124,-4.7124,-4.7124) ├┤ Z ├\n",
       "        └───┘└───┘└─────────────────────────────┘└───┘\n",
       " c_0: 0 ══════════════════════════════════════════════\n",
       "                                                      \n",
       " c_1: 0 ══════════════════════════════════════════════\n",
       "                                                      </pre>"
      ],
      "text/plain": [
       "<qiskit.visualization.text.TextDrawing at 0x7f60f21c7128>"
      ]
     },
     "execution_count": 31,
     "metadata": {},
     "output_type": "execute_result"
    }
   ],
   "source": [
    "# Step6 : If no Eve, Alice recovers m \n",
    "\n",
    "circuits_Alice_unlock_m_after_check=[]\n",
    "circuits_Alice_unlock_m_after_check.clear()\n",
    "\n",
    "for i in range(((n*3)//2)):\n",
    "    circuits_Alice_unlock_m_after_check.append(circuits_Alice_m_after_check[i] + circuits_Alice_lock_M[i])\n",
    "    \n",
    "\n",
    "print(\"length of circuits_Alice_unlock_m_after_check : {}\".format(len(circuits_Alice_unlock_m_after_check)))\n",
    "\n",
    "circuits_Alice_unlock_m_after_check[0].draw()"
   ]
  },
  {
   "cell_type": "code",
   "execution_count": 32,
   "metadata": {},
   "outputs": [
    {
     "name": "stdout",
     "output_type": "stream",
     "text": [
      "length of circuits_Bob_unlock_m : 132\n"
     ]
    },
    {
     "data": {
      "text/html": [
       "<pre style=\"word-wrap: normal;white-space: pre;line-height: 15px;\">        ┌──────────────────────────┐\n",
       "q_0: |0>┤ U3(10.996,10.996,10.996) ├\n",
       "        └──────────────────────────┘\n",
       " c_0: 0 ════════════════════════════\n",
       "                                    \n",
       " c_1: 0 ════════════════════════════\n",
       "                                    </pre>"
      ],
      "text/plain": [
       "<qiskit.visualization.text.TextDrawing at 0x7f60f235f908>"
      ]
     },
     "execution_count": 32,
     "metadata": {},
     "output_type": "execute_result"
    }
   ],
   "source": [
    "# Step7 : Send to Bob, and Bob unlocks M\n",
    "\n",
    "U3_circ00 = QuantumCircuit(q,c) \n",
    "U3_circ00.u3(np.pi,np.pi,np.pi,q[0])\n",
    "\n",
    "U3_circ11 = QuantumCircuit(q,c) \n",
    "U3_circ11.u3((3/2)*np.pi,(3/2)*np.pi,(3/2)*np.pi,q[0])\n",
    "\n",
    "U3_circ22 = QuantumCircuit(q,c) \n",
    "U3_circ22.u3((5/2)*np.pi,(5/2)*np.pi,(5/2)*np.pi,q[0])\n",
    "\n",
    "U3_circ33 = QuantumCircuit(q,c) \n",
    "U3_circ33.u3((-1)*np.pi,(-1)*np.pi,(-1)*np.pi,q[0])\n",
    "\n",
    "U3_circ44 = QuantumCircuit(q,c) \n",
    "U3_circ44.u3((1/2)*np.pi,(1/2)*np.pi,(1/2)*np.pi,q[0])\n",
    "\n",
    "U3_circ55 = QuantumCircuit(q,c) \n",
    "U3_circ55.u3((7/2)*np.pi,(7/2)*np.pi,(7/2)*np.pi,q[0])\n",
    "\n",
    "Bob_unlock_U3=[]\n",
    "Bob_unlock_U3.clear()\n",
    "Bob_unlock_U3=[U3_circ00,U3_circ11,U3_circ22,U3_circ33,U3_circ44,U3_circ55] \n",
    "\n",
    "circuits_Bob_unlock_m=[]\n",
    "circuits_Bob_unlock_m.clear()\n",
    "\n",
    "#for i in range(((n*3)//2)):\n",
    "#    unlock_circ = QuantumCircuit(q,c) \n",
    "#    unlock_circ.u3(((4-Bob_lock_U3x[i])/2)*np.pi,((4-Bob_lock_U3y[i])/2)*np.pi,((4-Bob_lock_U3z[i])/2)*np.pi,q[0])\n",
    "    #unlock_circ.barrier(q)\n",
    "#    circuits_Bob_unlock_m.append(unlock_circ)\n",
    "    \n",
    "for i in range(((n*3)//2)):\n",
    "    circuits_Bob_unlock_m.append(Bob_unlock_U3[Bob_lock_str[i]])\n",
    "    \n",
    "print(\"length of circuits_Bob_unlock_m : {}\".format(len(circuits_Bob_unlock_m)))\n",
    "circuits_Bob_unlock_m[0].draw()"
   ]
  },
  {
   "cell_type": "code",
   "execution_count": 33,
   "metadata": {},
   "outputs": [
    {
     "data": {
      "text/html": [
       "<pre style=\"word-wrap: normal;white-space: pre;line-height: 15px;\">         ░ ┌───┐┌─┐\n",
       "q_0: |0>─░─┤ H ├┤M├\n",
       "         ░ └───┘└╥┘\n",
       " c_0: 0 ═════════╩═\n",
       "                   \n",
       " c_1: 0 ═══════════\n",
       "                   </pre>"
      ],
      "text/plain": [
       "<qiskit.visualization.text.TextDrawing at 0x7f60f21c7fd0>"
      ]
     },
     "execution_count": 33,
     "metadata": {},
     "output_type": "execute_result"
    }
   ],
   "source": [
    "# Y measurement\n",
    "\n",
    "#Bob_Y_measurement = QuantumCircuit(q,c) # Y basis\n",
    "#Bob_Y_measurement.barrier(q)\n",
    "#Bob_Y_measurement.rx((1/2)*np.pi,q[0])\n",
    "#Bob_Y_measurement.h(q[0])\n",
    "#Bob_Y_measurement.s(q[0])\n",
    "#Bob_Y_measurement.measure(q[0],c[0])\n",
    "\n",
    "#Bob_Y_measurement.draw()\n",
    "\n",
    "#----------------------------------------------------\n",
    "\n",
    "# X measurement\n",
    "\n",
    "Bob_X_measurement = QuantumCircuit(q,c) # X basis\n",
    "Bob_X_measurement.barrier(q)\n",
    "Bob_X_measurement.h(q[0])\n",
    "Bob_X_measurement.measure(q[0],c[0])\n",
    "\n",
    "Bob_X_measurement.draw()"
   ]
  },
  {
   "cell_type": "code",
   "execution_count": 34,
   "metadata": {},
   "outputs": [
    {
     "name": "stdout",
     "output_type": "stream",
     "text": [
      "length of circuits_Bob_unlock_m_and_measure : 132\n"
     ]
    },
    {
     "data": {
      "text/html": [
       "<pre style=\"word-wrap: normal;white-space: pre;line-height: 15px;\">        ┌───┐┌───┐┌─────────────────────────────┐┌───┐»\n",
       "q_0: |0>┤ H ├┤ Z ├┤ U3(-4.7124,-4.7124,-4.7124) ├┤ Z ├»\n",
       "        └───┘└───┘└─────────────────────────────┘└───┘»\n",
       " c_0: 0 ══════════════════════════════════════════════»\n",
       "                                                      »\n",
       " c_1: 0 ══════════════════════════════════════════════»\n",
       "                                                      »\n",
       "«     ┌──────────────────────────┐ ░ ┌───┐┌─┐\n",
       "«q_0: ┤ U3(10.996,10.996,10.996) ├─░─┤ H ├┤M├\n",
       "«     └──────────────────────────┘ ░ └───┘└╥┘\n",
       "«c_0: ═════════════════════════════════════╩═\n",
       "«                                            \n",
       "«c_1: ═══════════════════════════════════════\n",
       "«                                            </pre>"
      ],
      "text/plain": [
       "<qiskit.visualization.text.TextDrawing at 0x7f60f2ca22e8>"
      ]
     },
     "execution_count": 34,
     "metadata": {},
     "output_type": "execute_result"
    }
   ],
   "source": [
    "circuits_Bob_unlock_m_and_measure=[]\n",
    "circuits_Bob_unlock_m_and_measure.clear()\n",
    "\n",
    "for i in range(((n*3)//2)):\n",
    "    #circuits_Bob_unlock_m_and_measure.append(circuits_Alice_unlock_m_after_check[i]+circuits_Bob_unlock_m[i]+Bob_Y_measurement)\n",
    "    circuits_Bob_unlock_m_and_measure.append(circuits_Alice_unlock_m_after_check[i]+circuits_Bob_unlock_m[i]+Bob_X_measurement)\n",
    "    \n",
    "\n",
    "print(\"length of circuits_Bob_unlock_m_and_measure : {}\".format(len(circuits_Bob_unlock_m_and_measure)))\n",
    "circuits_Bob_unlock_m_and_measure[0].draw()"
   ]
  },
  {
   "cell_type": "code",
   "execution_count": 35,
   "metadata": {},
   "outputs": [
    {
     "name": "stdout",
     "output_type": "stream",
     "text": [
      "{'00': 1024}\n"
     ]
    }
   ],
   "source": [
    "job_sim2 = qiskit.execute(circuits_Bob_unlock_m_and_measure, backend_sim, shots=1024)\n",
    "result_sim2 = job_sim2.result()\n",
    "counts2 = result_sim2.get_counts(circuits_Bob_unlock_m_and_measure[0])\n",
    "print(counts2)"
   ]
  },
  {
   "cell_type": "code",
   "execution_count": 36,
   "metadata": {},
   "outputs": [
    {
     "name": "stdout",
     "output_type": "stream",
     "text": [
      "Bob_measure_M_result = [0, 1, 0, 0, 1, 0, 0, 0, 0, 1, 1, 0, 0, 1, 0, 1, 0, 1, 1, 0, 1, 1, 0, 0, 0, 1, 1, 0, 1, 1, 0, 0, 0, 1, 1, 0, 1, 1, 1, 1, 0, 0, 1, 0, 0, 0, 0, 0, 0, 1, 1, 1, 0, 1, 1, 1, 0, 1, 1, 0, 1, 1, 1, 1, 0, 1, 1, 1, 0, 0, 1, 0, 0, 1, 1, 0, 1, 1, 0, 0, 0, 1, 1, 0, 0, 1, 0, 0, 0, 1, 0, 0, 1, 1, 1, 1, 0, 0, 0, 1, 0, 0, 1, 1, 1, 0, 0, 1, 1, 0, 1, 1, 0, 1, 0, 0, 1, 0, 1, 0, 1, 0, 1, 0, 1, 0, 0, 1, 0, 1, 1, 0]\n"
     ]
    }
   ],
   "source": [
    "# get result of Bob measuring M photons\n",
    "\n",
    "Bob_measure_M_result=[]\n",
    "Bob_measure_M_result.clear()\n",
    "\n",
    "for i in range(((n*3)//2)):\n",
    "    Bob_measure_M_result.append(int((list(result_sim2.get_counts(circuits_Bob_unlock_m_and_measure[i]))[0])[1]))\n",
    "    \n",
    "print(\"Bob_measure_M_result = {}\".format(Bob_measure_M_result))"
   ]
  },
  {
   "cell_type": "code",
   "execution_count": 37,
   "metadata": {},
   "outputs": [
    {
     "name": "stdout",
     "output_type": "stream",
     "text": [
      "Bob_M_length = 132\n",
      "Bob_m_result = [0, 1, 0, 0, 1, 0, 0, 0, 0, 1, 1, 0, 0, 1, 0, 1, 0, 1, 1, 0, 1, 1, 0, 0, 0, 1, 1, 0, 1, 1, 0, 0, 0, 1, 1, 0, 1, 1, 1, 1, 0, 0, 1, 0, 0, 0, 0, 0, 0, 1, 1, 1, 0, 1, 1, 1, 0, 1, 1, 0, 1, 1, 1, 1, 0, 1, 1, 1, 0, 0, 1, 0, 0, 1, 1, 0, 1, 1, 0, 0, 0, 1, 1, 0, 0, 1, 0, 0]\n",
      "Bob_XORm_result = [0, 1, 0, 0, 1, 1, 1, 1, 0, 0, 0, 1, 0, 0, 1, 1, 1, 0, 0, 1, 1, 0, 1, 1, 0, 1, 0, 0, 1, 0, 1, 0, 1, 0, 1, 0, 1, 0, 0, 1, 0, 1, 1, 0]\n",
      "\n",
      "message_part1 : [0, 1, 0, 0, 1, 0, 0, 0, 0, 1, 1, 0, 0, 1, 0, 1, 0, 1, 1, 0, 1, 1, 0, 0, 0, 1, 1, 0, 1, 1, 0, 0, 0, 1, 1, 0, 1, 1, 1, 1, 0, 0, 1, 0]\n",
      "message_part2 : [0, 0, 0, 0, 0, 1, 1, 1, 0, 1, 1, 1, 0, 1, 1, 0, 1, 1, 1, 1, 0, 1, 1, 1, 0, 0, 1, 0, 0, 1, 1, 0, 1, 1, 0, 0, 0, 1, 1, 0, 0, 1, 0, 0]\n",
      "XOR_message : [0, 1, 0, 0, 1, 1, 1, 1, 0, 0, 0, 1, 0, 0, 1, 1, 1, 0, 0, 1, 1, 0, 1, 1, 0, 1, 0, 0, 1, 0, 1, 0, 1, 0, 1, 0, 1, 0, 0, 1, 0, 1, 1, 0]\n",
      "Bob_XOR_m : [0, 1, 0, 0, 1, 1, 1, 1, 0, 0, 0, 1, 0, 0, 1, 1, 1, 0, 0, 1, 1, 0, 1, 1, 0, 1, 0, 0, 1, 0, 1, 0, 1, 0, 1, 0, 1, 0, 0, 1, 0, 1, 1, 0]\n"
     ]
    }
   ],
   "source": [
    "# Step8 : Bob check XOR\n",
    "\n",
    "Bob_M_length=len(Bob_measure_M_result)\n",
    "print(\"Bob_M_length = {}\".format(Bob_M_length))\n",
    "\n",
    "Bob_m_result=[]\n",
    "Bob_m_result.clear()\n",
    "\n",
    "Bob_XORm_result=[]\n",
    "Bob_XORm_result.clear()\n",
    "\n",
    "for i in range(Bob_M_length):\n",
    "    if i<(2/3)*Bob_M_length:\n",
    "        Bob_m_result.append(Bob_measure_M_result[i])\n",
    "    else:\n",
    "        Bob_XORm_result.append(Bob_measure_M_result[i])\n",
    "        \n",
    "\n",
    "print(\"Bob_m_result = {}\".format(Bob_m_result))\n",
    "\n",
    "print(\"Bob_XORm_result = {}\".format(Bob_XORm_result))\n",
    "     \n",
    "print()    \n",
    "\n",
    "Bob_XOR_m=[]  \n",
    "Bob_XOR_m.clear()\n",
    "\n",
    "XOR_message(Bob_m_result,Bob_XOR_m)\n",
    "print(\"Bob_XOR_m : {}\".format(Bob_XOR_m))"
   ]
  },
  {
   "cell_type": "code",
   "execution_count": 38,
   "metadata": {},
   "outputs": [
    {
     "name": "stdout",
     "output_type": "stream",
     "text": [
      "XOR(m) 0 = XORm 0\n",
      "XOR(m) 1 = XORm 1\n",
      "XOR(m) 0 = XORm 0\n",
      "XOR(m) 0 = XORm 0\n",
      "XOR(m) 1 = XORm 1\n",
      "XOR(m) 1 = XORm 1\n",
      "XOR(m) 1 = XORm 1\n",
      "XOR(m) 1 = XORm 1\n",
      "XOR(m) 0 = XORm 0\n",
      "XOR(m) 0 = XORm 0\n",
      "XOR(m) 0 = XORm 0\n",
      "XOR(m) 1 = XORm 1\n",
      "XOR(m) 0 = XORm 0\n",
      "XOR(m) 0 = XORm 0\n",
      "XOR(m) 1 = XORm 1\n",
      "XOR(m) 1 = XORm 1\n",
      "XOR(m) 1 = XORm 1\n",
      "XOR(m) 0 = XORm 0\n",
      "XOR(m) 0 = XORm 0\n",
      "XOR(m) 1 = XORm 1\n",
      "XOR(m) 1 = XORm 1\n",
      "XOR(m) 0 = XORm 0\n",
      "XOR(m) 1 = XORm 1\n",
      "XOR(m) 1 = XORm 1\n",
      "XOR(m) 0 = XORm 0\n",
      "XOR(m) 1 = XORm 1\n",
      "XOR(m) 0 = XORm 0\n",
      "XOR(m) 0 = XORm 0\n",
      "XOR(m) 1 = XORm 1\n",
      "XOR(m) 0 = XORm 0\n",
      "XOR(m) 1 = XORm 1\n",
      "XOR(m) 0 = XORm 0\n",
      "XOR(m) 1 = XORm 1\n",
      "XOR(m) 0 = XORm 0\n",
      "XOR(m) 1 = XORm 1\n",
      "XOR(m) 0 = XORm 0\n",
      "XOR(m) 1 = XORm 1\n",
      "XOR(m) 0 = XORm 0\n",
      "XOR(m) 0 = XORm 0\n",
      "XOR(m) 1 = XORm 1\n",
      "XOR(m) 0 = XORm 0\n",
      "XOR(m) 1 = XORm 1\n",
      "XOR(m) 1 = XORm 1\n",
      "XOR(m) 0 = XORm 0\n",
      "\n",
      "XOR(m') == XOR(m)'\n"
     ]
    }
   ],
   "source": [
    "# Bob checks XOR(message)\n",
    "total_times_XOR = int((1/3)*Bob_M_length)\n",
    "right_times_XOR = 0\n",
    "\n",
    "for i in range(total_times_XOR):\n",
    "    if Bob_XOR_m[i]==Bob_XORm_result[i]:\n",
    "        right_times_XOR+=1\n",
    "        print(\"XOR(m) {} = XORm {}\".format(Bob_XOR_m[i],Bob_XORm_result[i]))\n",
    "    else :\n",
    "        print(\"XOR(m) {} != XORm {}\".format(Bob_XOR_m[i],Bob_XORm_result[i]))\n",
    "        print(\"Different result has been found.\")\n",
    "\n",
    "\n",
    "print(\"\")\n",
    "\n",
    "if right_times_XOR==total_times_XOR:\n",
    "    print(\"XOR(m') == XOR(m)'\")\n",
    "else:\n",
    "    print(\"XOR(m') != XOR(m)'\")"
   ]
  },
  {
   "cell_type": "code",
   "execution_count": 41,
   "metadata": {},
   "outputs": [
    {
     "name": "stdout",
     "output_type": "stream",
     "text": [
      "Bob_m_result = [0, 1, 0, 0, 1, 0, 0, 0, 0, 1, 1, 0, 0, 1, 0, 1, 0, 1, 1, 0, 1, 1, 0, 0, 0, 1, 1, 0, 1, 1, 0, 0, 0, 1, 1, 0, 1, 1, 1, 1, 0, 0, 1, 0, 0, 0, 0, 0, 0, 1, 1, 1, 0, 1, 1, 1, 0, 1, 1, 0, 1, 1, 1, 1, 0, 1, 1, 1, 0, 0, 1, 0, 0, 1, 1, 0, 1, 1, 0, 0, 0, 1, 1, 0, 0, 1, 0, 0]\n",
      "Bob_message = Hello world\n"
     ]
    }
   ],
   "source": [
    "# Bob gets message m\n",
    "\n",
    "print(\"Bob_m_result = {}\".format(Bob_m_result))\n",
    "\n",
    "\n",
    "def Message_Word(list1,length):\n",
    "    list3=[]\n",
    "    for i in range(length):\n",
    "        str3=\"\"\n",
    "        for j in range(8):\n",
    "            str3+=f'{list1[8*i+j]}'\n",
    "        list3.append(str3)\n",
    "    #print(\"m1 = {}\".format(list3))\n",
    "    \n",
    "    list5=[]\n",
    "    for i in range(length):\n",
    "        list5.append(int(list3[i],2))\n",
    "    #print(\"m2 = {}\".format(list5))\n",
    "    \n",
    "    list6=[]\n",
    "    for i in range(length):\n",
    "        list6.append(chr(int(list3[i],2)))\n",
    "    #print(\"m3 = {}\".format(list6))\n",
    "    \n",
    "    str3=\"\"\n",
    "    for i in range(length):\n",
    "        str3+=list6[i]\n",
    "    #print(\"m5 = {}\".format(str3))\n",
    "        \n",
    "    return str3\n",
    "    \n",
    "    \n",
    "\n",
    "Bob_message = Message_Word(Bob_m_result,int(len(Bob_m_result)/8))\n",
    "print(\"Bob_message = {}\".format(Bob_message))"
   ]
  },
  {
   "cell_type": "code",
   "execution_count": 43,
   "metadata": {},
   "outputs": [
    {
     "name": "stdout",
     "output_type": "stream",
     "text": [
      "Eve_basis_step5   E1(0)(Z) or E2(1)(X) or E3(2)(don't measure) : [0, 1, 1, 0, 2, 2, 2, 1, 2, 1, 1, 0, 2, 0, 1, 2, 2, 0, 1, 0, 0, 0, 0, 2, 2, 0, 0, 2, 1, 1, 1, 0, 2, 2, 2, 1, 2, 1, 2, 2, 2, 0, 1, 1, 1, 0, 0, 2, 1, 1, 2, 2, 1, 2, 0, 0, 1, 1, 1, 0, 2, 0, 0, 2, 2, 0, 2, 2, 1, 2, 1, 0, 0, 2, 0, 2, 0, 0, 1, 0, 0, 2, 2, 1, 2, 2, 2, 1, 2, 2, 1, 0, 1, 2, 2, 0, 0, 2, 0, 2, 0, 2, 2, 1, 0, 1, 0, 1, 2, 2, 2, 1, 2, 0, 1, 1, 2, 1, 0, 1, 1, 2, 1, 0, 1, 2, 2, 2, 2, 0, 0, 0, 0, 1, 1, 1, 0, 2, 2, 2, 2, 0, 0, 0, 1, 2, 0, 0, 2, 0, 1, 0, 2, 0, 2, 0, 2, 1, 0, 0, 1, 1, 2, 0, 2, 0, 2, 2, 1, 1, 2, 0, 0, 0, 1, 0, 2, 0, 1, 0, 2, 0, 1, 0, 1, 2, 2, 1, 1, 0, 2, 1, 1, 1, 2, 2, 0, 0]\n",
      "length of Eve_basis_step5 : 198\n",
      "Eve_basis_step7   E1(0)(Z) or E2(1)(X) or E3(2)(don't measure) : [2, 0, 1, 1, 0, 2, 0, 1, 0, 1, 0, 1, 1, 0, 0, 0, 1, 2, 1, 2, 0, 1, 1, 2, 2, 1, 1, 2, 2, 2, 2, 1, 0, 0, 2, 1, 0, 0, 0, 1, 1, 1, 1, 1, 0, 2, 1, 1, 2, 0, 0, 0, 2, 2, 1, 2, 0, 1, 1, 1, 0, 1, 2, 2, 0, 2, 2, 2, 1, 1, 1, 0, 0, 0, 2, 0, 0, 1, 1, 2, 0, 1, 0, 2, 2, 0, 0, 0, 0, 1, 0, 0, 2, 2, 0, 0, 1, 0, 1, 1, 1, 0, 0, 1, 2, 1, 0, 1, 2, 1, 1, 2, 0, 2, 0, 0, 0, 0, 2, 2, 2, 1, 0, 1, 0, 0, 0, 1, 2, 2, 2, 2, 2, 0, 0, 1, 2, 0, 1, 2, 0, 2, 0, 0, 0, 0, 0, 0, 0, 0, 0, 2, 1, 1, 2, 0, 2, 0, 0, 2, 1, 1, 0, 2, 1, 0, 0, 1, 1, 2, 1, 2, 1, 0, 1, 0, 2, 1, 1, 0, 2, 2, 2, 2, 0, 1, 2, 2, 1, 1, 2, 1, 0, 1, 2, 0, 0, 1]\n",
      "length of Eve_basis_step7 : 198\n"
     ]
    }
   ],
   "source": [
    "# eavesdropper\n",
    "\n",
    "# Eve measurement\n",
    "E1 = QuantumCircuit(q,c) # Z basis\n",
    "E1.measure(q[0],c[1])\n",
    "\n",
    "E2 = QuantumCircuit(q,c) # X basis\n",
    "E2.h(q[0])\n",
    "E2.measure(q[0],c[1])\n",
    "\n",
    "E3 = QuantumCircuit(q,c) # don't measure\n",
    "\n",
    "\n",
    "def EveRandom_012str(list,num):\n",
    "    for i in range(num):\n",
    "        list.append(random.randint(0,2))\n",
    "\n",
    "Eve_basis_step5=[]\n",
    "Eve_basis_step5.clear()\n",
    "EveRandom_012str(Eve_basis_step5,((n*3)//4)+((n*3)//2))\n",
    "print(\"Eve_basis_step5   E1(0)(Z) or E2(1)(X) or E3(2)(don't measure) : {}\".format(Eve_basis_step5))\n",
    "print(\"length of Eve_basis_step5 : {}\".format(len(Eve_basis_step5)))\n",
    "\n",
    "Eve_basis_step7=[]\n",
    "Eve_basis_step7.clear()\n",
    "EveRandom_012str(Eve_basis_step7,((n*3)//4)+((n*3)//2))\n",
    "print(\"Eve_basis_step7   E1(0)(Z) or E2(1)(X) or E3(2)(don't measure) : {}\".format(Eve_basis_step7))\n",
    "print(\"length of Eve_basis_step7 : {}\".format(len(Eve_basis_step7)))\n",
    "\n",
    "\n",
    "Eve_circ = [E1,E2,E3]\n",
    "# + Eve_circ[Eve_basis_step5[i]] , + Eve_circ[Eve_basis_step7[i]]"
   ]
  },
  {
   "cell_type": "code",
   "execution_count": 45,
   "metadata": {},
   "outputs": [
    {
     "name": "stdout",
     "output_type": "stream",
     "text": [
      "length of circuits_MD_step4_eve : 198\n"
     ]
    },
    {
     "data": {
      "text/html": [
       "<pre style=\"word-wrap: normal;white-space: pre;line-height: 15px;\">        ┌───┐┌───┐┌────────────┐┌────────────┐┌───────────┐┌───┐┌─┐\n",
       "q_0: |0>┤ X ├┤ H ├┤ Rx(5.3233) ├┤ Ry(3.5256) ├┤ Rz(3.543) ├┤ H ├┤M├\n",
       "        └───┘└───┘└────────────┘└────────────┘└───────────┘└───┘└╥┘\n",
       " c_0: 0 ═════════════════════════════════════════════════════════╬═\n",
       "                                                                 ║ \n",
       " c_1: 0 ═════════════════════════════════════════════════════════╩═\n",
       "                                                                   </pre>"
      ],
      "text/plain": [
       "<qiskit.visualization.text.TextDrawing at 0x7f60f23782e8>"
      ]
     },
     "execution_count": 45,
     "metadata": {},
     "output_type": "execute_result"
    }
   ],
   "source": [
    "# Eve between Step4 and Step5\n",
    "\n",
    "circuits_MD_step4_eve=[]\n",
    "circuits_MD_step4_eve.clear()\n",
    "\n",
    "for i in range(((n*3)//4)+((n*3)//2)):\n",
    "    circuits_MD_step4_eve.append(circuits_MD_step4[i]+Eve_circ[Eve_basis_step5[i]])\n",
    "    \n",
    "\n",
    "print(\"length of circuits_MD_step4_eve : {}\".format(len(circuits_MD_step4_eve)))\n",
    "#circuits_MD_step4_eve[0].draw()\n",
    "circuits_MD_step4_eve[1].draw()"
   ]
  },
  {
   "cell_type": "code",
   "execution_count": 46,
   "metadata": {},
   "outputs": [
    {
     "name": "stdout",
     "output_type": "stream",
     "text": [
      "length of circuits_Alice_check_decoy_eve : 66\n"
     ]
    },
    {
     "data": {
      "text/html": [
       "<pre style=\"word-wrap: normal;white-space: pre;line-height: 15px;\">        ┌───┐┌───┐┌────────────┐┌────────────┐┌───────────┐┌───┐┌─┐\n",
       "q_0: |0>┤ X ├┤ H ├┤ Rx(5.3233) ├┤ Ry(3.5256) ├┤ Rz(3.543) ├┤ H ├┤M├\n",
       "        └───┘└───┘└────────────┘└────────────┘└───────────┘└───┘└╥┘\n",
       " c_0: 0 ═════════════════════════════════════════════════════════╬═\n",
       "                                                                 ║ \n",
       " c_1: 0 ═════════════════════════════════════════════════════════╩═\n",
       "                                                                   </pre>"
      ],
      "text/plain": [
       "<qiskit.visualization.text.TextDrawing at 0x7f60f0cdc7b8>"
      ]
     },
     "execution_count": 46,
     "metadata": {},
     "output_type": "execute_result"
    }
   ],
   "source": [
    "# Alice\n",
    "\n",
    "circuits_Alice_check_decoy_eve=[]\n",
    "circuits_Alice_check_decoy_eve.clear()\n",
    "\n",
    "\n",
    "for i in range((n*3)//4):\n",
    "    if preshared_string[i]==0:  # mdm\n",
    "        circuits_Alice_check_decoy_eve.append(circuits_MD_step4_eve[3*i+1])\n",
    "    elif preshared_string[i]==1:  #dmm\n",
    "        circuits_Alice_check_decoy_eve.append(circuits_MD_step4_eve[3*i])\n",
    "    elif preshared_string[i]==2:  #mmd\n",
    "        circuits_Alice_check_decoy_eve.append(circuits_MD_step4_eve[3*i+2])\n",
    "    \n",
    "\n",
    "    \n",
    "print(\"length of circuits_Alice_check_decoy_eve : {}\".format(len(circuits_Alice_check_decoy_eve)))\n",
    "\n",
    "circuits_Alice_check_decoy_eve[0].draw()"
   ]
  },
  {
   "cell_type": "code",
   "execution_count": 47,
   "metadata": {},
   "outputs": [
    {
     "name": "stdout",
     "output_type": "stream",
     "text": [
      "length of circuits_Alice_unlock_and_measure_decoy_eve : 66\n"
     ]
    },
    {
     "data": {
      "text/html": [
       "<pre style=\"word-wrap: normal;white-space: pre;line-height: 15px;\">        ┌───┐┌───┐┌────────────┐┌────────────┐┌───────────┐┌───┐┌─┐»\n",
       "q_0: |0>┤ X ├┤ H ├┤ Rx(5.3233) ├┤ Ry(3.5256) ├┤ Rz(3.543) ├┤ H ├┤M├»\n",
       "        └───┘└───┘└────────────┘└────────────┘└───────────┘└───┘└╥┘»\n",
       " c_0: 0 ═════════════════════════════════════════════════════════╬═»\n",
       "                                                                 ║ »\n",
       " c_1: 0 ═════════════════════════════════════════════════════════╩═»\n",
       "                                                                   »\n",
       "«     ┌────────────┐┌────────────┐┌─────────────┐ ░ ┌───┐┌─┐\n",
       "«q_0: ┤ Rz(2.7402) ├┤ Ry(2.7576) ├┤ Rx(0.95993) ├─░─┤ H ├┤M├\n",
       "«     └────────────┘└────────────┘└─────────────┘ ░ └───┘└╥┘\n",
       "«c_0: ════════════════════════════════════════════════════╩═\n",
       "«                                                           \n",
       "«c_1: ══════════════════════════════════════════════════════\n",
       "«                                                           </pre>"
      ],
      "text/plain": [
       "<qiskit.visualization.text.TextDrawing at 0x7f60f0cc2a90>"
      ]
     },
     "execution_count": 47,
     "metadata": {},
     "output_type": "execute_result"
    }
   ],
   "source": [
    "circuits_Alice_unlock_and_measure_decoy_eve=[]\n",
    "circuits_Alice_unlock_and_measure_decoy_eve.clear()\n",
    "\n",
    "for i in range(((n*3)//4)):\n",
    "    circuits_Alice_unlock_and_measure_decoy_eve.append(circuits_Alice_check_decoy_eve[i]+circuits_Alice_unlock_D[i]+Alice_X_measurement)\n",
    "    \n",
    "\n",
    "print(\"length of circuits_Alice_unlock_and_measure_decoy_eve : {}\".format(len(circuits_Alice_unlock_and_measure_decoy_eve)))\n",
    "\n",
    "circuits_Alice_unlock_and_measure_decoy_eve[0].draw()"
   ]
  },
  {
   "cell_type": "code",
   "execution_count": 48,
   "metadata": {},
   "outputs": [
    {
     "name": "stdout",
     "output_type": "stream",
     "text": [
      "{'01': 21, '11': 650, '00': 52, '10': 301}\n"
     ]
    }
   ],
   "source": [
    "job_sim1_eve = qiskit.execute(circuits_Alice_unlock_and_measure_decoy_eve, backend_sim, shots=1024)\n",
    "result_sim1_eve = job_sim1_eve.result()\n",
    "counts1_eve = result_sim1_eve.get_counts(circuits_Alice_unlock_and_measure_decoy_eve[0])\n",
    "print(counts1_eve)"
   ]
  },
  {
   "cell_type": "code",
   "execution_count": 49,
   "metadata": {},
   "outputs": [
    {
     "name": "stdout",
     "output_type": "stream",
     "text": [
      "Alice_measure_decoy_result_eve = [1, 0, 0, 1, 1, 0, 1, 1, 1, 1, 1, 0, 0, 0, 1, 1, 0, 0, 1, 1, 1, 1, 1, 1, 0, 0, 1, 1, 0, 1, 1, 0, 0, 1, 1, 1, 0, 1, 1, 1, 1, 1, 1, 1, 1, 1, 0, 1, 1, 1, 1, 1, 0, 1, 1, 1, 1, 0, 1, 1, 0, 1, 0, 1, 1, 1]\n"
     ]
    }
   ],
   "source": [
    "# get result of Alice measuring decoy photons\n",
    "\n",
    "Alice_measure_decoy_result_eve=[]\n",
    "Alice_measure_decoy_result_eve.clear()\n",
    "\n",
    "for i in range(((n*3)//4)):\n",
    "    Alice_measure_decoy_result_eve.append(int((list(result_sim1_eve.get_counts(circuits_Alice_unlock_and_measure_decoy_eve[i]))[0])[1]))\n",
    "    \n",
    "print(\"Alice_measure_decoy_result_eve = {}\".format(Alice_measure_decoy_result_eve))"
   ]
  },
  {
   "cell_type": "code",
   "execution_count": 50,
   "metadata": {},
   "outputs": [
    {
     "name": "stdout",
     "output_type": "stream",
     "text": [
      "measure 1 = origin 1\n",
      "measure 0 = origin 0\n",
      "measure 0 = origin 0\n",
      "measure 1 != origin 0\n",
      "Different result has been found.\n",
      "measure 1 = origin 1\n",
      "measure 0 = origin 0\n",
      "measure 1 != origin 0\n",
      "Different result has been found.\n",
      "measure 1 = origin 1\n",
      "measure 1 = origin 1\n",
      "measure 1 = origin 1\n",
      "measure 1 = origin 1\n",
      "measure 0 = origin 0\n",
      "measure 0 = origin 0\n",
      "measure 0 = origin 0\n",
      "measure 1 != origin 0\n",
      "Different result has been found.\n",
      "measure 1 = origin 1\n",
      "measure 0 = origin 0\n",
      "measure 0 = origin 0\n",
      "measure 1 = origin 1\n",
      "measure 1 = origin 1\n",
      "measure 1 != origin 0\n",
      "Different result has been found.\n",
      "measure 1 = origin 1\n",
      "measure 1 = origin 1\n",
      "measure 1 != origin 0\n",
      "Different result has been found.\n",
      "measure 0 = origin 0\n",
      "measure 0 = origin 0\n",
      "measure 1 = origin 1\n",
      "measure 1 = origin 1\n",
      "measure 0 = origin 0\n",
      "measure 1 != origin 0\n",
      "Different result has been found.\n",
      "measure 1 = origin 1\n",
      "measure 0 = origin 0\n",
      "measure 0 = origin 0\n",
      "measure 1 = origin 1\n",
      "measure 1 = origin 1\n",
      "measure 1 = origin 1\n",
      "measure 0 = origin 0\n",
      "measure 1 != origin 0\n",
      "Different result has been found.\n",
      "measure 1 = origin 1\n",
      "measure 1 = origin 1\n",
      "measure 1 != origin 0\n",
      "Different result has been found.\n",
      "measure 1 != origin 0\n",
      "Different result has been found.\n",
      "measure 1 = origin 1\n",
      "measure 1 != origin 0\n",
      "Different result has been found.\n",
      "measure 1 = origin 1\n",
      "measure 1 = origin 1\n",
      "measure 0 = origin 0\n",
      "measure 1 = origin 1\n",
      "measure 1 != origin 0\n",
      "Different result has been found.\n",
      "measure 1 != origin 0\n",
      "Different result has been found.\n",
      "measure 1 != origin 0\n",
      "Different result has been found.\n",
      "measure 1 = origin 1\n",
      "measure 0 = origin 0\n",
      "measure 1 = origin 1\n",
      "measure 1 = origin 1\n",
      "measure 1 = origin 1\n",
      "measure 1 = origin 1\n",
      "measure 0 = origin 0\n",
      "measure 1 = origin 1\n",
      "measure 1 != origin 0\n",
      "Different result has been found.\n",
      "measure 0 = origin 0\n",
      "measure 1 != origin 0\n",
      "Different result has been found.\n",
      "measure 0 = origin 0\n",
      "measure 1 = origin 1\n",
      "measure 1 = origin 1\n",
      "measure 1 = origin 1\n",
      "\n",
      "error rate = 22.727272727272727%\n"
     ]
    }
   ],
   "source": [
    "# Check result of decoy photons\n",
    "right_times_decoy_eve = 0\n",
    "\n",
    "for i in range(((n*3)//4)):\n",
    "    if decoy[i]==Alice_measure_decoy_result_eve[i]:\n",
    "        right_times_decoy_eve+=1\n",
    "        print(\"measure {} = origin {}\".format(Alice_measure_decoy_result_eve[i],decoy[i]))\n",
    "    else :\n",
    "        print(\"measure {} != origin {}\".format(Alice_measure_decoy_result_eve[i],decoy[i]))\n",
    "        print(\"Different result has been found.\")\n",
    "\n",
    "\n",
    "print(\"\")\n",
    "        \n",
    "error_rate_decoy_eve=((((n*3)//4)-right_times_decoy_eve)/((n*3)//4))\n",
    "print(\"error rate = {}%\".format(error_rate_decoy_eve*100))"
   ]
  },
  {
   "cell_type": "code",
   "execution_count": 52,
   "metadata": {},
   "outputs": [
    {
     "name": "stdout",
     "output_type": "stream",
     "text": [
      "length of circuits_Bob_unlock_m_and_measure_eve : 132\n"
     ]
    },
    {
     "data": {
      "text/html": [
       "<pre style=\"word-wrap: normal;white-space: pre;line-height: 15px;\">        ┌───┐┌───┐┌───┐┌───┐┌─────────────────────────────┐┌───┐┌───┐┌─┐»\n",
       "q_0: |0>┤ X ├┤ H ├┤ X ├┤ Z ├┤ U3(-4.7124,-4.7124,-4.7124) ├┤ X ├┤ Z ├┤M├»\n",
       "        └───┘└───┘└───┘└───┘└─────────────────────────────┘└───┘└───┘└╥┘»\n",
       " c_0: 0 ══════════════════════════════════════════════════════════════╬═»\n",
       "                                                                      ║ »\n",
       " c_1: 0 ══════════════════════════════════════════════════════════════╩═»\n",
       "                                                                        »\n",
       "«     ┌──────────────────────────┐ ░ ┌───┐┌─┐\n",
       "«q_0: ┤ U3(10.996,10.996,10.996) ├─░─┤ H ├┤M├\n",
       "«     └──────────────────────────┘ ░ └───┘└╥┘\n",
       "«c_0: ═════════════════════════════════════╩═\n",
       "«                                            \n",
       "«c_1: ═══════════════════════════════════════\n",
       "«                                            </pre>"
      ],
      "text/plain": [
       "<qiskit.visualization.text.TextDrawing at 0x7f60f0c6d5f8>"
      ]
     },
     "execution_count": 52,
     "metadata": {},
     "output_type": "execute_result"
    }
   ],
   "source": [
    "# Eve between Step6 and Step7\n",
    "\n",
    "circuits_Bob_unlock_m_and_measure_eve=[]\n",
    "circuits_Bob_unlock_m_and_measure_eve.clear()\n",
    "\n",
    "for i in range(((n*3)//2)):\n",
    "    #circuits_Bob_unlock_m_and_measure_eve.append(circuits_Alice_unlock_m_after_check[i]+ Eve_circ[Eve_basis_step7[i]]+circuits_Bob_unlock_m[i]+Bob_Y_measurement)\n",
    "    circuits_Bob_unlock_m_and_measure_eve.append(circuits_Alice_unlock_m_after_check[i]+ Eve_circ[Eve_basis_step7[i]]+circuits_Bob_unlock_m[i]+Bob_X_measurement)\n",
    "    \n",
    "\n",
    "print(\"length of circuits_Bob_unlock_m_and_measure_eve : {}\".format(len(circuits_Bob_unlock_m_and_measure_eve)))\n",
    "circuits_Bob_unlock_m_and_measure_eve[1].draw()"
   ]
  },
  {
   "cell_type": "code",
   "execution_count": 53,
   "metadata": {},
   "outputs": [
    {
     "name": "stdout",
     "output_type": "stream",
     "text": [
      "{'01': 225, '11': 260, '00': 257, '10': 282}\n"
     ]
    }
   ],
   "source": [
    "job_sim2_eve = qiskit.execute(circuits_Bob_unlock_m_and_measure_eve, backend_sim, shots=1024)\n",
    "result_sim2_eve = job_sim2_eve.result()\n",
    "counts2_eve = result_sim2_eve.get_counts(circuits_Bob_unlock_m_and_measure_eve[1])\n",
    "print(counts2_eve)"
   ]
  },
  {
   "cell_type": "code",
   "execution_count": 54,
   "metadata": {},
   "outputs": [
    {
     "name": "stdout",
     "output_type": "stream",
     "text": [
      "Bob_measure_M_result_eve = [0, 1, 1, 1, 1, 0, 1, 1, 1, 1, 1, 1, 1, 1, 1, 1, 1, 1, 1, 0, 1, 1, 1, 0, 0, 1, 1, 0, 1, 1, 0, 1, 1, 1, 1, 1, 1, 1, 1, 1, 1, 1, 1, 1, 1, 0, 1, 1, 0, 1, 1, 1, 0, 1, 1, 1, 1, 1, 1, 1, 1, 1, 1, 1, 1, 1, 1, 1, 1, 1, 1, 1, 1, 1, 1, 1, 1, 1, 1, 0, 1, 1, 1, 0, 0, 1, 1, 1, 1, 1, 1, 1, 1, 1, 1, 1, 1, 1, 1, 1, 1, 1, 1, 1, 1, 1, 1, 1, 1, 1, 1, 1, 1, 1, 1, 1, 1, 1, 1, 0, 1, 1, 1, 1, 1, 1, 1, 1, 0, 1, 1, 0]\n"
     ]
    }
   ],
   "source": [
    "# get result of Bob measuring M photons\n",
    "\n",
    "Bob_measure_M_result_eve=[]\n",
    "Bob_measure_M_result_eve.clear()\n",
    "\n",
    "for i in range(((n*3)//2)):\n",
    "    Bob_measure_M_result_eve.append(int((list(result_sim2_eve.get_counts(circuits_Bob_unlock_m_and_measure_eve[i]))[0])[1]))\n",
    "    \n",
    "print(\"Bob_measure_M_result_eve = {}\".format(Bob_measure_M_result_eve))"
   ]
  },
  {
   "cell_type": "code",
   "execution_count": 55,
   "metadata": {},
   "outputs": [
    {
     "name": "stdout",
     "output_type": "stream",
     "text": [
      "Bob_M_length = 132\n",
      "Bob_m_result_eve = [0, 1, 1, 1, 1, 0, 1, 1, 1, 1, 1, 1, 1, 1, 1, 1, 1, 1, 1, 0, 1, 1, 1, 0, 0, 1, 1, 0, 1, 1, 0, 1, 1, 1, 1, 1, 1, 1, 1, 1, 1, 1, 1, 1, 1, 0, 1, 1, 0, 1, 1, 1, 0, 1, 1, 1, 1, 1, 1, 1, 1, 1, 1, 1, 1, 1, 1, 1, 1, 1, 1, 1, 1, 1, 1, 1, 1, 1, 1, 0, 1, 1, 1, 0, 0, 1, 1, 1]\n",
      "Bob_XORm_result_eve = [1, 1, 1, 1, 1, 1, 1, 1, 1, 1, 1, 1, 1, 1, 1, 1, 1, 1, 1, 1, 1, 1, 1, 1, 1, 1, 1, 1, 1, 1, 1, 0, 1, 1, 1, 1, 1, 1, 1, 1, 0, 1, 1, 0]\n",
      "\n",
      "message_part1 : [0, 1, 1, 1, 1, 0, 1, 1, 1, 1, 1, 1, 1, 1, 1, 1, 1, 1, 1, 0, 1, 1, 1, 0, 0, 1, 1, 0, 1, 1, 0, 1, 1, 1, 1, 1, 1, 1, 1, 1, 1, 1, 1, 1]\n",
      "message_part2 : [1, 0, 1, 1, 0, 1, 1, 1, 0, 1, 1, 1, 1, 1, 1, 1, 1, 1, 1, 1, 1, 1, 1, 1, 1, 1, 1, 1, 1, 1, 1, 1, 1, 1, 1, 0, 1, 1, 1, 0, 0, 1, 1, 1]\n",
      "XOR_message : [1, 1, 0, 0, 1, 1, 0, 0, 1, 0, 0, 0, 0, 0, 0, 0, 0, 0, 0, 1, 0, 0, 0, 1, 1, 0, 0, 1, 0, 0, 1, 0, 0, 0, 0, 1, 0, 0, 0, 1, 1, 0, 0, 0]\n",
      "Bob_XOR_m_eve : [1, 1, 0, 0, 1, 1, 0, 0, 1, 0, 0, 0, 0, 0, 0, 0, 0, 0, 0, 1, 0, 0, 0, 1, 1, 0, 0, 1, 0, 0, 1, 0, 0, 0, 0, 1, 0, 0, 0, 1, 1, 0, 0, 0]\n"
     ]
    }
   ],
   "source": [
    "# Bob check XOR\n",
    "\n",
    "Bob_M_length_eve=len(Bob_measure_M_result_eve)\n",
    "print(\"Bob_M_length = {}\".format(Bob_M_length_eve))\n",
    "\n",
    "Bob_m_result_eve=[]\n",
    "Bob_m_result_eve.clear()\n",
    "\n",
    "Bob_XORm_result_eve=[]\n",
    "Bob_XORm_result_eve.clear()\n",
    "\n",
    "for i in range(Bob_M_length_eve):\n",
    "    if i<(2/3)*Bob_M_length_eve:\n",
    "        Bob_m_result_eve.append(Bob_measure_M_result_eve[i])\n",
    "    else:\n",
    "        Bob_XORm_result_eve.append(Bob_measure_M_result_eve[i])\n",
    "        \n",
    "\n",
    "print(\"Bob_m_result_eve = {}\".format(Bob_m_result_eve))\n",
    "\n",
    "print(\"Bob_XORm_result_eve = {}\".format(Bob_XORm_result_eve))\n",
    "     \n",
    "print()    \n",
    "\n",
    "Bob_XOR_m_eve=[]  \n",
    "Bob_XOR_m_eve.clear()\n",
    "\n",
    "XOR_message(Bob_m_result_eve,Bob_XOR_m_eve)\n",
    "print(\"Bob_XOR_m_eve : {}\".format(Bob_XOR_m_eve))"
   ]
  },
  {
   "cell_type": "code",
   "execution_count": 56,
   "metadata": {},
   "outputs": [
    {
     "name": "stdout",
     "output_type": "stream",
     "text": [
      "XOR(m) 1 = XORm 1\n",
      "XOR(m) 1 = XORm 1\n",
      "XOR(m) 0 != XORm 1\n",
      "Different result has been found.\n",
      "XOR(m) 0 != XORm 1\n",
      "Different result has been found.\n",
      "XOR(m) 1 = XORm 1\n",
      "XOR(m) 1 = XORm 1\n",
      "XOR(m) 0 != XORm 1\n",
      "Different result has been found.\n",
      "XOR(m) 0 != XORm 1\n",
      "Different result has been found.\n",
      "XOR(m) 1 = XORm 1\n",
      "XOR(m) 0 != XORm 1\n",
      "Different result has been found.\n",
      "XOR(m) 0 != XORm 1\n",
      "Different result has been found.\n",
      "XOR(m) 0 != XORm 1\n",
      "Different result has been found.\n",
      "XOR(m) 0 != XORm 1\n",
      "Different result has been found.\n",
      "XOR(m) 0 != XORm 1\n",
      "Different result has been found.\n",
      "XOR(m) 0 != XORm 1\n",
      "Different result has been found.\n",
      "XOR(m) 0 != XORm 1\n",
      "Different result has been found.\n",
      "XOR(m) 0 != XORm 1\n",
      "Different result has been found.\n",
      "XOR(m) 0 != XORm 1\n",
      "Different result has been found.\n",
      "XOR(m) 0 != XORm 1\n",
      "Different result has been found.\n",
      "XOR(m) 1 = XORm 1\n",
      "XOR(m) 0 != XORm 1\n",
      "Different result has been found.\n",
      "XOR(m) 0 != XORm 1\n",
      "Different result has been found.\n",
      "XOR(m) 0 != XORm 1\n",
      "Different result has been found.\n",
      "XOR(m) 1 = XORm 1\n",
      "XOR(m) 1 = XORm 1\n",
      "XOR(m) 0 != XORm 1\n",
      "Different result has been found.\n",
      "XOR(m) 0 != XORm 1\n",
      "Different result has been found.\n",
      "XOR(m) 1 = XORm 1\n",
      "XOR(m) 0 != XORm 1\n",
      "Different result has been found.\n",
      "XOR(m) 0 != XORm 1\n",
      "Different result has been found.\n",
      "XOR(m) 1 = XORm 1\n",
      "XOR(m) 0 = XORm 0\n",
      "XOR(m) 0 != XORm 1\n",
      "Different result has been found.\n",
      "XOR(m) 0 != XORm 1\n",
      "Different result has been found.\n",
      "XOR(m) 0 != XORm 1\n",
      "Different result has been found.\n",
      "XOR(m) 1 = XORm 1\n",
      "XOR(m) 0 != XORm 1\n",
      "Different result has been found.\n",
      "XOR(m) 0 != XORm 1\n",
      "Different result has been found.\n",
      "XOR(m) 0 != XORm 1\n",
      "Different result has been found.\n",
      "XOR(m) 1 = XORm 1\n",
      "XOR(m) 1 != XORm 0\n",
      "Different result has been found.\n",
      "XOR(m) 0 != XORm 1\n",
      "Different result has been found.\n",
      "XOR(m) 0 != XORm 1\n",
      "Different result has been found.\n",
      "XOR(m) 0 = XORm 0\n",
      "\n",
      "XOR(m') != XOR(m)'\n"
     ]
    }
   ],
   "source": [
    "# Bob checks XOR(message)\n",
    "\n",
    "total_times_XOR_eve = int((1/3)*Bob_M_length_eve)\n",
    "right_times_XOR_eve = 0\n",
    "\n",
    "for i in range(total_times_XOR_eve):\n",
    "    if Bob_XOR_m_eve[i]==Bob_XORm_result_eve[i]:\n",
    "        right_times_XOR_eve+=1\n",
    "        print(\"XOR(m) {} = XORm {}\".format(Bob_XOR_m_eve[i],Bob_XORm_result_eve[i]))\n",
    "    else :\n",
    "        print(\"XOR(m) {} != XORm {}\".format(Bob_XOR_m_eve[i],Bob_XORm_result_eve[i]))\n",
    "        print(\"Different result has been found.\")\n",
    "\n",
    "\n",
    "print(\"\")\n",
    "\n",
    "if right_times_XOR_eve==total_times_XOR_eve:\n",
    "    print(\"XOR(m') == XOR(m)'\")\n",
    "else:\n",
    "    print(\"XOR(m') != XOR(m)'\")"
   ]
  },
  {
   "cell_type": "code",
   "execution_count": 57,
   "metadata": {},
   "outputs": [
    {
     "name": "stdout",
     "output_type": "stream",
     "text": [
      "Bob_m_result_eve = [0, 1, 1, 1, 1, 0, 1, 1, 1, 1, 1, 1, 1, 1, 1, 1, 1, 1, 1, 0, 1, 1, 1, 0, 0, 1, 1, 0, 1, 1, 0, 1, 1, 1, 1, 1, 1, 1, 1, 1, 1, 1, 1, 1, 1, 0, 1, 1, 0, 1, 1, 1, 0, 1, 1, 1, 1, 1, 1, 1, 1, 1, 1, 1, 1, 1, 1, 1, 1, 1, 1, 1, 1, 1, 1, 1, 1, 1, 1, 0, 1, 1, 1, 0, 0, 1, 1, 1]\n",
      "Bob_message_eve = {ÿîmÿûwÿÿþç\n"
     ]
    }
   ],
   "source": [
    "# Bob gets message m\n",
    "\n",
    "print(\"Bob_m_result_eve = {}\".format(Bob_m_result_eve))\n",
    "    \n",
    "\n",
    "Bob_message_eve = Message_Word(Bob_m_result_eve,int(len(Bob_m_result_eve)/8))\n",
    "print(\"Bob_message_eve = {}\".format(Bob_message_eve))"
   ]
  },
  {
   "cell_type": "code",
   "execution_count": null,
   "metadata": {},
   "outputs": [],
   "source": []
  }
 ],
 "metadata": {
  "kernelspec": {
   "display_name": "Python 3",
   "language": "python",
   "name": "python3"
  },
  "language_info": {
   "codemirror_mode": {
    "name": "ipython",
    "version": 3
   },
   "file_extension": ".py",
   "mimetype": "text/x-python",
   "name": "python",
   "nbconvert_exporter": "python",
   "pygments_lexer": "ipython3",
   "version": "3.7.3"
  }
 },
 "nbformat": 4,
 "nbformat_minor": 2
}
