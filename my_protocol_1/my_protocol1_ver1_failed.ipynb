{
 "cells": [
  {
   "cell_type": "code",
   "execution_count": 1,
   "metadata": {},
   "outputs": [],
   "source": [
    "from qiskit import QuantumCircuit, ClassicalRegister, QuantumRegister\n",
    "import numpy as np\n",
    "import qiskit\n",
    "%matplotlib inline\n",
    "import random"
   ]
  },
  {
   "cell_type": "code",
   "execution_count": 2,
   "metadata": {},
   "outputs": [
    {
     "name": "stdout",
     "output_type": "stream",
     "text": [
      "message : [1, 0, 0, 1, 1, 1, 0, 1]\n"
     ]
    }
   ],
   "source": [
    "# Step0\n",
    "\n",
    "n=8  # length of message = n, n must be multiple of 4.\n",
    "\n",
    "def random_01str(list,length):\n",
    "    for i in range(length):\n",
    "        list.append(random.randint(0,1))\n",
    "        \n",
    "message = []\n",
    "message.clear()\n",
    "random_01str(message,n)\n",
    "print(\"message : {}\".format(message))"
   ]
  },
  {
   "cell_type": "code",
   "execution_count": 3,
   "metadata": {},
   "outputs": [
    {
     "name": "stdout",
     "output_type": "stream",
     "text": [
      "message_part1 : [1, 0, 0, 1]\n",
      "message_part2 : [1, 1, 0, 1]\n",
      "XOR_message : [0, 1, 0, 0]\n",
      "XOR_m : [0, 1, 0, 0]\n"
     ]
    }
   ],
   "source": [
    "def XOR_message(list1,list2):\n",
    "    list_part1=[]\n",
    "    list_part1.clear()\n",
    "    list_part2=[]\n",
    "    list_part2.clear()\n",
    "    for i in range(len(list1)//2):\n",
    "        list_part1.append(list1[i])\n",
    "        list_part2.append(list1[i+(len(list1)//2)])\n",
    "        \n",
    "    print(\"message_part1 : {}\".format(list_part1))\n",
    "    print(\"message_part2 : {}\".format(list_part2))\n",
    "        \n",
    "    XOR_list=[]\n",
    "    XOR_list.clear()\n",
    "    for j in range(len(list1)//2):\n",
    "        if list_part1[j]==list_part2[j]:\n",
    "            XOR_list.append(0)\n",
    "        else:\n",
    "            XOR_list.append(1)\n",
    "    \n",
    "    print(\"XOR_message : {}\".format(XOR_list))\n",
    "    list2.extend(XOR_list)    \n",
    "        \n",
    "        \n",
    "\n",
    "XOR_m=[]  \n",
    "XOR_m.clear()\n",
    "\n",
    "XOR_message(message,XOR_m)\n",
    "print(\"XOR_m : {}\".format(XOR_m))"
   ]
  },
  {
   "cell_type": "code",
   "execution_count": 4,
   "metadata": {},
   "outputs": [
    {
     "name": "stdout",
     "output_type": "stream",
     "text": [
      "m_XOR_m : [1, 0, 0, 1, 1, 1, 0, 1, 0, 1, 0, 0]\n"
     ]
    }
   ],
   "source": [
    "m_XOR_m=[]  \n",
    "m_XOR_m.clear()\n",
    "m_XOR_m=message+XOR_m\n",
    "print(\"m_XOR_m : {}\".format(m_XOR_m))"
   ]
  },
  {
   "cell_type": "code",
   "execution_count": 5,
   "metadata": {},
   "outputs": [
    {
     "name": "stdout",
     "output_type": "stream",
     "text": [
      "preshared_string : [2, 2, 1, 2, 2, 1]\n"
     ]
    }
   ],
   "source": [
    "preshared_string=[]  \n",
    "preshared_string.clear()\n",
    "\n",
    "def random_012str(list1,length):\n",
    "    for i in range(length):\n",
    "        list1.append(random.randint(0,2))\n",
    "        \n",
    "random_012str(preshared_string,(n*3)//4)\n",
    "print(\"preshared_string : {}\".format(preshared_string))"
   ]
  },
  {
   "cell_type": "code",
   "execution_count": 6,
   "metadata": {},
   "outputs": [
    {
     "name": "stdout",
     "output_type": "stream",
     "text": [
      "m_XOR_m ,I(0) or Y(1): [1, 0, 0, 1, 1, 1, 0, 1, 0, 1, 0, 0]\n"
     ]
    },
    {
     "data": {
      "text/plain": [
       "<qiskit.extensions.standard.h.HGate at 0x7f45617e47f0>"
      ]
     },
     "execution_count": 6,
     "metadata": {},
     "output_type": "execute_result"
    }
   ],
   "source": [
    "# Step1 : depends on m||XOR(m), operate N |0> qubits with H(0) and H,Y(1)\n",
    "print(\"m_XOR_m ,I(0) or Y(1): {}\".format(m_XOR_m))\n",
    "\n",
    "# generate one qubit\n",
    "\n",
    "q = QuantumRegister(1,'q')\n",
    "c = ClassicalRegister(2,'c')\n",
    "\n",
    "# Alice\n",
    "m_circ0 = QuantumCircuit(q,c)  # |+>\n",
    "m_circ0.h(q[0])  \n",
    "#m_circ0.barrier(q)\n",
    "\n",
    "m_circ1 = QuantumCircuit(q,c)  # |->\n",
    "m_circ1.x(q[0])\n",
    "m_circ1.h(q[0])\n",
    "#m_circ1.barrier(q)\n",
    "\n",
    "\n",
    "#m_circ0.draw()\n",
    "#m_circ1.draw()"
   ]
  },
  {
   "cell_type": "code",
   "execution_count": 7,
   "metadata": {},
   "outputs": [
    {
     "name": "stdout",
     "output_type": "stream",
     "text": [
      "length of circuits_m_XOR_m : 12\n"
     ]
    },
    {
     "data": {
      "text/html": [
       "<pre style=\"word-wrap: normal;white-space: pre;line-height: 15px;\">        ┌───┐┌───┐\n",
       "q_0: |0>┤ X ├┤ H ├\n",
       "        └───┘└───┘\n",
       " c_0: 0 ══════════\n",
       "                  \n",
       " c_1: 0 ══════════\n",
       "                  </pre>"
      ],
      "text/plain": [
       "<qiskit.visualization.text.TextDrawing at 0x7f458df10eb8>"
      ]
     },
     "execution_count": 7,
     "metadata": {},
     "output_type": "execute_result"
    }
   ],
   "source": [
    "# generate circuits\n",
    "\n",
    "m_circ=[m_circ0,m_circ1]\n",
    "\n",
    "circuits_m_XOR_m=[]\n",
    "circuits_m_XOR_m.clear()\n",
    "\n",
    "for i in range((n*3)//2):\n",
    "    circuits_m_XOR_m.append(m_circ[m_XOR_m[i]])\n",
    "    \n",
    "print(\"length of circuits_m_XOR_m : {}\".format(len(circuits_m_XOR_m)))\n",
    "circuits_m_XOR_m[0].draw()"
   ]
  },
  {
   "cell_type": "code",
   "execution_count": 8,
   "metadata": {},
   "outputs": [
    {
     "name": "stdout",
     "output_type": "stream",
     "text": [
      "preshared_string : [2, 2, 1, 2, 2, 1]\n",
      "decoy ,0(|+>) or 1(|->) : [0, 0, 0, 0, 0, 0]\n"
     ]
    },
    {
     "data": {
      "text/plain": [
       "<qiskit.extensions.standard.h.HGate at 0x7f456173a9b0>"
      ]
     },
     "execution_count": 8,
     "metadata": {},
     "output_type": "execute_result"
    }
   ],
   "source": [
    "# Step2 : depends on Pre-shared String, insert decoy photons (random qubits) for each two m_XOR_m qubits\n",
    "#         0 --> insert in the middle, 1 --> insert at the left side, 2 --> insert at the right side\n",
    "print(\"preshared_string : {}\".format(preshared_string))\n",
    "\n",
    "#decoy_01=[]\n",
    "#decoy_01.clear()\n",
    "#random_01str(decoy_01,(n*3)//4)\n",
    "#print(\"decoy_01 ,0(0) or 1(1) : {}\".format(decoy_01))\n",
    "\n",
    "#decoy_ZX=[]\n",
    "#decoy_ZX.clear()\n",
    "#random_01str(decoy_ZX,(n*3)//4)\n",
    "#print(\"decoy_ZX ,Z(0) or X(1) : {}\".format(decoy_ZX))\n",
    "\n",
    "decoy=[]\n",
    "decoy.clear()\n",
    "random_01str(decoy,(n*3)//4)\n",
    "print(\"decoy ,0(|+>) or 1(|->) : {}\".format(decoy))\n",
    "\n",
    "\n",
    "Decoy_circ2 = QuantumCircuit(q,c)  # |+>\n",
    "Decoy_circ2.h(q[0])  \n",
    "#Decoy_circ2.barrier(q)\n",
    "\n",
    "Decoy_circ3 = QuantumCircuit(q,c)  # |->\n",
    "Decoy_circ3.x(q[0])\n",
    "Decoy_circ3.h(q[0])\n",
    "#Decoy_circ3.barrier(q)\n",
    "\n",
    "\n",
    "#Decoy_circ2.draw()\n",
    "#Decoy_circ3.draw()"
   ]
  },
  {
   "cell_type": "code",
   "execution_count": 9,
   "metadata": {},
   "outputs": [
    {
     "name": "stdout",
     "output_type": "stream",
     "text": [
      "length of circuits_Decoy : 6\n"
     ]
    },
    {
     "data": {
      "text/html": [
       "<pre style=\"word-wrap: normal;white-space: pre;line-height: 15px;\">        ┌───┐\n",
       "q_0: |0>┤ H ├\n",
       "        └───┘\n",
       " c_0: 0 ═════\n",
       "             \n",
       " c_1: 0 ═════\n",
       "             </pre>"
      ],
      "text/plain": [
       "<qiskit.visualization.text.TextDrawing at 0x7f456173a4e0>"
      ]
     },
     "execution_count": 9,
     "metadata": {},
     "output_type": "execute_result"
    }
   ],
   "source": [
    "# generate circuits\n",
    "\n",
    "Decoy_circ=[Decoy_circ2,Decoy_circ3]\n",
    "\n",
    "circuits_Decoy=[]\n",
    "circuits_Decoy.clear()\n",
    "\n",
    "for i in range((n*3)//4):\n",
    "    circuits_Decoy.append(Decoy_circ[decoy[i]])\n",
    "    \n",
    "print(\"length of circuits_Decoy : {}\".format(len(circuits_Decoy)))\n",
    "circuits_Decoy[0].draw()"
   ]
  },
  {
   "cell_type": "code",
   "execution_count": 10,
   "metadata": {},
   "outputs": [
    {
     "name": "stdout",
     "output_type": "stream",
     "text": [
      "length of circuits_MD_step2 : 18\n"
     ]
    },
    {
     "data": {
      "text/html": [
       "<pre style=\"word-wrap: normal;white-space: pre;line-height: 15px;\">        ┌───┐┌───┐\n",
       "q_0: |0>┤ X ├┤ H ├\n",
       "        └───┘└───┘\n",
       " c_0: 0 ══════════\n",
       "                  \n",
       " c_1: 0 ══════════\n",
       "                  </pre>"
      ],
      "text/plain": [
       "<qiskit.visualization.text.TextDrawing at 0x7f458df32048>"
      ]
     },
     "execution_count": 10,
     "metadata": {},
     "output_type": "execute_result"
    }
   ],
   "source": [
    "circuits_MD_step2=[]\n",
    "circuits_MD_step2.clear()\n",
    "\n",
    "for i in range((n*3)//4):\n",
    "    if preshared_string[i]==0:  # mdm\n",
    "        circuits_MD_step2.append(circuits_m_XOR_m[2*i])\n",
    "        circuits_MD_step2.append(circuits_Decoy[i])\n",
    "        circuits_MD_step2.append(circuits_m_XOR_m[2*i+1])\n",
    "    elif preshared_string[i]==1:  #dmm\n",
    "        circuits_MD_step2.append(circuits_Decoy[i])\n",
    "        circuits_MD_step2.append(circuits_m_XOR_m[2*i])\n",
    "        circuits_MD_step2.append(circuits_m_XOR_m[2*i+1])\n",
    "    elif preshared_string[i]==2:  #mmd\n",
    "        circuits_MD_step2.append(circuits_m_XOR_m[2*i])\n",
    "        circuits_MD_step2.append(circuits_m_XOR_m[2*i+1])\n",
    "        circuits_MD_step2.append(circuits_Decoy[i])\n",
    "    \n",
    "\n",
    "    \n",
    "print(\"length of circuits_MD_step2 : {}\".format(len(circuits_MD_step2)))\n",
    "circuits_MD_step2[0].draw()"
   ]
  },
  {
   "cell_type": "code",
   "execution_count": 11,
   "metadata": {},
   "outputs": [
    {
     "name": "stdout",
     "output_type": "stream",
     "text": [
      "Alice_lock_rx : [247, 228, 109, 325, 296, 157, 160, 233, 285, 134, 87, 122, 18, 51, 80, 17, 261, 219]\n",
      "Alice_lock_ry : [104, 297, 122, 201, 80, 138, 290, 66, 200, 55, 255, 255, 349, 89, 59, 345, 215, 347]\n",
      "Alice_lock_rz : [152, 205, 114, 110, 198, 187, 27, 32, 359, 285, 156, 266, 208, 269, 325, 162, 184, 29]\n"
     ]
    }
   ],
   "source": [
    "# Step3 : Alice_lock\n",
    "\n",
    "def random_lock(list1,length):\n",
    "    for i in range(length):\n",
    "        list1.append(random.randint(0,360))\n",
    "    \n",
    "Alice_lock_rx=[]  \n",
    "Alice_lock_rx.clear()    \n",
    "random_lock(Alice_lock_rx,((n*3)//4)+((n*3)//2))\n",
    "\n",
    "Alice_lock_ry=[]  \n",
    "Alice_lock_ry.clear()    \n",
    "random_lock(Alice_lock_ry,((n*3)//4)+((n*3)//2))\n",
    "\n",
    "Alice_lock_rz=[]  \n",
    "Alice_lock_rz.clear()    \n",
    "random_lock(Alice_lock_rz,((n*3)//4)+((n*3)//2))\n",
    "\n",
    "print(\"Alice_lock_rx : {}\".format(Alice_lock_rx))\n",
    "#print(\"length of Alice_lock_rx : {}\".format(len(Alice_lock_rx)))\n",
    "print(\"Alice_lock_ry : {}\".format(Alice_lock_ry))\n",
    "#print(\"length of Alice_lock_ry : {}\".format(len(Alice_lock_ry)))\n",
    "print(\"Alice_lock_rz : {}\".format(Alice_lock_rz))\n",
    "#print(\"length of Alice_lock_rz : {}\".format(len(Alice_lock_rz)))"
   ]
  },
  {
   "cell_type": "code",
   "execution_count": 12,
   "metadata": {},
   "outputs": [
    {
     "name": "stdout",
     "output_type": "stream",
     "text": [
      "length of circuits_Alice_lock_rx : 18\n"
     ]
    },
    {
     "data": {
      "text/html": [
       "<pre style=\"word-wrap: normal;white-space: pre;line-height: 15px;\">        ┌───────────┐\n",
       "q_0: |0>┤ Rx(4.311) ├\n",
       "        └───────────┘\n",
       " c_0: 0 ═════════════\n",
       "                     \n",
       " c_1: 0 ═════════════\n",
       "                     </pre>"
      ],
      "text/plain": [
       "<qiskit.visualization.text.TextDrawing at 0x7f4561761e48>"
      ]
     },
     "execution_count": 12,
     "metadata": {},
     "output_type": "execute_result"
    }
   ],
   "source": [
    "circuits_Alice_lock_rx=[]\n",
    "circuits_Alice_lock_rx.clear()\n",
    "\n",
    "for i in range(((n*3)//4)+((n*3)//2)):\n",
    "    Rx_circ = QuantumCircuit(q,c) \n",
    "    Rx_circ.rx(2*np.pi*Alice_lock_rx[i]/360,q[0])\n",
    "    #Rx_circ.barrier(q)\n",
    "    circuits_Alice_lock_rx.append(Rx_circ)\n",
    "    \n",
    "print(\"length of circuits_Alice_lock_rx : {}\".format(len(circuits_Alice_lock_rx)))\n",
    "circuits_Alice_lock_rx[0].draw()"
   ]
  },
  {
   "cell_type": "code",
   "execution_count": 13,
   "metadata": {},
   "outputs": [
    {
     "name": "stdout",
     "output_type": "stream",
     "text": [
      "length of circuits_Alice_lock_ry : 18\n"
     ]
    },
    {
     "data": {
      "text/html": [
       "<pre style=\"word-wrap: normal;white-space: pre;line-height: 15px;\">        ┌────────────┐\n",
       "q_0: |0>┤ Ry(1.8151) ├\n",
       "        └────────────┘\n",
       " c_0: 0 ══════════════\n",
       "                      \n",
       " c_1: 0 ══════════════\n",
       "                      </pre>"
      ],
      "text/plain": [
       "<qiskit.visualization.text.TextDrawing at 0x7f456173a940>"
      ]
     },
     "execution_count": 13,
     "metadata": {},
     "output_type": "execute_result"
    }
   ],
   "source": [
    "circuits_Alice_lock_ry=[]\n",
    "circuits_Alice_lock_ry.clear()\n",
    "\n",
    "for i in range(((n*3)//4)+((n*3)//2)):\n",
    "    Ry_circ = QuantumCircuit(q,c) \n",
    "    Ry_circ.ry(2*np.pi*Alice_lock_ry[i]/360,q[0])\n",
    "    #Ry_circ.barrier(q)\n",
    "    circuits_Alice_lock_ry.append(Ry_circ)\n",
    "    \n",
    "print(\"length of circuits_Alice_lock_ry : {}\".format(len(circuits_Alice_lock_ry)))\n",
    "circuits_Alice_lock_ry[0].draw()"
   ]
  },
  {
   "cell_type": "code",
   "execution_count": 14,
   "metadata": {},
   "outputs": [
    {
     "name": "stdout",
     "output_type": "stream",
     "text": [
      "length of circuits_Alice_lock_rz : 18\n"
     ]
    },
    {
     "data": {
      "text/html": [
       "<pre style=\"word-wrap: normal;white-space: pre;line-height: 15px;\">        ┌────────────┐\n",
       "q_0: |0>┤ Rz(2.6529) ├\n",
       "        └────────────┘\n",
       " c_0: 0 ══════════════\n",
       "                      \n",
       " c_1: 0 ══════════════\n",
       "                      </pre>"
      ],
      "text/plain": [
       "<qiskit.visualization.text.TextDrawing at 0x7f4560eb8780>"
      ]
     },
     "execution_count": 14,
     "metadata": {},
     "output_type": "execute_result"
    }
   ],
   "source": [
    "circuits_Alice_lock_rz=[]\n",
    "circuits_Alice_lock_rz.clear()\n",
    "\n",
    "for i in range(((n*3)//4)+((n*3)//2)):\n",
    "    Rz_circ = QuantumCircuit(q,c) \n",
    "    Rz_circ.rz(2*np.pi*Alice_lock_rz[i]/360,q[0])\n",
    "    #Rz_circ.barrier(q)\n",
    "    circuits_Alice_lock_rz.append(Rz_circ)\n",
    "    \n",
    "print(\"length of circuits_Alice_lock_rz : {}\".format(len(circuits_Alice_lock_rz)))\n",
    "circuits_Alice_lock_rz[0].draw()"
   ]
  },
  {
   "cell_type": "code",
   "execution_count": 15,
   "metadata": {},
   "outputs": [
    {
     "name": "stdout",
     "output_type": "stream",
     "text": [
      "length of circuits_Alice_lock : 18\n"
     ]
    },
    {
     "data": {
      "text/html": [
       "<pre style=\"word-wrap: normal;white-space: pre;line-height: 15px;\">        ┌───────────┐┌────────────┐┌────────────┐\n",
       "q_0: |0>┤ Rx(4.311) ├┤ Ry(1.8151) ├┤ Rz(2.6529) ├\n",
       "        └───────────┘└────────────┘└────────────┘\n",
       " c_0: 0 ═════════════════════════════════════════\n",
       "                                                 \n",
       " c_1: 0 ═════════════════════════════════════════\n",
       "                                                 </pre>"
      ],
      "text/plain": [
       "<qiskit.visualization.text.TextDrawing at 0x7f45617e4390>"
      ]
     },
     "execution_count": 15,
     "metadata": {},
     "output_type": "execute_result"
    }
   ],
   "source": [
    "circuits_Alice_lock=[]\n",
    "circuits_Alice_lock.clear()\n",
    "\n",
    "for i in range(((n*3)//4)+((n*3)//2)):\n",
    "    circuits_Alice_lock.append(circuits_Alice_lock_rx[i]+circuits_Alice_lock_ry[i]+circuits_Alice_lock_rz[i])\n",
    "    \n",
    "print(\"length of circuits_Alice_lock : {}\".format(len(circuits_Alice_lock)))\n",
    "circuits_Alice_lock[0].draw()"
   ]
  },
  {
   "cell_type": "code",
   "execution_count": 16,
   "metadata": {},
   "outputs": [
    {
     "name": "stdout",
     "output_type": "stream",
     "text": [
      "length of circuits_MD_step3 : 18\n"
     ]
    },
    {
     "data": {
      "text/html": [
       "<pre style=\"word-wrap: normal;white-space: pre;line-height: 15px;\">        ┌───┐┌───┐┌───────────┐┌────────────┐┌────────────┐\n",
       "q_0: |0>┤ X ├┤ H ├┤ Rx(4.311) ├┤ Ry(1.8151) ├┤ Rz(2.6529) ├\n",
       "        └───┘└───┘└───────────┘└────────────┘└────────────┘\n",
       " c_0: 0 ═══════════════════════════════════════════════════\n",
       "                                                           \n",
       " c_1: 0 ═══════════════════════════════════════════════════\n",
       "                                                           </pre>"
      ],
      "text/plain": [
       "<qiskit.visualization.text.TextDrawing at 0x7f4561761828>"
      ]
     },
     "execution_count": 16,
     "metadata": {},
     "output_type": "execute_result"
    }
   ],
   "source": [
    "circuits_MD_step3=[]\n",
    "circuits_MD_step3.clear()\n",
    "\n",
    "for i in range(((n*3)//4)+((n*3)//2)):\n",
    "    circuits_MD_step3.append(circuits_MD_step2[i]+circuits_Alice_lock[i])\n",
    "    \n",
    "\n",
    "print(\"length of circuits_MD_step3 : {}\".format(len(circuits_MD_step3)))\n",
    "circuits_MD_step3[0].draw()"
   ]
  },
  {
   "cell_type": "code",
   "execution_count": 17,
   "metadata": {},
   "outputs": [
    {
     "name": "stdout",
     "output_type": "stream",
     "text": [
      "Bob_lock_rx : [169, 185, 72, 164, 303, 303, 254, 60, 289, 247, 187, 138]\n",
      "Bob_lock_ry : [79, 356, 262, 55, 97, 90, 283, 13, 6, 315, 354, 140]\n",
      "Bob_lock_rz : [89, 93, 186, 30, 206, 155, 49, 47, 289, 19, 228, 230]\n"
     ]
    }
   ],
   "source": [
    "# Step4 : Send to Bob and Bob operates M with Bob_lock\n",
    "\n",
    "Bob_lock_rx=[]  \n",
    "Bob_lock_rx.clear()    \n",
    "random_lock(Bob_lock_rx,((n*3)//2))\n",
    "\n",
    "Bob_lock_ry=[]  \n",
    "Bob_lock_ry.clear()    \n",
    "random_lock(Bob_lock_ry,((n*3)//2))\n",
    "\n",
    "Bob_lock_rz=[]  \n",
    "Bob_lock_rz.clear()    \n",
    "random_lock(Bob_lock_rz,((n*3)//2))\n",
    "\n",
    "print(\"Bob_lock_rx : {}\".format(Bob_lock_rx))\n",
    "#print(\"length of Bob_lock_rx : {}\".format(len(Bob_lock_rx)))\n",
    "print(\"Bob_lock_ry : {}\".format(Bob_lock_ry))\n",
    "#print(\"length of Bob_lock_ry : {}\".format(len(Bob_lock_ry)))\n",
    "print(\"Bob_lock_rz : {}\".format(Bob_lock_rz))\n",
    "#print(\"length of Bob_lock_rz : {}\".format(len(Bob_lock_rz)))"
   ]
  },
  {
   "cell_type": "code",
   "execution_count": 18,
   "metadata": {},
   "outputs": [
    {
     "name": "stdout",
     "output_type": "stream",
     "text": [
      "length of circuits_Bob_lock : 12\n"
     ]
    },
    {
     "data": {
      "text/html": [
       "<pre style=\"word-wrap: normal;white-space: pre;line-height: 15px;\">        ┌────────────┐┌────────────┐┌────────────┐\n",
       "q_0: |0>┤ Rx(2.9496) ├┤ Ry(1.3788) ├┤ Rz(1.5533) ├\n",
       "        └────────────┘└────────────┘└────────────┘\n",
       " c_0: 0 ══════════════════════════════════════════\n",
       "                                                  \n",
       " c_1: 0 ══════════════════════════════════════════\n",
       "                                                  </pre>"
      ],
      "text/plain": [
       "<qiskit.visualization.text.TextDrawing at 0x7f4561761e10>"
      ]
     },
     "execution_count": 18,
     "metadata": {},
     "output_type": "execute_result"
    }
   ],
   "source": [
    "circuits_Bob_lock=[]\n",
    "circuits_Bob_lock.clear()\n",
    "\n",
    "for i in range(((n*3)//2)):\n",
    "    Rx_circ = QuantumCircuit(q,c) \n",
    "    Rx_circ.rx(2*np.pi*Bob_lock_rx[i]/360,q[0])\n",
    "    Ry_circ = QuantumCircuit(q,c) \n",
    "    Ry_circ.ry(2*np.pi*Bob_lock_ry[i]/360,q[0])\n",
    "    Rz_circ = QuantumCircuit(q,c) \n",
    "    Rz_circ.rz(2*np.pi*Bob_lock_rz[i]/360,q[0])\n",
    "    #Rz_circ.barrier(q)\n",
    "    circuits_Bob_lock.append(Rx_circ+Ry_circ+Rz_circ)\n",
    "    \n",
    "print(\"length of circuits_Bob_lock : {}\".format(len(circuits_Bob_lock)))\n",
    "circuits_Bob_lock[0].draw()"
   ]
  },
  {
   "cell_type": "code",
   "execution_count": 19,
   "metadata": {},
   "outputs": [
    {
     "name": "stdout",
     "output_type": "stream",
     "text": [
      "length of circuits_I_and_Bob_lock : 18\n"
     ]
    },
    {
     "data": {
      "text/html": [
       "<pre style=\"word-wrap: normal;white-space: pre;line-height: 15px;\">        ┌────────────┐┌────────────┐┌────────────┐\n",
       "q_0: |0>┤ Rx(2.9496) ├┤ Ry(1.3788) ├┤ Rz(1.5533) ├\n",
       "        └────────────┘└────────────┘└────────────┘\n",
       " c_0: 0 ══════════════════════════════════════════\n",
       "                                                  \n",
       " c_1: 0 ══════════════════════════════════════════\n",
       "                                                  </pre>"
      ],
      "text/plain": [
       "<qiskit.visualization.text.TextDrawing at 0x7f45617e4320>"
      ]
     },
     "execution_count": 19,
     "metadata": {},
     "output_type": "execute_result"
    }
   ],
   "source": [
    "# not lock decoy\n",
    "\n",
    "I_circ = QuantumCircuit(q,c)  # Identity\n",
    "I_circ.iden(q[0])\n",
    "#I_circ.barrier(q)\n",
    "#I_circ.draw()\n",
    "\n",
    "\n",
    "circuits_I_and_Bob_lock=[]\n",
    "circuits_I_and_Bob_lock.clear()\n",
    "\n",
    "for i in range((n*3)//4):\n",
    "    if preshared_string[i]==0:  # mdm\n",
    "        circuits_I_and_Bob_lock.append(circuits_Bob_lock[2*i])\n",
    "        circuits_I_and_Bob_lock.append(I_circ)\n",
    "        circuits_I_and_Bob_lock.append(circuits_Bob_lock[2*i+1])\n",
    "    elif preshared_string[i]==1:  #dmm\n",
    "        circuits_I_and_Bob_lock.append(I_circ)\n",
    "        circuits_I_and_Bob_lock.append(circuits_Bob_lock[2*i])\n",
    "        circuits_I_and_Bob_lock.append(circuits_Bob_lock[2*i+1])\n",
    "    elif preshared_string[i]==2:  #mmd\n",
    "        circuits_I_and_Bob_lock.append(circuits_Bob_lock[2*i])\n",
    "        circuits_I_and_Bob_lock.append(circuits_Bob_lock[2*i+1])\n",
    "        circuits_I_and_Bob_lock.append(I_circ)\n",
    "    \n",
    "\n",
    "    \n",
    "print(\"length of circuits_I_and_Bob_lock : {}\".format(len(circuits_I_and_Bob_lock)))\n",
    "circuits_I_and_Bob_lock[0].draw()"
   ]
  },
  {
   "cell_type": "code",
   "execution_count": 20,
   "metadata": {},
   "outputs": [
    {
     "name": "stdout",
     "output_type": "stream",
     "text": [
      "length of circuits_MD_step4 : 18\n"
     ]
    },
    {
     "data": {
      "text/html": [
       "<pre style=\"word-wrap: normal;white-space: pre;line-height: 15px;\">        ┌───┐┌────────────┐┌────────────┐┌────────────┐┌────────────┐»\n",
       "q_0: |0>┤ H ├┤ Rx(3.9794) ├┤ Ry(5.1836) ├┤ Rz(3.5779) ├┤ Rx(3.2289) ├»\n",
       "        └───┘└────────────┘└────────────┘└────────────┘└────────────┘»\n",
       " c_0: 0 ═════════════════════════════════════════════════════════════»\n",
       "                                                                     »\n",
       " c_1: 0 ═════════════════════════════════════════════════════════════»\n",
       "                                                                     »\n",
       "«     ┌────────────┐┌────────────┐\n",
       "«q_0: ┤ Ry(6.2134) ├┤ Rz(1.6232) ├\n",
       "«     └────────────┘└────────────┘\n",
       "«c_0: ════════════════════════════\n",
       "«                                 \n",
       "«c_1: ════════════════════════════\n",
       "«                                 </pre>"
      ],
      "text/plain": [
       "<qiskit.visualization.text.TextDrawing at 0x7f4560ec9fd0>"
      ]
     },
     "execution_count": 20,
     "metadata": {},
     "output_type": "execute_result"
    }
   ],
   "source": [
    "circuits_MD_step4=[]\n",
    "circuits_MD_step4.clear()\n",
    "\n",
    "for i in range(((n*3)//4)+((n*3)//2)):\n",
    "        circuits_MD_step4.append(circuits_MD_step3[i]+circuits_I_and_Bob_lock[i])\n",
    "    \n",
    "\n",
    "print(\"length of circuits_MD_step4 : {}\".format(len(circuits_MD_step4)))\n",
    "circuits_MD_step4[1].draw()"
   ]
  },
  {
   "cell_type": "code",
   "execution_count": 21,
   "metadata": {},
   "outputs": [
    {
     "name": "stdout",
     "output_type": "stream",
     "text": [
      "length of circuits_Alice_check_decoy : 6\n",
      "length of circuits_Alice_m_after_check : 12\n"
     ]
    },
    {
     "data": {
      "text/html": [
       "<pre style=\"word-wrap: normal;white-space: pre;line-height: 15px;\">        ┌───┐┌────────────┐┌────────────┐┌────────────┐┌────┐\n",
       "q_0: |0>┤ H ├┤ Rx(1.9024) ├┤ Ry(2.1293) ├┤ Rz(1.9897) ├┤ Id ├\n",
       "        └───┘└────────────┘└────────────┘└────────────┘└────┘\n",
       " c_0: 0 ═════════════════════════════════════════════════════\n",
       "                                                             \n",
       " c_1: 0 ═════════════════════════════════════════════════════\n",
       "                                                             </pre>"
      ],
      "text/plain": [
       "<qiskit.visualization.text.TextDrawing at 0x7f4560ec9e80>"
      ]
     },
     "execution_count": 21,
     "metadata": {},
     "output_type": "execute_result"
    }
   ],
   "source": [
    "# Step5 : Send to Alice, and Alice checks decoy\n",
    "\n",
    "circuits_Alice_check_decoy=[]\n",
    "circuits_Alice_check_decoy.clear()\n",
    "\n",
    "circuits_Alice_m_after_check=[]\n",
    "circuits_Alice_m_after_check.clear()\n",
    "\n",
    "for i in range((n*3)//4):\n",
    "    if preshared_string[i]==0:  # mdm\n",
    "        circuits_Alice_m_after_check.append(circuits_MD_step4[3*i])\n",
    "        circuits_Alice_check_decoy.append(circuits_MD_step4[3*i+1])\n",
    "        circuits_Alice_m_after_check.append(circuits_MD_step4[3*i+2])\n",
    "    elif preshared_string[i]==1:  #dmm\n",
    "        circuits_Alice_check_decoy.append(circuits_MD_step4[3*i])\n",
    "        circuits_Alice_m_after_check.append(circuits_MD_step4[3*i+1])\n",
    "        circuits_Alice_m_after_check.append(circuits_MD_step4[3*i+2])\n",
    "    elif preshared_string[i]==2:  #mmd\n",
    "        circuits_Alice_m_after_check.append(circuits_MD_step4[3*i])\n",
    "        circuits_Alice_m_after_check.append(circuits_MD_step4[3*i+1])\n",
    "        circuits_Alice_check_decoy.append(circuits_MD_step4[3*i+2])\n",
    "    \n",
    "\n",
    "    \n",
    "print(\"length of circuits_Alice_check_decoy : {}\".format(len(circuits_Alice_check_decoy)))\n",
    "print(\"length of circuits_Alice_m_after_check : {}\".format(len(circuits_Alice_m_after_check)))\n",
    "\n",
    "circuits_Alice_check_decoy[0].draw()\n",
    "#circuits_Alice_m_after_check[0].draw()"
   ]
  },
  {
   "cell_type": "code",
   "execution_count": 31,
   "metadata": {},
   "outputs": [
    {
     "name": "stdout",
     "output_type": "stream",
     "text": [
      "Alice_unlock_rx : [113, 132, 251, 35, 64, 203, 200, 127, 75, 226, 273, 238, 342, 309, 280, 343, 99, 141]\n",
      "Alice_unlock_ry : [256, 63, 238, 159, 280, 222, 70, 294, 160, 305, 105, 105, 11, 271, 301, 15, 145, 13]\n",
      "Alice_unlock_rz : [208, 155, 246, 250, 162, 173, 333, 328, 1, 75, 204, 94, 152, 91, 35, 198, 176, 331]\n",
      "length of Alice_unlock_rx : 18\n",
      "length of Alice_unlock_ry : 18\n",
      "length of Alice_unlock_rz : 18\n"
     ]
    }
   ],
   "source": [
    "Alice_unlock_rx=[]  \n",
    "Alice_unlock_rx.clear()    \n",
    "\n",
    "Alice_unlock_ry=[]  \n",
    "Alice_unlock_ry.clear()    \n",
    "\n",
    "Alice_unlock_rz=[]  \n",
    "Alice_unlock_rz.clear()    \n",
    "\n",
    "for i in range(((n*3)//4)+((n*3)//2)):\n",
    "    Alice_unlock_rx.append(360-Alice_lock_rx[i]) \n",
    "    Alice_unlock_ry.append(360-Alice_lock_ry[i]) \n",
    "    Alice_unlock_rz.append(360-Alice_lock_rz[i]) \n",
    "       \n",
    "    \n",
    "print(\"Alice_unlock_rx : {}\".format(Alice_unlock_rx))\n",
    "print(\"Alice_unlock_ry : {}\".format(Alice_unlock_ry))\n",
    "print(\"Alice_unlock_rz : {}\".format(Alice_unlock_rz))\n",
    "print(\"length of Alice_unlock_rx : {}\".format(len(Alice_unlock_rx)))\n",
    "print(\"length of Alice_unlock_ry : {}\".format(len(Alice_unlock_ry)))\n",
    "print(\"length of Alice_unlock_rz : {}\".format(len(Alice_unlock_rz)))"
   ]
  },
  {
   "cell_type": "code",
   "execution_count": 37,
   "metadata": {},
   "outputs": [
    {
     "name": "stdout",
     "output_type": "stream",
     "text": [
      "length of circuits_Alice_unlock : 18\n"
     ]
    },
    {
     "data": {
      "text/html": [
       "<pre style=\"word-wrap: normal;white-space: pre;line-height: 15px;\">        ┌────────────┐┌───────────┐┌────────────┐\n",
       "q_0: |0>┤ Rz(3.6303) ├┤ Ry(4.468) ├┤ Rx(1.9722) ├\n",
       "        └────────────┘└───────────┘└────────────┘\n",
       " c_0: 0 ═════════════════════════════════════════\n",
       "                                                 \n",
       " c_1: 0 ═════════════════════════════════════════\n",
       "                                                 </pre>"
      ],
      "text/plain": [
       "<qiskit.visualization.text.TextDrawing at 0x7f4560e7bcc0>"
      ]
     },
     "execution_count": 37,
     "metadata": {},
     "output_type": "execute_result"
    }
   ],
   "source": [
    "circuits_Alice_unlock=[]\n",
    "circuits_Alice_unlock.clear()\n",
    "\n",
    "for i in range(((n*3)//4)+((n*3)//2)):\n",
    "    Rx_circ = QuantumCircuit(q,c) \n",
    "    Rx_circ.rx(2*np.pi*Alice_unlock_rx[i]/360,q[0])\n",
    "    Ry_circ = QuantumCircuit(q,c) \n",
    "    Ry_circ.ry(2*np.pi*Alice_unlock_ry[i]/360,q[0])\n",
    "    Rz_circ = QuantumCircuit(q,c) \n",
    "    Rz_circ.rz(2*np.pi*Alice_unlock_rz[i]/360,q[0])\n",
    "    #Rz_circ.barrier(q)\n",
    "    circuits_Alice_unlock.append(Rz_circ+Ry_circ+Rx_circ)\n",
    "    \n",
    "print(\"length of circuits_Alice_unlock : {}\".format(len(circuits_Alice_unlock)))\n",
    "circuits_Alice_unlock[0].draw()"
   ]
  },
  {
   "cell_type": "code",
   "execution_count": 38,
   "metadata": {},
   "outputs": [
    {
     "name": "stdout",
     "output_type": "stream",
     "text": [
      "length of circuits_Alice_unlock_decoy : 6\n",
      "length of circuits_Alice_unlock_m : 12\n"
     ]
    },
    {
     "data": {
      "text/html": [
       "<pre style=\"word-wrap: normal;white-space: pre;line-height: 15px;\">        ┌────────────┐┌────────────┐┌────────────┐\n",
       "q_0: |0>┤ Rz(4.2935) ├┤ Ry(4.1539) ├┤ Rx(4.3808) ├\n",
       "        └────────────┘└────────────┘└────────────┘\n",
       " c_0: 0 ══════════════════════════════════════════\n",
       "                                                  \n",
       " c_1: 0 ══════════════════════════════════════════\n",
       "                                                  </pre>"
      ],
      "text/plain": [
       "<qiskit.visualization.text.TextDrawing at 0x7f4560da5cf8>"
      ]
     },
     "execution_count": 38,
     "metadata": {},
     "output_type": "execute_result"
    }
   ],
   "source": [
    "# Alice unlocks and measures decoy              \n",
    "\n",
    "circuits_Alice_unlock_decoy=[]\n",
    "circuits_Alice_unlock_decoy.clear()\n",
    "\n",
    "\n",
    "circuits_Alice_unlock_m=[]\n",
    "circuits_Alice_unlock_m.clear()\n",
    "\n",
    "for i in range((n*3)//4):\n",
    "    if preshared_string[i]==0:  # mdm\n",
    "        circuits_Alice_unlock_m.append(circuits_Alice_unlock[3*i])\n",
    "        circuits_Alice_unlock_decoy.append(circuits_Alice_unlock[3*i+1])\n",
    "        circuits_Alice_unlock_m.append(circuits_Alice_unlock[3*i+2])\n",
    "    elif preshared_string[i]==1:  #dmm\n",
    "        circuits_Alice_unlock_decoy.append(circuits_Alice_unlock[3*i])\n",
    "        circuits_Alice_unlock_m.append(circuits_Alice_unlock[3*i+1])\n",
    "        circuits_Alice_unlock_m.append(circuits_Alice_unlock[3*i+2])\n",
    "    elif preshared_string[i]==2:  #mmd\n",
    "        circuits_Alice_unlock_m.append(circuits_Alice_unlock[3*i])\n",
    "        circuits_Alice_unlock_m.append(circuits_Alice_unlock[3*i+1])\n",
    "        circuits_Alice_unlock_decoy.append(circuits_Alice_unlock[3*i+2])\n",
    "    \n",
    "\n",
    "    \n",
    "print(\"length of circuits_Alice_unlock_decoy : {}\".format(len(circuits_Alice_unlock_decoy)))\n",
    "print(\"length of circuits_Alice_unlock_m : {}\".format(len(circuits_Alice_unlock_m)))\n",
    "\n",
    "circuits_Alice_unlock_decoy[0].draw()\n",
    "#circuits_Alice_unlock_m[0].draw()"
   ]
  },
  {
   "cell_type": "code",
   "execution_count": 39,
   "metadata": {},
   "outputs": [
    {
     "name": "stdout",
     "output_type": "stream",
     "text": [
      "length of circuits_Alice_unlock_and_measure_decoy : 6\n"
     ]
    },
    {
     "data": {
      "text/html": [
       "<pre style=\"word-wrap: normal;white-space: pre;line-height: 15px;\">        ┌───┐┌────────────┐┌────────────┐┌────────────┐┌────┐┌────────────┐»\n",
       "q_0: |0>┤ H ├┤ Rx(1.9024) ├┤ Ry(2.1293) ├┤ Rz(1.9897) ├┤ Id ├┤ Rz(4.2935) ├»\n",
       "        └───┘└────────────┘└────────────┘└────────────┘└────┘└────────────┘»\n",
       " c_0: 0 ═══════════════════════════════════════════════════════════════════»\n",
       "                                                                           »\n",
       " c_1: 0 ═══════════════════════════════════════════════════════════════════»\n",
       "                                                                           »\n",
       "«     ┌────────────┐┌────────────┐ ░ ┌───┐┌─┐\n",
       "«q_0: ┤ Ry(4.1539) ├┤ Rx(4.3808) ├─░─┤ H ├┤M├\n",
       "«     └────────────┘└────────────┘ ░ └───┘└╥┘\n",
       "«c_0: ═════════════════════════════════════╩═\n",
       "«                                            \n",
       "«c_1: ═══════════════════════════════════════\n",
       "«                                            </pre>"
      ],
      "text/plain": [
       "<qiskit.visualization.text.TextDrawing at 0x7f45629264a8>"
      ]
     },
     "execution_count": 39,
     "metadata": {},
     "output_type": "execute_result"
    }
   ],
   "source": [
    "# X measurement\n",
    "\n",
    "Alice_X_measurement = QuantumCircuit(q,c) # X basis\n",
    "Alice_X_measurement.barrier(q)\n",
    "Alice_X_measurement.h(q[0])\n",
    "Alice_X_measurement.measure(q[0],c[0])\n",
    "\n",
    "circuits_Alice_unlock_and_measure_decoy=[]\n",
    "circuits_Alice_unlock_and_measure_decoy.clear()\n",
    "\n",
    "for i in range(((n*3)//4)):\n",
    "    circuits_Alice_unlock_and_measure_decoy.append(circuits_Alice_check_decoy[i]+circuits_Alice_unlock_decoy[i]+Alice_X_measurement)\n",
    "    \n",
    "\n",
    "print(\"length of circuits_Alice_unlock_and_measure_decoy : {}\".format(len(circuits_Alice_unlock_and_measure_decoy)))\n",
    "\n",
    "circuits_Alice_unlock_and_measure_decoy[0].draw()"
   ]
  },
  {
   "cell_type": "code",
   "execution_count": 40,
   "metadata": {},
   "outputs": [
    {
     "name": "stdout",
     "output_type": "stream",
     "text": [
      "{'00': 1024}\n"
     ]
    }
   ],
   "source": [
    "from qiskit import execute, BasicAer\n",
    "backend_sim = BasicAer.get_backend('qasm_simulator')\n",
    "\n",
    "job_sim1 = qiskit.execute(circuits_Alice_unlock_and_measure_decoy, backend_sim, shots=1024)\n",
    "result_sim1 = job_sim1.result()\n",
    "counts1 = result_sim1.get_counts(circuits_Alice_unlock_and_measure_decoy[0])\n",
    "print(counts1)"
   ]
  },
  {
   "cell_type": "code",
   "execution_count": 41,
   "metadata": {},
   "outputs": [
    {
     "name": "stdout",
     "output_type": "stream",
     "text": [
      "Alice_measure_decoy_result = [0, 0, 0, 0, 0, 0]\n"
     ]
    }
   ],
   "source": [
    "# get result of Alice measuring decoy photons\n",
    "\n",
    "Alice_measure_decoy_result=[]\n",
    "Alice_measure_decoy_result.clear()\n",
    "\n",
    "for i in range(((n*3)//4)):\n",
    "    Alice_measure_decoy_result.append(int((list(result_sim1.get_counts(circuits_Alice_unlock_and_measure_decoy[i]))[0])[1]))\n",
    "    \n",
    "print(\"Alice_measure_decoy_result = {}\".format(Alice_measure_decoy_result))"
   ]
  },
  {
   "cell_type": "code",
   "execution_count": 43,
   "metadata": {},
   "outputs": [
    {
     "name": "stdout",
     "output_type": "stream",
     "text": [
      "measure 0 = origin 0\n",
      "measure 0 = origin 0\n",
      "measure 0 = origin 0\n",
      "measure 0 = origin 0\n",
      "measure 0 = origin 0\n",
      "measure 0 = origin 0\n",
      "\n",
      "error rate = 0.0%\n"
     ]
    }
   ],
   "source": [
    "# Check result of decoy photons\n",
    "right_times_decoy = 0\n",
    "\n",
    "for i in range(((n*3)//4)):\n",
    "    if decoy[i]==Alice_measure_decoy_result[i]:\n",
    "        right_times_decoy+=1\n",
    "        print(\"measure {} = origin {}\".format(Alice_measure_decoy_result[i],decoy[i]))\n",
    "    else :\n",
    "        print(\"measure {} != origin {}\".format(Alice_measure_decoy_result[i],decoy[i]))\n",
    "        print(\"Different result has been found.\")\n",
    "\n",
    "\n",
    "print(\"\")\n",
    "        \n",
    "error_rate_decoy=((((n*3)//4)-right_times_decoy)/((n*3)//4))\n",
    "print(\"error rate = {}%\".format(error_rate_decoy*100))"
   ]
  },
  {
   "cell_type": "code",
   "execution_count": 44,
   "metadata": {},
   "outputs": [
    {
     "name": "stdout",
     "output_type": "stream",
     "text": [
      "length of circuits_Alice_unlock_m_after_check : 12\n"
     ]
    },
    {
     "data": {
      "text/html": [
       "<pre style=\"word-wrap: normal;white-space: pre;line-height: 15px;\">        ┌───┐┌───┐┌───────────┐┌────────────┐┌────────────┐┌────────────┐»\n",
       "q_0: |0>┤ X ├┤ H ├┤ Rx(4.311) ├┤ Ry(1.8151) ├┤ Rz(2.6529) ├┤ Rx(2.9496) ├»\n",
       "        └───┘└───┘└───────────┘└────────────┘└────────────┘└────────────┘»\n",
       " c_0: 0 ═════════════════════════════════════════════════════════════════»\n",
       "                                                                         »\n",
       " c_1: 0 ═════════════════════════════════════════════════════════════════»\n",
       "                                                                         »\n",
       "«     ┌────────────┐┌────────────┐┌────────────┐┌───────────┐┌────────────┐\n",
       "«q_0: ┤ Ry(1.3788) ├┤ Rz(1.5533) ├┤ Rz(3.6303) ├┤ Ry(4.468) ├┤ Rx(1.9722) ├\n",
       "«     └────────────┘└────────────┘└────────────┘└───────────┘└────────────┘\n",
       "«c_0: ═════════════════════════════════════════════════════════════════════\n",
       "«                                                                          \n",
       "«c_1: ═════════════════════════════════════════════════════════════════════\n",
       "«                                                                          </pre>"
      ],
      "text/plain": [
       "<qiskit.visualization.text.TextDrawing at 0x7f45604fc470>"
      ]
     },
     "execution_count": 44,
     "metadata": {},
     "output_type": "execute_result"
    }
   ],
   "source": [
    "# Step6 : If no Eve, Alice recovers m \n",
    "\n",
    "circuits_Alice_unlock_m_after_check=[]\n",
    "circuits_Alice_unlock_m_after_check.clear()\n",
    "\n",
    "for i in range(((n*3)//2)):\n",
    "    circuits_Alice_unlock_m_after_check.append(circuits_Alice_m_after_check[i] + circuits_Alice_unlock_m[i])\n",
    "    \n",
    "\n",
    "print(\"length of circuits_Alice_unlock_m_after_check : {}\".format(len(circuits_Alice_unlock_m_after_check)))\n",
    "\n",
    "circuits_Alice_unlock_m_after_check[0].draw()"
   ]
  },
  {
   "cell_type": "code",
   "execution_count": null,
   "metadata": {},
   "outputs": [],
   "source": []
  }
 ],
 "metadata": {
  "kernelspec": {
   "display_name": "Python 3",
   "language": "python",
   "name": "python3"
  },
  "language_info": {
   "codemirror_mode": {
    "name": "ipython",
    "version": 3
   },
   "file_extension": ".py",
   "mimetype": "text/x-python",
   "name": "python",
   "nbconvert_exporter": "python",
   "pygments_lexer": "ipython3",
   "version": "3.7.3"
  }
 },
 "nbformat": 4,
 "nbformat_minor": 2
}
